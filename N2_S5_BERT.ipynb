{
  "nbformat": 4,
  "nbformat_minor": 0,
  "metadata": {
    "colab": {
      "name": "N2_S5_BERT.ipynb",
      "provenance": []
    },
    "kernelspec": {
      "name": "python3",
      "display_name": "Python 3"
    },
    "language_info": {
      "name": "python"
    },
    "accelerator": "GPU"
  },
  "cells": [
    {
      "cell_type": "markdown",
      "source": [
        "#Adding Required Libraries"
      ],
      "metadata": {
        "id": "fXEJk_YzeAvU"
      }
    },
    {
      "cell_type": "code",
      "execution_count": null,
      "metadata": {
        "colab": {
          "base_uri": "https://localhost:8080/"
        },
        "id": "5HWVrAkvdzCb",
        "outputId": "9fa9ef9d-094f-4dbe-f03b-ffd4f784b32e"
      },
      "outputs": [
        {
          "output_type": "stream",
          "name": "stdout",
          "text": [
            "Requirement already satisfied: matplotlib in /usr/local/lib/python3.7/dist-packages (3.5.1)\n",
            "Requirement already satisfied: cycler>=0.10 in /usr/local/lib/python3.7/dist-packages (from matplotlib) (0.11.0)\n",
            "Requirement already satisfied: numpy>=1.17 in /usr/local/lib/python3.7/dist-packages (from matplotlib) (1.19.5)\n",
            "Requirement already satisfied: packaging>=20.0 in /usr/local/lib/python3.7/dist-packages (from matplotlib) (21.3)\n",
            "Requirement already satisfied: fonttools>=4.22.0 in /usr/local/lib/python3.7/dist-packages (from matplotlib) (4.28.5)\n",
            "Requirement already satisfied: python-dateutil>=2.7 in /usr/local/lib/python3.7/dist-packages (from matplotlib) (2.8.2)\n",
            "Requirement already satisfied: kiwisolver>=1.0.1 in /usr/local/lib/python3.7/dist-packages (from matplotlib) (1.3.2)\n",
            "Requirement already satisfied: pillow>=6.2.0 in /usr/local/lib/python3.7/dist-packages (from matplotlib) (7.1.2)\n",
            "Requirement already satisfied: pyparsing>=2.2.1 in /usr/local/lib/python3.7/dist-packages (from matplotlib) (3.0.6)\n",
            "Requirement already satisfied: six>=1.5 in /usr/local/lib/python3.7/dist-packages (from python-dateutil>=2.7->matplotlib) (1.15.0)\n"
          ]
        }
      ],
      "source": [
        "!pip install matplotlib --upgrade"
      ]
    },
    {
      "cell_type": "code",
      "source": [
        "!pip install tensorflow --upgrade"
      ],
      "metadata": {
        "colab": {
          "base_uri": "https://localhost:8080/"
        },
        "id": "Z6gfF_8GeFSl",
        "outputId": "1ca2ac17-5bd9-4912-b8b3-863949b592fe"
      },
      "execution_count": null,
      "outputs": [
        {
          "output_type": "stream",
          "name": "stdout",
          "text": [
            "Requirement already satisfied: tensorflow in /usr/local/lib/python3.7/dist-packages (2.7.0)\n",
            "Requirement already satisfied: google-pasta>=0.1.1 in /usr/local/lib/python3.7/dist-packages (from tensorflow) (0.2.0)\n",
            "Requirement already satisfied: tensorflow-io-gcs-filesystem>=0.21.0 in /usr/local/lib/python3.7/dist-packages (from tensorflow) (0.23.1)\n",
            "Requirement already satisfied: protobuf>=3.9.2 in /usr/local/lib/python3.7/dist-packages (from tensorflow) (3.17.3)\n",
            "Requirement already satisfied: astunparse>=1.6.0 in /usr/local/lib/python3.7/dist-packages (from tensorflow) (1.6.3)\n",
            "Requirement already satisfied: wheel<1.0,>=0.32.0 in /usr/local/lib/python3.7/dist-packages (from tensorflow) (0.37.1)\n",
            "Requirement already satisfied: h5py>=2.9.0 in /usr/local/lib/python3.7/dist-packages (from tensorflow) (3.1.0)\n",
            "Requirement already satisfied: wrapt>=1.11.0 in /usr/local/lib/python3.7/dist-packages (from tensorflow) (1.13.3)\n",
            "Requirement already satisfied: opt-einsum>=2.3.2 in /usr/local/lib/python3.7/dist-packages (from tensorflow) (3.3.0)\n",
            "Requirement already satisfied: flatbuffers<3.0,>=1.12 in /usr/local/lib/python3.7/dist-packages (from tensorflow) (2.0)\n",
            "Requirement already satisfied: tensorflow-estimator<2.8,~=2.7.0rc0 in /usr/local/lib/python3.7/dist-packages (from tensorflow) (2.7.0)\n",
            "Requirement already satisfied: gast<0.5.0,>=0.2.1 in /usr/local/lib/python3.7/dist-packages (from tensorflow) (0.4.0)\n",
            "Requirement already satisfied: six>=1.12.0 in /usr/local/lib/python3.7/dist-packages (from tensorflow) (1.15.0)\n",
            "Requirement already satisfied: libclang>=9.0.1 in /usr/local/lib/python3.7/dist-packages (from tensorflow) (12.0.0)\n",
            "Requirement already satisfied: absl-py>=0.4.0 in /usr/local/lib/python3.7/dist-packages (from tensorflow) (0.12.0)\n",
            "Requirement already satisfied: typing-extensions>=3.6.6 in /usr/local/lib/python3.7/dist-packages (from tensorflow) (3.10.0.2)\n",
            "Requirement already satisfied: grpcio<2.0,>=1.24.3 in /usr/local/lib/python3.7/dist-packages (from tensorflow) (1.43.0)\n",
            "Requirement already satisfied: termcolor>=1.1.0 in /usr/local/lib/python3.7/dist-packages (from tensorflow) (1.1.0)\n",
            "Requirement already satisfied: numpy>=1.14.5 in /usr/local/lib/python3.7/dist-packages (from tensorflow) (1.19.5)\n",
            "Requirement already satisfied: tensorboard~=2.6 in /usr/local/lib/python3.7/dist-packages (from tensorflow) (2.7.0)\n",
            "Requirement already satisfied: keras<2.8,>=2.7.0rc0 in /usr/local/lib/python3.7/dist-packages (from tensorflow) (2.7.0)\n",
            "Requirement already satisfied: keras-preprocessing>=1.1.1 in /usr/local/lib/python3.7/dist-packages (from tensorflow) (1.1.2)\n",
            "Requirement already satisfied: cached-property in /usr/local/lib/python3.7/dist-packages (from h5py>=2.9.0->tensorflow) (1.5.2)\n",
            "Requirement already satisfied: google-auth-oauthlib<0.5,>=0.4.1 in /usr/local/lib/python3.7/dist-packages (from tensorboard~=2.6->tensorflow) (0.4.6)\n",
            "Requirement already satisfied: requests<3,>=2.21.0 in /usr/local/lib/python3.7/dist-packages (from tensorboard~=2.6->tensorflow) (2.23.0)\n",
            "Requirement already satisfied: google-auth<3,>=1.6.3 in /usr/local/lib/python3.7/dist-packages (from tensorboard~=2.6->tensorflow) (1.35.0)\n",
            "Requirement already satisfied: markdown>=2.6.8 in /usr/local/lib/python3.7/dist-packages (from tensorboard~=2.6->tensorflow) (3.3.6)\n",
            "Requirement already satisfied: tensorboard-plugin-wit>=1.6.0 in /usr/local/lib/python3.7/dist-packages (from tensorboard~=2.6->tensorflow) (1.8.1)\n",
            "Requirement already satisfied: tensorboard-data-server<0.7.0,>=0.6.0 in /usr/local/lib/python3.7/dist-packages (from tensorboard~=2.6->tensorflow) (0.6.1)\n",
            "Requirement already satisfied: werkzeug>=0.11.15 in /usr/local/lib/python3.7/dist-packages (from tensorboard~=2.6->tensorflow) (1.0.1)\n",
            "Requirement already satisfied: setuptools>=41.0.0 in /usr/local/lib/python3.7/dist-packages (from tensorboard~=2.6->tensorflow) (57.4.0)\n",
            "Requirement already satisfied: rsa<5,>=3.1.4 in /usr/local/lib/python3.7/dist-packages (from google-auth<3,>=1.6.3->tensorboard~=2.6->tensorflow) (4.8)\n",
            "Requirement already satisfied: pyasn1-modules>=0.2.1 in /usr/local/lib/python3.7/dist-packages (from google-auth<3,>=1.6.3->tensorboard~=2.6->tensorflow) (0.2.8)\n",
            "Requirement already satisfied: cachetools<5.0,>=2.0.0 in /usr/local/lib/python3.7/dist-packages (from google-auth<3,>=1.6.3->tensorboard~=2.6->tensorflow) (4.2.4)\n",
            "Requirement already satisfied: requests-oauthlib>=0.7.0 in /usr/local/lib/python3.7/dist-packages (from google-auth-oauthlib<0.5,>=0.4.1->tensorboard~=2.6->tensorflow) (1.3.0)\n",
            "Requirement already satisfied: importlib-metadata>=4.4 in /usr/local/lib/python3.7/dist-packages (from markdown>=2.6.8->tensorboard~=2.6->tensorflow) (4.10.0)\n",
            "Requirement already satisfied: zipp>=0.5 in /usr/local/lib/python3.7/dist-packages (from importlib-metadata>=4.4->markdown>=2.6.8->tensorboard~=2.6->tensorflow) (3.7.0)\n",
            "Requirement already satisfied: pyasn1<0.5.0,>=0.4.6 in /usr/local/lib/python3.7/dist-packages (from pyasn1-modules>=0.2.1->google-auth<3,>=1.6.3->tensorboard~=2.6->tensorflow) (0.4.8)\n",
            "Requirement already satisfied: idna<3,>=2.5 in /usr/local/lib/python3.7/dist-packages (from requests<3,>=2.21.0->tensorboard~=2.6->tensorflow) (2.10)\n",
            "Requirement already satisfied: chardet<4,>=3.0.2 in /usr/local/lib/python3.7/dist-packages (from requests<3,>=2.21.0->tensorboard~=2.6->tensorflow) (3.0.4)\n",
            "Requirement already satisfied: certifi>=2017.4.17 in /usr/local/lib/python3.7/dist-packages (from requests<3,>=2.21.0->tensorboard~=2.6->tensorflow) (2021.10.8)\n",
            "Requirement already satisfied: urllib3!=1.25.0,!=1.25.1,<1.26,>=1.21.1 in /usr/local/lib/python3.7/dist-packages (from requests<3,>=2.21.0->tensorboard~=2.6->tensorflow) (1.24.3)\n",
            "Requirement already satisfied: oauthlib>=3.0.0 in /usr/local/lib/python3.7/dist-packages (from requests-oauthlib>=0.7.0->google-auth-oauthlib<0.5,>=0.4.1->tensorboard~=2.6->tensorflow) (3.1.1)\n"
          ]
        }
      ]
    },
    {
      "cell_type": "code",
      "source": [
        "import pandas as pd\n",
        "import matplotlib.pyplot as plt\n",
        "import seaborn as sns"
      ],
      "metadata": {
        "id": "r0t7qbq6eGxr"
      },
      "execution_count": null,
      "outputs": []
    },
    {
      "cell_type": "markdown",
      "source": [
        "#Upload Data Set"
      ],
      "metadata": {
        "id": "H8X0s60leT8s"
      }
    },
    {
      "cell_type": "code",
      "source": [
        "train = pd.read_csv(\"COVID19_train_N2_S5.csv\",encoding='ISO-8859-1')\n",
        "test = pd.read_csv(\"COVID19_test_N2_S5.csv\",encoding='ISO-8859-1')"
      ],
      "metadata": {
        "id": "idh16_ByeIm0"
      },
      "execution_count": null,
      "outputs": []
    },
    {
      "cell_type": "code",
      "source": [
        "train.info()"
      ],
      "metadata": {
        "colab": {
          "base_uri": "https://localhost:8080/"
        },
        "id": "7FHOOuzieZJb",
        "outputId": "73d72ac2-68c2-4ee5-ff7f-d87185812148"
      },
      "execution_count": null,
      "outputs": [
        {
          "output_type": "stream",
          "name": "stdout",
          "text": [
            "<class 'pandas.core.frame.DataFrame'>\n",
            "RangeIndex: 41157 entries, 0 to 41156\n",
            "Data columns (total 2 columns):\n",
            " #   Column         Non-Null Count  Dtype \n",
            "---  ------         --------------  ----- \n",
            " 0   OriginalTweet  41157 non-null  object\n",
            " 1   Sentiment      41157 non-null  object\n",
            "dtypes: object(2)\n",
            "memory usage: 643.2+ KB\n"
          ]
        }
      ]
    },
    {
      "cell_type": "code",
      "source": [
        "train.head()"
      ],
      "metadata": {
        "colab": {
          "base_uri": "https://localhost:8080/",
          "height": 206
        },
        "id": "o4SdulIWeZpz",
        "outputId": "2168b38a-829a-4b51-af1c-7d2e465c465a"
      },
      "execution_count": null,
      "outputs": [
        {
          "output_type": "execute_result",
          "data": {
            "text/html": [
              "\n",
              "  <div id=\"df-9bc661aa-1abd-415f-944b-526f30a3a2b0\">\n",
              "    <div class=\"colab-df-container\">\n",
              "      <div>\n",
              "<style scoped>\n",
              "    .dataframe tbody tr th:only-of-type {\n",
              "        vertical-align: middle;\n",
              "    }\n",
              "\n",
              "    .dataframe tbody tr th {\n",
              "        vertical-align: top;\n",
              "    }\n",
              "\n",
              "    .dataframe thead th {\n",
              "        text-align: right;\n",
              "    }\n",
              "</style>\n",
              "<table border=\"1\" class=\"dataframe\">\n",
              "  <thead>\n",
              "    <tr style=\"text-align: right;\">\n",
              "      <th></th>\n",
              "      <th>OriginalTweet</th>\n",
              "      <th>Sentiment</th>\n",
              "    </tr>\n",
              "  </thead>\n",
              "  <tbody>\n",
              "    <tr>\n",
              "      <th>0</th>\n",
              "      <td>&lt;user&gt; &lt;user&gt; &lt;user&gt; &lt;url&gt; and &lt;url&gt; and &lt;url&gt;</td>\n",
              "      <td>Neutral</td>\n",
              "    </tr>\n",
              "    <tr>\n",
              "      <th>1</th>\n",
              "      <td>advice talk to your neighbours family to excha...</td>\n",
              "      <td>Positive</td>\n",
              "    </tr>\n",
              "    <tr>\n",
              "      <th>2</th>\n",
              "      <td>coronavirus australia : woolworths to give eld...</td>\n",
              "      <td>Positive</td>\n",
              "    </tr>\n",
              "    <tr>\n",
              "      <th>3</th>\n",
              "      <td>my food stock is not the only one which is emp...</td>\n",
              "      <td>Positive</td>\n",
              "    </tr>\n",
              "    <tr>\n",
              "      <th>4</th>\n",
              "      <td>me , ready to go at supermarket during the &lt;ha...</td>\n",
              "      <td>Extremely Negative</td>\n",
              "    </tr>\n",
              "  </tbody>\n",
              "</table>\n",
              "</div>\n",
              "      <button class=\"colab-df-convert\" onclick=\"convertToInteractive('df-9bc661aa-1abd-415f-944b-526f30a3a2b0')\"\n",
              "              title=\"Convert this dataframe to an interactive table.\"\n",
              "              style=\"display:none;\">\n",
              "        \n",
              "  <svg xmlns=\"http://www.w3.org/2000/svg\" height=\"24px\"viewBox=\"0 0 24 24\"\n",
              "       width=\"24px\">\n",
              "    <path d=\"M0 0h24v24H0V0z\" fill=\"none\"/>\n",
              "    <path d=\"M18.56 5.44l.94 2.06.94-2.06 2.06-.94-2.06-.94-.94-2.06-.94 2.06-2.06.94zm-11 1L8.5 8.5l.94-2.06 2.06-.94-2.06-.94L8.5 2.5l-.94 2.06-2.06.94zm10 10l.94 2.06.94-2.06 2.06-.94-2.06-.94-.94-2.06-.94 2.06-2.06.94z\"/><path d=\"M17.41 7.96l-1.37-1.37c-.4-.4-.92-.59-1.43-.59-.52 0-1.04.2-1.43.59L10.3 9.45l-7.72 7.72c-.78.78-.78 2.05 0 2.83L4 21.41c.39.39.9.59 1.41.59.51 0 1.02-.2 1.41-.59l7.78-7.78 2.81-2.81c.8-.78.8-2.07 0-2.86zM5.41 20L4 18.59l7.72-7.72 1.47 1.35L5.41 20z\"/>\n",
              "  </svg>\n",
              "      </button>\n",
              "      \n",
              "  <style>\n",
              "    .colab-df-container {\n",
              "      display:flex;\n",
              "      flex-wrap:wrap;\n",
              "      gap: 12px;\n",
              "    }\n",
              "\n",
              "    .colab-df-convert {\n",
              "      background-color: #E8F0FE;\n",
              "      border: none;\n",
              "      border-radius: 50%;\n",
              "      cursor: pointer;\n",
              "      display: none;\n",
              "      fill: #1967D2;\n",
              "      height: 32px;\n",
              "      padding: 0 0 0 0;\n",
              "      width: 32px;\n",
              "    }\n",
              "\n",
              "    .colab-df-convert:hover {\n",
              "      background-color: #E2EBFA;\n",
              "      box-shadow: 0px 1px 2px rgba(60, 64, 67, 0.3), 0px 1px 3px 1px rgba(60, 64, 67, 0.15);\n",
              "      fill: #174EA6;\n",
              "    }\n",
              "\n",
              "    [theme=dark] .colab-df-convert {\n",
              "      background-color: #3B4455;\n",
              "      fill: #D2E3FC;\n",
              "    }\n",
              "\n",
              "    [theme=dark] .colab-df-convert:hover {\n",
              "      background-color: #434B5C;\n",
              "      box-shadow: 0px 1px 3px 1px rgba(0, 0, 0, 0.15);\n",
              "      filter: drop-shadow(0px 1px 2px rgba(0, 0, 0, 0.3));\n",
              "      fill: #FFFFFF;\n",
              "    }\n",
              "  </style>\n",
              "\n",
              "      <script>\n",
              "        const buttonEl =\n",
              "          document.querySelector('#df-9bc661aa-1abd-415f-944b-526f30a3a2b0 button.colab-df-convert');\n",
              "        buttonEl.style.display =\n",
              "          google.colab.kernel.accessAllowed ? 'block' : 'none';\n",
              "\n",
              "        async function convertToInteractive(key) {\n",
              "          const element = document.querySelector('#df-9bc661aa-1abd-415f-944b-526f30a3a2b0');\n",
              "          const dataTable =\n",
              "            await google.colab.kernel.invokeFunction('convertToInteractive',\n",
              "                                                     [key], {});\n",
              "          if (!dataTable) return;\n",
              "\n",
              "          const docLinkHtml = 'Like what you see? Visit the ' +\n",
              "            '<a target=\"_blank\" href=https://colab.research.google.com/notebooks/data_table.ipynb>data table notebook</a>'\n",
              "            + ' to learn more about interactive tables.';\n",
              "          element.innerHTML = '';\n",
              "          dataTable['output_type'] = 'display_data';\n",
              "          await google.colab.output.renderOutput(dataTable, element);\n",
              "          const docLink = document.createElement('div');\n",
              "          docLink.innerHTML = docLinkHtml;\n",
              "          element.appendChild(docLink);\n",
              "        }\n",
              "      </script>\n",
              "    </div>\n",
              "  </div>\n",
              "  "
            ],
            "text/plain": [
              "                                       OriginalTweet           Sentiment\n",
              "0     <user> <user> <user> <url> and <url> and <url>             Neutral\n",
              "1  advice talk to your neighbours family to excha...            Positive\n",
              "2  coronavirus australia : woolworths to give eld...            Positive\n",
              "3  my food stock is not the only one which is emp...            Positive\n",
              "4  me , ready to go at supermarket during the <ha...  Extremely Negative"
            ]
          },
          "metadata": {},
          "execution_count": 62
        }
      ]
    },
    {
      "cell_type": "markdown",
      "source": [
        "#Cleaning Data Set"
      ],
      "metadata": {
        "id": "GcKlEkdyeb4z"
      }
    },
    {
      "cell_type": "markdown",
      "source": [
        "##Deleting Nan Rows"
      ],
      "metadata": {
        "id": "QaObCaUtee2s"
      }
    },
    {
      "cell_type": "code",
      "source": [
        "train.isnull().sum(axis = 0)"
      ],
      "metadata": {
        "colab": {
          "base_uri": "https://localhost:8080/"
        },
        "id": "xBREDxrWedsT",
        "outputId": "1b6474f1-b8b4-404b-c31f-78ef26b27d76"
      },
      "execution_count": null,
      "outputs": [
        {
          "output_type": "execute_result",
          "data": {
            "text/plain": [
              "OriginalTweet    0\n",
              "Sentiment        0\n",
              "dtype: int64"
            ]
          },
          "metadata": {},
          "execution_count": 63
        }
      ]
    },
    {
      "cell_type": "code",
      "source": [
        "test.isnull().sum(axis = 0)"
      ],
      "metadata": {
        "colab": {
          "base_uri": "https://localhost:8080/"
        },
        "id": "r_nTxAwMejuT",
        "outputId": "d2adc02f-c5ac-47e3-86c2-0a4c0094ddc4"
      },
      "execution_count": null,
      "outputs": [
        {
          "output_type": "execute_result",
          "data": {
            "text/plain": [
              "OriginalTweet    0\n",
              "Sentiment        0\n",
              "dtype: int64"
            ]
          },
          "metadata": {},
          "execution_count": 64
        }
      ]
    },
    {
      "cell_type": "code",
      "source": [
        "#train.dropna(subset = [\"OriginalTweet\"],inplace= True)"
      ],
      "metadata": {
        "id": "gCGuKdmKejrT"
      },
      "execution_count": null,
      "outputs": []
    },
    {
      "cell_type": "markdown",
      "source": [
        "Before cleaning the Dataset, let's perform a normalization process that we forgot about. Also some tweets have multiple question marks we should normalize this tweets too."
      ],
      "metadata": {
        "id": "pFOEOurMen9L"
      }
    },
    {
      "cell_type": "markdown",
      "source": [
        "##Normalizing non-ascii characters"
      ],
      "metadata": {
        "id": "2OaUGIRbepV7"
      }
    },
    {
      "cell_type": "code",
      "source": [
        "def remove_non_ascii(tweet):\n",
        "    return \"\".join(c for c in tweet if ord(c)<128)"
      ],
      "metadata": {
        "id": "KHJQd_1Fejor"
      },
      "execution_count": null,
      "outputs": []
    },
    {
      "cell_type": "code",
      "source": [
        "tweet = \"covid-19 wonÃ¢Â’t be similar to the great recession unless unemployment ?? amp; stays ??. at the eod, if the gov steps up for the consumer amp; business, people will still have income. if itÃ¢Â’s necessary to curb activity to beat covid-19, a (temp) gdp retraction shouldnÃ¢Â’t be a surprise.\"\n",
        "print(\"Tweet Before\\n\",tweet)\n",
        "tweet = remove_non_ascii(tweet)\n",
        "print(\"Tweet After\\n\",tweet)"
      ],
      "metadata": {
        "colab": {
          "base_uri": "https://localhost:8080/"
        },
        "id": "Q8pmWxeqejlz",
        "outputId": "d2989134-094d-4f09-d743-d8a93ee3e5ea"
      },
      "execution_count": null,
      "outputs": [
        {
          "output_type": "stream",
          "name": "stdout",
          "text": [
            "Tweet Before\n",
            " covid-19 wonÃ¢Â’t be similar to the great recession unless unemployment ?? amp; stays ??. at the eod, if the gov steps up for the consumer amp; business, people will still have income. if itÃ¢Â’s necessary to curb activity to beat covid-19, a (temp) gdp retraction shouldnÃ¢Â’t be a surprise.\n",
            "Tweet After\n",
            " covid-19 wont be similar to the great recession unless unemployment ?? amp; stays ??. at the eod, if the gov steps up for the consumer amp; business, people will still have income. if its necessary to curb activity to beat covid-19, a (temp) gdp retraction shouldnt be a surprise.\n"
          ]
        }
      ]
    },
    {
      "cell_type": "code",
      "source": [
        "def remove_mult_QM(tweet):\n",
        "  if tweet.count('?') > 5:\n",
        "    return tweet.replace('?','')\n",
        "  else:\n",
        "    return tweet"
      ],
      "metadata": {
        "id": "4kIe8yGWeji7"
      },
      "execution_count": null,
      "outputs": []
    },
    {
      "cell_type": "code",
      "source": [
        "tweet = \"join us for brunel's second public webinar on thursday 02 april, 11am. presented by ?? ????????? ?????, we explore '???????? ??????, ????? ??? ???????????' register here ??\"\n",
        "print(\"Tweet Before\\n\",tweet)\n",
        "tweet = remove_mult_QM(tweet)\n",
        "print(\"Tweet After\\n\",tweet)"
      ],
      "metadata": {
        "colab": {
          "base_uri": "https://localhost:8080/"
        },
        "id": "SVzxePrzejgL",
        "outputId": "0801466f-3214-454f-e241-0cb0002c339f"
      },
      "execution_count": null,
      "outputs": [
        {
          "output_type": "stream",
          "name": "stdout",
          "text": [
            "Tweet Before\n",
            " join us for brunel's second public webinar on thursday 02 april, 11am. presented by ?? ????????? ?????, we explore '???????? ??????, ????? ??? ???????????' register here ??\n",
            "Tweet After\n",
            " join us for brunel's second public webinar on thursday 02 april, 11am. presented by   , we explore ' ,   ' register here \n"
          ]
        }
      ]
    },
    {
      "cell_type": "code",
      "source": [
        "def remove_mult_spaces(tweet):\n",
        "#Some tweets consist of only ?. That is why the try except structure was used.\n",
        "  try:\n",
        "    return re.sub(\"\\s\\s+\" , \" \", tweet)\n",
        "  except:\n",
        "    return tweet"
      ],
      "metadata": {
        "id": "Y0e2dpwgejdj"
      },
      "execution_count": null,
      "outputs": []
    },
    {
      "cell_type": "code",
      "source": [
        "def normalize(tweet):\n",
        "  tweet = remove_non_ascii(tweet)\n",
        "  tweet = remove_mult_QM(tweet)\n",
        "  tweet = remove_mult_spaces(tweet)\n",
        "  return tweet"
      ],
      "metadata": {
        "id": "KL0Kwghjejaz"
      },
      "execution_count": null,
      "outputs": []
    },
    {
      "cell_type": "code",
      "source": [
        "tweet = \"This is a test tweet ???????\"\n",
        "print(\"Tweet Before\\n\",tweet)\n",
        "tweet = normalize(tweet)\n",
        "print(\"Tweet After\\n\",tweet)"
      ],
      "metadata": {
        "colab": {
          "base_uri": "https://localhost:8080/"
        },
        "id": "rWzjcEgrejYT",
        "outputId": "806719fb-ef85-434a-a0e1-aa95538e1d46"
      },
      "execution_count": null,
      "outputs": [
        {
          "output_type": "stream",
          "name": "stdout",
          "text": [
            "Tweet Before\n",
            " This is a test tweet ???????\n",
            "Tweet After\n",
            " This is a test tweet \n"
          ]
        }
      ]
    },
    {
      "cell_type": "code",
      "source": [
        "for i in range(len(train)):\n",
        "  train.iloc[i][\"OriginalTweet\"] = normalize(train.iloc[i][\"OriginalTweet\"])"
      ],
      "metadata": {
        "id": "2NjcQXZgejVk"
      },
      "execution_count": null,
      "outputs": []
    },
    {
      "cell_type": "code",
      "source": [
        "for i in range(len(test)):\n",
        "  test.iloc[i][\"OriginalTweet\"] = normalize(test.iloc[i][\"OriginalTweet\"])"
      ],
      "metadata": {
        "id": "zn-AhLBUejPm"
      },
      "execution_count": null,
      "outputs": []
    },
    {
      "cell_type": "markdown",
      "source": [
        "## Tweet Lenghts"
      ],
      "metadata": {
        "id": "ckrXKQMDe2zr"
      }
    },
    {
      "cell_type": "code",
      "source": [
        "train_lens = []\n",
        "for tweet in train[\"OriginalTweet\"]:\n",
        "  tweet_len = len(tweet.split())\n",
        "  train_lens.append(tweet_len)\n",
        "train[\"tweet_len\"] = train_lens"
      ],
      "metadata": {
        "id": "HciuflPeejMu"
      },
      "execution_count": null,
      "outputs": []
    },
    {
      "cell_type": "code",
      "source": [
        "test_lens = []\n",
        "for tweet in test[\"OriginalTweet\"]:\n",
        "  tweet_len = len(tweet.split())\n",
        "  test_lens.append(tweet_len)\n",
        "test[\"tweet_len\"] = test_lens"
      ],
      "metadata": {
        "id": "QkYTjYM7ejJ0"
      },
      "execution_count": null,
      "outputs": []
    },
    {
      "cell_type": "code",
      "source": [
        "ax = sns.countplot(x='tweet_len',data=train[train['tweet_len']<10], palette='mako')\n",
        "plt.title('Training tweets with less than 10 words')\n",
        "plt.yticks([])\n",
        "ax.bar_label(ax.containers[0])\n",
        "plt.ylabel('count')\n",
        "plt.xlabel('')\n",
        "plt.show()"
      ],
      "metadata": {
        "colab": {
          "base_uri": "https://localhost:8080/",
          "height": 281
        },
        "id": "fR7KAnM6ejHG",
        "outputId": "2662527f-0a57-44ea-dc52-3b47d2ff5e0d"
      },
      "execution_count": null,
      "outputs": [
        {
          "output_type": "display_data",
          "data": {
            "image/png": "[encoded data removed]",
            "text/plain": [
              "<Figure size 432x288 with 1 Axes>"
            ]
          },
          "metadata": {
            "needs_background": "light"
          }
        }
      ]
    },
    {
      "cell_type": "code",
      "source": [
        "ax = sns.countplot(x='tweet_len',data=test[test['tweet_len']<10], palette='mako')\n",
        "plt.title('Testing tweets with less than 10 words')\n",
        "plt.yticks([])\n",
        "ax.bar_label(ax.containers[0])\n",
        "plt.ylabel('count')\n",
        "plt.xlabel('')\n",
        "plt.show()"
      ],
      "metadata": {
        "colab": {
          "base_uri": "https://localhost:8080/",
          "height": 281
        },
        "id": "nsD3KIGQejED",
        "outputId": "8656060d-809e-43e3-e6b8-e5c1c4bd69a1"
      },
      "execution_count": null,
      "outputs": [
        {
          "output_type": "display_data",
          "data": {
            "image/png": "[encoded data removed]",
            "text/plain": [
              "<Figure size 432x288 with 1 Axes>"
            ]
          },
          "metadata": {
            "needs_background": "light"
          }
        }
      ]
    },
    {
      "cell_type": "code",
      "source": [
        "data=train[train['tweet_len']<4]\n",
        "data.head(len(data))"
      ],
      "metadata": {
        "colab": {
          "base_uri": "https://localhost:8080/",
          "height": 1000
        },
        "id": "FzxQbekSejBh",
        "outputId": "05a44449-a9e2-43fe-c1ee-68c76446d81b"
      },
      "execution_count": null,
      "outputs": [
        {
          "output_type": "execute_result",
          "data": {
            "text/html": [
              "\n",
              "  <div id=\"df-a3ba1358-56bb-4cc8-9b68-b989f872c726\">\n",
              "    <div class=\"colab-df-container\">\n",
              "      <div>\n",
              "<style scoped>\n",
              "    .dataframe tbody tr th:only-of-type {\n",
              "        vertical-align: middle;\n",
              "    }\n",
              "\n",
              "    .dataframe tbody tr th {\n",
              "        vertical-align: top;\n",
              "    }\n",
              "\n",
              "    .dataframe thead th {\n",
              "        text-align: right;\n",
              "    }\n",
              "</style>\n",
              "<table border=\"1\" class=\"dataframe\">\n",
              "  <thead>\n",
              "    <tr style=\"text-align: right;\">\n",
              "      <th></th>\n",
              "      <th>OriginalTweet</th>\n",
              "      <th>Sentiment</th>\n",
              "      <th>tweet_len</th>\n",
              "    </tr>\n",
              "  </thead>\n",
              "  <tbody>\n",
              "    <tr>\n",
              "      <th>9073</th>\n",
              "      <td>stop fucking hoarding</td>\n",
              "      <td>Negative</td>\n",
              "      <td>3</td>\n",
              "    </tr>\n",
              "    <tr>\n",
              "      <th>9163</th>\n",
              "      <td>reality check indeed</td>\n",
              "      <td>Neutral</td>\n",
              "      <td>3</td>\n",
              "    </tr>\n",
              "    <tr>\n",
              "      <th>9167</th>\n",
              "      <td>meanwhile at home</td>\n",
              "      <td>Neutral</td>\n",
              "      <td>3</td>\n",
              "    </tr>\n",
              "    <tr>\n",
              "      <th>9776</th>\n",
              "      <td>be like bob</td>\n",
              "      <td>Positive</td>\n",
              "      <td>3</td>\n",
              "    </tr>\n",
              "    <tr>\n",
              "      <th>12047</th>\n",
              "      <td>only in france</td>\n",
              "      <td>Neutral</td>\n",
              "      <td>3</td>\n",
              "    </tr>\n",
              "    <tr>\n",
              "      <th>12399</th>\n",
              "      <td>seems about right</td>\n",
              "      <td>Neutral</td>\n",
              "      <td>3</td>\n",
              "    </tr>\n",
              "    <tr>\n",
              "      <th>12716</th>\n",
              "      <td>stay safe everyone</td>\n",
              "      <td>Positive</td>\n",
              "      <td>3</td>\n",
              "    </tr>\n",
              "    <tr>\n",
              "      <th>13843</th>\n",
              "      <td>. &lt;url&gt;</td>\n",
              "      <td>Neutral</td>\n",
              "      <td>2</td>\n",
              "    </tr>\n",
              "    <tr>\n",
              "      <th>15124</th>\n",
              "      <td>toilet paper anyone</td>\n",
              "      <td>Neutral</td>\n",
              "      <td>3</td>\n",
              "    </tr>\n",
              "    <tr>\n",
              "      <th>15477</th>\n",
              "      <td>supermarkets right now</td>\n",
              "      <td>Neutral</td>\n",
              "      <td>3</td>\n",
              "    </tr>\n",
              "    <tr>\n",
              "      <th>15577</th>\n",
              "      <td>tissue issue</td>\n",
              "      <td>Neutral</td>\n",
              "      <td>2</td>\n",
              "    </tr>\n",
              "    <tr>\n",
              "      <th>16872</th>\n",
              "      <td>cartoon for</td>\n",
              "      <td>Neutral</td>\n",
              "      <td>2</td>\n",
              "    </tr>\n",
              "    <tr>\n",
              "      <th>16989</th>\n",
              "      <td>tp hoarding explained</td>\n",
              "      <td>Neutral</td>\n",
              "      <td>3</td>\n",
              "    </tr>\n",
              "    <tr>\n",
              "      <th>17635</th>\n",
              "      <td>too accurate &lt;number&gt;</td>\n",
              "      <td>Neutral</td>\n",
              "      <td>3</td>\n",
              "    </tr>\n",
              "    <tr>\n",
              "      <th>17937</th>\n",
              "      <td>current situation &lt;url&gt;</td>\n",
              "      <td>Neutral</td>\n",
              "      <td>3</td>\n",
              "    </tr>\n",
              "    <tr>\n",
              "      <th>18977</th>\n",
              "      <td>survival strategy</td>\n",
              "      <td>Neutral</td>\n",
              "      <td>2</td>\n",
              "    </tr>\n",
              "    <tr>\n",
              "      <th>19325</th>\n",
              "      <td>coronavirus is here</td>\n",
              "      <td>Neutral</td>\n",
              "      <td>3</td>\n",
              "    </tr>\n",
              "    <tr>\n",
              "      <th>20467</th>\n",
              "      <td>omg y all</td>\n",
              "      <td>Neutral</td>\n",
              "      <td>3</td>\n",
              "    </tr>\n",
              "    <tr>\n",
              "      <th>21858</th>\n",
              "      <td>parcour quarantine &lt;url&gt;</td>\n",
              "      <td>Neutral</td>\n",
              "      <td>3</td>\n",
              "    </tr>\n",
              "    <tr>\n",
              "      <th>21987</th>\n",
              "      <td>the explained brilliantly</td>\n",
              "      <td>Extremely Positive</td>\n",
              "      <td>3</td>\n",
              "    </tr>\n",
              "    <tr>\n",
              "      <th>22433</th>\n",
              "      <td>man needs a</td>\n",
              "      <td>Neutral</td>\n",
              "      <td>3</td>\n",
              "    </tr>\n",
              "    <tr>\n",
              "      <th>23975</th>\n",
              "      <td>unbelievable &lt;url&gt;</td>\n",
              "      <td>Positive</td>\n",
              "      <td>2</td>\n",
              "    </tr>\n",
              "    <tr>\n",
              "      <th>25022</th>\n",
              "      <td>supermarket lines in</td>\n",
              "      <td>Neutral</td>\n",
              "      <td>3</td>\n",
              "    </tr>\n",
              "    <tr>\n",
              "      <th>26310</th>\n",
              "      <td>clears voice pennsylvania</td>\n",
              "      <td>Positive</td>\n",
              "      <td>3</td>\n",
              "    </tr>\n",
              "    <tr>\n",
              "      <th>29888</th>\n",
              "      <td># &lt;url&gt;</td>\n",
              "      <td>Neutral</td>\n",
              "      <td>2</td>\n",
              "    </tr>\n",
              "    <tr>\n",
              "      <th>29899</th>\n",
              "      <td>roses are red</td>\n",
              "      <td>Neutral</td>\n",
              "      <td>3</td>\n",
              "    </tr>\n",
              "    <tr>\n",
              "      <th>30133</th>\n",
              "      <td>minion world via</td>\n",
              "      <td>Neutral</td>\n",
              "      <td>3</td>\n",
              "    </tr>\n",
              "    <tr>\n",
              "      <th>32028</th>\n",
              "      <td>interesting stuff &lt;url&gt;</td>\n",
              "      <td>Positive</td>\n",
              "      <td>3</td>\n",
              "    </tr>\n",
              "    <tr>\n",
              "      <th>32448</th>\n",
              "      <td>quarantine life</td>\n",
              "      <td>Neutral</td>\n",
              "      <td>2</td>\n",
              "    </tr>\n",
              "    <tr>\n",
              "      <th>32455</th>\n",
              "      <td>! &lt;url&gt;</td>\n",
              "      <td>Neutral</td>\n",
              "      <td>2</td>\n",
              "    </tr>\n",
              "    <tr>\n",
              "      <th>33693</th>\n",
              "      <td>&lt;url&gt; heartbreaking .</td>\n",
              "      <td>Negative</td>\n",
              "      <td>3</td>\n",
              "    </tr>\n",
              "    <tr>\n",
              "      <th>34967</th>\n",
              "      <td>this is devestating</td>\n",
              "      <td>Neutral</td>\n",
              "      <td>3</td>\n",
              "    </tr>\n",
              "    <tr>\n",
              "      <th>35526</th>\n",
              "      <td>amp</td>\n",
              "      <td>Neutral</td>\n",
              "      <td>1</td>\n",
              "    </tr>\n",
              "    <tr>\n",
              "      <th>35908</th>\n",
              "      <td>&lt;url&gt; reading materials</td>\n",
              "      <td>Neutral</td>\n",
              "      <td>3</td>\n",
              "    </tr>\n",
              "    <tr>\n",
              "      <th>37996</th>\n",
              "      <td>crisis averted</td>\n",
              "      <td>Extremely Negative</td>\n",
              "      <td>2</td>\n",
              "    </tr>\n",
              "    <tr>\n",
              "      <th>39290</th>\n",
              "      <td>toilet paper</td>\n",
              "      <td>Neutral</td>\n",
              "      <td>2</td>\n",
              "    </tr>\n",
              "    <tr>\n",
              "      <th>40135</th>\n",
              "      <td>interesting aricle &lt;number&gt;</td>\n",
              "      <td>Positive</td>\n",
              "      <td>3</td>\n",
              "    </tr>\n",
              "    <tr>\n",
              "      <th>40893</th>\n",
              "      <td>together we can</td>\n",
              "      <td>Neutral</td>\n",
              "      <td>3</td>\n",
              "    </tr>\n",
              "  </tbody>\n",
              "</table>\n",
              "</div>\n",
              "      <button class=\"colab-df-convert\" onclick=\"convertToInteractive('df-a3ba1358-56bb-4cc8-9b68-b989f872c726')\"\n",
              "              title=\"Convert this dataframe to an interactive table.\"\n",
              "              style=\"display:none;\">\n",
              "        \n",
              "  <svg xmlns=\"http://www.w3.org/2000/svg\" height=\"24px\"viewBox=\"0 0 24 24\"\n",
              "       width=\"24px\">\n",
              "    <path d=\"M0 0h24v24H0V0z\" fill=\"none\"/>\n",
              "    <path d=\"M18.56 5.44l.94 2.06.94-2.06 2.06-.94-2.06-.94-.94-2.06-.94 2.06-2.06.94zm-11 1L8.5 8.5l.94-2.06 2.06-.94-2.06-.94L8.5 2.5l-.94 2.06-2.06.94zm10 10l.94 2.06.94-2.06 2.06-.94-2.06-.94-.94-2.06-.94 2.06-2.06.94z\"/><path d=\"M17.41 7.96l-1.37-1.37c-.4-.4-.92-.59-1.43-.59-.52 0-1.04.2-1.43.59L10.3 9.45l-7.72 7.72c-.78.78-.78 2.05 0 2.83L4 21.41c.39.39.9.59 1.41.59.51 0 1.02-.2 1.41-.59l7.78-7.78 2.81-2.81c.8-.78.8-2.07 0-2.86zM5.41 20L4 18.59l7.72-7.72 1.47 1.35L5.41 20z\"/>\n",
              "  </svg>\n",
              "      </button>\n",
              "      \n",
              "  <style>\n",
              "    .colab-df-container {\n",
              "      display:flex;\n",
              "      flex-wrap:wrap;\n",
              "      gap: 12px;\n",
              "    }\n",
              "\n",
              "    .colab-df-convert {\n",
              "      background-color: #E8F0FE;\n",
              "      border: none;\n",
              "      border-radius: 50%;\n",
              "      cursor: pointer;\n",
              "      display: none;\n",
              "      fill: #1967D2;\n",
              "      height: 32px;\n",
              "      padding: 0 0 0 0;\n",
              "      width: 32px;\n",
              "    }\n",
              "\n",
              "    .colab-df-convert:hover {\n",
              "      background-color: #E2EBFA;\n",
              "      box-shadow: 0px 1px 2px rgba(60, 64, 67, 0.3), 0px 1px 3px 1px rgba(60, 64, 67, 0.15);\n",
              "      fill: #174EA6;\n",
              "    }\n",
              "\n",
              "    [theme=dark] .colab-df-convert {\n",
              "      background-color: #3B4455;\n",
              "      fill: #D2E3FC;\n",
              "    }\n",
              "\n",
              "    [theme=dark] .colab-df-convert:hover {\n",
              "      background-color: #434B5C;\n",
              "      box-shadow: 0px 1px 3px 1px rgba(0, 0, 0, 0.15);\n",
              "      filter: drop-shadow(0px 1px 2px rgba(0, 0, 0, 0.3));\n",
              "      fill: #FFFFFF;\n",
              "    }\n",
              "  </style>\n",
              "\n",
              "      <script>\n",
              "        const buttonEl =\n",
              "          document.querySelector('#df-a3ba1358-56bb-4cc8-9b68-b989f872c726 button.colab-df-convert');\n",
              "        buttonEl.style.display =\n",
              "          google.colab.kernel.accessAllowed ? 'block' : 'none';\n",
              "\n",
              "        async function convertToInteractive(key) {\n",
              "          const element = document.querySelector('#df-a3ba1358-56bb-4cc8-9b68-b989f872c726');\n",
              "          const dataTable =\n",
              "            await google.colab.kernel.invokeFunction('convertToInteractive',\n",
              "                                                     [key], {});\n",
              "          if (!dataTable) return;\n",
              "\n",
              "          const docLinkHtml = 'Like what you see? Visit the ' +\n",
              "            '<a target=\"_blank\" href=https://colab.research.google.com/notebooks/data_table.ipynb>data table notebook</a>'\n",
              "            + ' to learn more about interactive tables.';\n",
              "          element.innerHTML = '';\n",
              "          dataTable['output_type'] = 'display_data';\n",
              "          await google.colab.output.renderOutput(dataTable, element);\n",
              "          const docLink = document.createElement('div');\n",
              "          docLink.innerHTML = docLinkHtml;\n",
              "          element.appendChild(docLink);\n",
              "        }\n",
              "      </script>\n",
              "    </div>\n",
              "  </div>\n",
              "  "
            ],
            "text/plain": [
              "                     OriginalTweet           Sentiment  tweet_len\n",
              "9073         stop fucking hoarding            Negative          3\n",
              "9163          reality check indeed             Neutral          3\n",
              "9167             meanwhile at home             Neutral          3\n",
              "9776                   be like bob            Positive          3\n",
              "12047               only in france             Neutral          3\n",
              "12399            seems about right             Neutral          3\n",
              "12716           stay safe everyone            Positive          3\n",
              "13843                      . <url>             Neutral          2\n",
              "15124          toilet paper anyone             Neutral          3\n",
              "15477       supermarkets right now             Neutral          3\n",
              "15577                 tissue issue             Neutral          2\n",
              "16872                  cartoon for             Neutral          2\n",
              "16989        tp hoarding explained             Neutral          3\n",
              "17635        too accurate <number>             Neutral          3\n",
              "17937      current situation <url>             Neutral          3\n",
              "18977            survival strategy             Neutral          2\n",
              "19325          coronavirus is here             Neutral          3\n",
              "20467                    omg y all             Neutral          3\n",
              "21858     parcour quarantine <url>             Neutral          3\n",
              "21987    the explained brilliantly  Extremely Positive          3\n",
              "22433                  man needs a             Neutral          3\n",
              "23975           unbelievable <url>            Positive          2\n",
              "25022         supermarket lines in             Neutral          3\n",
              "26310    clears voice pennsylvania            Positive          3\n",
              "29888                      # <url>             Neutral          2\n",
              "29899                roses are red             Neutral          3\n",
              "30133             minion world via             Neutral          3\n",
              "32028      interesting stuff <url>            Positive          3\n",
              "32448              quarantine life             Neutral          2\n",
              "32455                      ! <url>             Neutral          2\n",
              "33693        <url> heartbreaking .            Negative          3\n",
              "34967          this is devestating             Neutral          3\n",
              "35526                          amp             Neutral          1\n",
              "35908      <url> reading materials             Neutral          3\n",
              "37996               crisis averted  Extremely Negative          2\n",
              "39290                 toilet paper             Neutral          2\n",
              "40135  interesting aricle <number>            Positive          3\n",
              "40893              together we can             Neutral          3"
            ]
          },
          "metadata": {},
          "execution_count": 77
        }
      ]
    },
    {
      "cell_type": "code",
      "source": [
        "train = train[train[\"tweet_len\"]>4]"
      ],
      "metadata": {
        "id": "Ss6Z6Sabei_D"
      },
      "execution_count": null,
      "outputs": []
    },
    {
      "cell_type": "code",
      "source": [
        "data=test[test['tweet_len']<4]\n",
        "data.head(len(data))"
      ],
      "metadata": {
        "colab": {
          "base_uri": "https://localhost:8080/",
          "height": 112
        },
        "id": "UvY6LRNcei8V",
        "outputId": "a84b6e69-a356-47e9-c0d7-dff5226bf6dc"
      },
      "execution_count": null,
      "outputs": [
        {
          "output_type": "execute_result",
          "data": {
            "text/html": [
              "\n",
              "  <div id=\"df-9e68e02b-2421-46bc-81e3-d6dc3eba91df\">\n",
              "    <div class=\"colab-df-container\">\n",
              "      <div>\n",
              "<style scoped>\n",
              "    .dataframe tbody tr th:only-of-type {\n",
              "        vertical-align: middle;\n",
              "    }\n",
              "\n",
              "    .dataframe tbody tr th {\n",
              "        vertical-align: top;\n",
              "    }\n",
              "\n",
              "    .dataframe thead th {\n",
              "        text-align: right;\n",
              "    }\n",
              "</style>\n",
              "<table border=\"1\" class=\"dataframe\">\n",
              "  <thead>\n",
              "    <tr style=\"text-align: right;\">\n",
              "      <th></th>\n",
              "      <th>OriginalTweet</th>\n",
              "      <th>Sentiment</th>\n",
              "      <th>tweet_len</th>\n",
              "    </tr>\n",
              "  </thead>\n",
              "  <tbody>\n",
              "    <tr>\n",
              "      <th>2208</th>\n",
              "      <td>good morning &lt;url&gt;</td>\n",
              "      <td>Positive</td>\n",
              "      <td>3</td>\n",
              "    </tr>\n",
              "    <tr>\n",
              "      <th>3368</th>\n",
              "      <td>selfish wankpuffins</td>\n",
              "      <td>Negative</td>\n",
              "      <td>2</td>\n",
              "    </tr>\n",
              "  </tbody>\n",
              "</table>\n",
              "</div>\n",
              "      <button class=\"colab-df-convert\" onclick=\"convertToInteractive('df-9e68e02b-2421-46bc-81e3-d6dc3eba91df')\"\n",
              "              title=\"Convert this dataframe to an interactive table.\"\n",
              "              style=\"display:none;\">\n",
              "        \n",
              "  <svg xmlns=\"http://www.w3.org/2000/svg\" height=\"24px\"viewBox=\"0 0 24 24\"\n",
              "       width=\"24px\">\n",
              "    <path d=\"M0 0h24v24H0V0z\" fill=\"none\"/>\n",
              "    <path d=\"M18.56 5.44l.94 2.06.94-2.06 2.06-.94-2.06-.94-.94-2.06-.94 2.06-2.06.94zm-11 1L8.5 8.5l.94-2.06 2.06-.94-2.06-.94L8.5 2.5l-.94 2.06-2.06.94zm10 10l.94 2.06.94-2.06 2.06-.94-2.06-.94-.94-2.06-.94 2.06-2.06.94z\"/><path d=\"M17.41 7.96l-1.37-1.37c-.4-.4-.92-.59-1.43-.59-.52 0-1.04.2-1.43.59L10.3 9.45l-7.72 7.72c-.78.78-.78 2.05 0 2.83L4 21.41c.39.39.9.59 1.41.59.51 0 1.02-.2 1.41-.59l7.78-7.78 2.81-2.81c.8-.78.8-2.07 0-2.86zM5.41 20L4 18.59l7.72-7.72 1.47 1.35L5.41 20z\"/>\n",
              "  </svg>\n",
              "      </button>\n",
              "      \n",
              "  <style>\n",
              "    .colab-df-container {\n",
              "      display:flex;\n",
              "      flex-wrap:wrap;\n",
              "      gap: 12px;\n",
              "    }\n",
              "\n",
              "    .colab-df-convert {\n",
              "      background-color: #E8F0FE;\n",
              "      border: none;\n",
              "      border-radius: 50%;\n",
              "      cursor: pointer;\n",
              "      display: none;\n",
              "      fill: #1967D2;\n",
              "      height: 32px;\n",
              "      padding: 0 0 0 0;\n",
              "      width: 32px;\n",
              "    }\n",
              "\n",
              "    .colab-df-convert:hover {\n",
              "      background-color: #E2EBFA;\n",
              "      box-shadow: 0px 1px 2px rgba(60, 64, 67, 0.3), 0px 1px 3px 1px rgba(60, 64, 67, 0.15);\n",
              "      fill: #174EA6;\n",
              "    }\n",
              "\n",
              "    [theme=dark] .colab-df-convert {\n",
              "      background-color: #3B4455;\n",
              "      fill: #D2E3FC;\n",
              "    }\n",
              "\n",
              "    [theme=dark] .colab-df-convert:hover {\n",
              "      background-color: #434B5C;\n",
              "      box-shadow: 0px 1px 3px 1px rgba(0, 0, 0, 0.15);\n",
              "      filter: drop-shadow(0px 1px 2px rgba(0, 0, 0, 0.3));\n",
              "      fill: #FFFFFF;\n",
              "    }\n",
              "  </style>\n",
              "\n",
              "      <script>\n",
              "        const buttonEl =\n",
              "          document.querySelector('#df-9e68e02b-2421-46bc-81e3-d6dc3eba91df button.colab-df-convert');\n",
              "        buttonEl.style.display =\n",
              "          google.colab.kernel.accessAllowed ? 'block' : 'none';\n",
              "\n",
              "        async function convertToInteractive(key) {\n",
              "          const element = document.querySelector('#df-9e68e02b-2421-46bc-81e3-d6dc3eba91df');\n",
              "          const dataTable =\n",
              "            await google.colab.kernel.invokeFunction('convertToInteractive',\n",
              "                                                     [key], {});\n",
              "          if (!dataTable) return;\n",
              "\n",
              "          const docLinkHtml = 'Like what you see? Visit the ' +\n",
              "            '<a target=\"_blank\" href=https://colab.research.google.com/notebooks/data_table.ipynb>data table notebook</a>'\n",
              "            + ' to learn more about interactive tables.';\n",
              "          element.innerHTML = '';\n",
              "          dataTable['output_type'] = 'display_data';\n",
              "          await google.colab.output.renderOutput(dataTable, element);\n",
              "          const docLink = document.createElement('div');\n",
              "          docLink.innerHTML = docLinkHtml;\n",
              "          element.appendChild(docLink);\n",
              "        }\n",
              "      </script>\n",
              "    </div>\n",
              "  </div>\n",
              "  "
            ],
            "text/plain": [
              "            OriginalTweet Sentiment  tweet_len\n",
              "2208   good morning <url>  Positive          3\n",
              "3368  selfish wankpuffins  Negative          2"
            ]
          },
          "metadata": {},
          "execution_count": 79
        }
      ]
    },
    {
      "cell_type": "code",
      "source": [
        "test = test[test[\"tweet_len\"]>4]"
      ],
      "metadata": {
        "id": "MwOkAbx2ei5j"
      },
      "execution_count": null,
      "outputs": []
    },
    {
      "cell_type": "code",
      "source": [
        "train.info()"
      ],
      "metadata": {
        "colab": {
          "base_uri": "https://localhost:8080/"
        },
        "id": "G0kxOJ5pei2r",
        "outputId": "00e616a3-6517-480e-9e64-3e37226c03ef"
      },
      "execution_count": null,
      "outputs": [
        {
          "output_type": "stream",
          "name": "stdout",
          "text": [
            "<class 'pandas.core.frame.DataFrame'>\n",
            "Int64Index: 41078 entries, 0 to 41156\n",
            "Data columns (total 3 columns):\n",
            " #   Column         Non-Null Count  Dtype \n",
            "---  ------         --------------  ----- \n",
            " 0   OriginalTweet  41078 non-null  object\n",
            " 1   Sentiment      41078 non-null  object\n",
            " 2   tweet_len      41078 non-null  int64 \n",
            "dtypes: int64(1), object(2)\n",
            "memory usage: 1.3+ MB\n"
          ]
        }
      ]
    },
    {
      "cell_type": "markdown",
      "source": [
        "#BERT"
      ],
      "metadata": {
        "id": "bBBcYyS7fESj"
      }
    },
    {
      "cell_type": "markdown",
      "source": [
        "##Adding Required Libraries"
      ],
      "metadata": {
        "id": "RAwOFqdTfGGc"
      }
    },
    {
      "cell_type": "code",
      "source": [
        "!pip install transformers"
      ],
      "metadata": {
        "colab": {
          "base_uri": "https://localhost:8080/"
        },
        "id": "0cPwPr7pfEET",
        "outputId": "2b7cd769-0fd2-469c-b1f8-a2a5b2df1568"
      },
      "execution_count": null,
      "outputs": [
        {
          "output_type": "stream",
          "name": "stdout",
          "text": [
            "Requirement already satisfied: transformers in /usr/local/lib/python3.7/dist-packages (4.15.0)\n",
            "Requirement already satisfied: requests in /usr/local/lib/python3.7/dist-packages (from transformers) (2.23.0)\n",
            "Requirement already satisfied: regex!=2019.12.17 in /usr/local/lib/python3.7/dist-packages (from transformers) (2019.12.20)\n",
            "Requirement already satisfied: filelock in /usr/local/lib/python3.7/dist-packages (from transformers) (3.4.2)\n",
            "Requirement already satisfied: huggingface-hub<1.0,>=0.1.0 in /usr/local/lib/python3.7/dist-packages (from transformers) (0.4.0)\n",
            "Requirement already satisfied: sacremoses in /usr/local/lib/python3.7/dist-packages (from transformers) (0.0.47)\n",
            "Requirement already satisfied: importlib-metadata in /usr/local/lib/python3.7/dist-packages (from transformers) (4.10.0)\n",
            "Requirement already satisfied: tqdm>=4.27 in /usr/local/lib/python3.7/dist-packages (from transformers) (4.62.3)\n",
            "Requirement already satisfied: pyyaml>=5.1 in /usr/local/lib/python3.7/dist-packages (from transformers) (6.0)\n",
            "Requirement already satisfied: tokenizers<0.11,>=0.10.1 in /usr/local/lib/python3.7/dist-packages (from transformers) (0.10.3)\n",
            "Requirement already satisfied: numpy>=1.17 in /usr/local/lib/python3.7/dist-packages (from transformers) (1.19.5)\n",
            "Requirement already satisfied: packaging>=20.0 in /usr/local/lib/python3.7/dist-packages (from transformers) (21.3)\n",
            "Requirement already satisfied: typing-extensions>=3.7.4.3 in /usr/local/lib/python3.7/dist-packages (from huggingface-hub<1.0,>=0.1.0->transformers) (3.10.0.2)\n",
            "Requirement already satisfied: pyparsing!=3.0.5,>=2.0.2 in /usr/local/lib/python3.7/dist-packages (from packaging>=20.0->transformers) (3.0.6)\n",
            "Requirement already satisfied: zipp>=0.5 in /usr/local/lib/python3.7/dist-packages (from importlib-metadata->transformers) (3.7.0)\n",
            "Requirement already satisfied: idna<3,>=2.5 in /usr/local/lib/python3.7/dist-packages (from requests->transformers) (2.10)\n",
            "Requirement already satisfied: chardet<4,>=3.0.2 in /usr/local/lib/python3.7/dist-packages (from requests->transformers) (3.0.4)\n",
            "Requirement already satisfied: certifi>=2017.4.17 in /usr/local/lib/python3.7/dist-packages (from requests->transformers) (2021.10.8)\n",
            "Requirement already satisfied: urllib3!=1.25.0,!=1.25.1,<1.26,>=1.21.1 in /usr/local/lib/python3.7/dist-packages (from requests->transformers) (1.24.3)\n",
            "Requirement already satisfied: click in /usr/local/lib/python3.7/dist-packages (from sacremoses->transformers) (7.1.2)\n",
            "Requirement already satisfied: six in /usr/local/lib/python3.7/dist-packages (from sacremoses->transformers) (1.15.0)\n",
            "Requirement already satisfied: joblib in /usr/local/lib/python3.7/dist-packages (from sacremoses->transformers) (1.1.0)\n"
          ]
        }
      ]
    },
    {
      "cell_type": "code",
      "source": [
        "from transformers import BertTokenizerFast\n",
        "from transformers import TFBertModel\n",
        "\n",
        "from sklearn.model_selection import train_test_split\n",
        "from sklearn import preprocessing\n",
        "from imblearn.over_sampling import RandomOverSampler\n",
        "from tensorflow.keras.utils import to_categorical\n",
        "\n",
        "import tensorflow as tf\n",
        "from tensorflow import keras\n",
        "\n",
        "import numpy as np\n",
        "\n",
        "import re,string"
      ],
      "metadata": {
        "id": "tPoNjIe_eiz7"
      },
      "execution_count": null,
      "outputs": []
    },
    {
      "cell_type": "markdown",
      "source": [
        "##Tokenizing"
      ],
      "metadata": {
        "id": "ZMTTYIuIfN0-"
      }
    },
    {
      "cell_type": "code",
      "source": [
        "tokenizer = BertTokenizerFast.from_pretrained('bert-base-uncased')"
      ],
      "metadata": {
        "id": "XG02Fgokeixb"
      },
      "execution_count": null,
      "outputs": []
    },
    {
      "cell_type": "code",
      "source": [
        "train_token_lens = []\n",
        "total = 0\n",
        "for i,tweet in enumerate(train[\"OriginalTweet\"].values):\n",
        "    tokens = tokenizer.encode(tweet, max_length=512, truncation=True)\n",
        "    train_token_lens.append(len(tokens))\n",
        "    if len(tokens)>250:\n",
        "        print(f\"INDEX: {i}, TOKEN: {len(tokens)}, TEXT:\\n{tweet}\")\n",
        "        total += 1\n",
        "print(\"Total of tweets: \",total)"
      ],
      "metadata": {
        "colab": {
          "base_uri": "https://localhost:8080/"
        },
        "id": "QrzvolVveiu2",
        "outputId": "18472c29-4dbf-4679-84e7-9f1d8c30adad"
      },
      "execution_count": null,
      "outputs": [
        {
          "output_type": "stream",
          "name": "stdout",
          "text": [
            "INDEX: 22, TOKEN: 297, TEXT:\n",
            "we have <allcaps> amazing cheap deals </allcaps> ! <allcaps> for the </allcaps> <hashtag> covid 2019 </hashtag> going on to help you ? ? ? <hashtag> trials </hashtag> <hashtag> monthly </hashtag> <hashtag> yearly </hashtag> and resonable <hashtag> prices </hashtag> / <hashtag> subscriptions </hashtag> just <allcaps> dm us </allcaps> ! <hashtag> best iptv </hashtag> <hashtag> iptv </hashtag> <hashtag> service </hashtag> <hashtag> iptv </hashtag> <hashtag> iptv deals </hashtag> <hashtag> cheap </hashtag> <hashtag> ip tv </hashtag> <hashtag> football </hashtag> <hashtag> hd </hashtag> <hashtag> movies </hashtag> <hashtag> adult </hashtag> <hashtag> cinema </hashtag> <hashtag> hot movies </hashtag> <hashtag> iptv new </hashtag> <hashtag> iptv2020 </hashtag> <hashtag> adult </hashtag>\n",
            "INDEX: 23, TOKEN: 288, TEXT:\n",
            "we have <allcaps> amazing cheap deals </allcaps> ! <allcaps> for the </allcaps> <hashtag> covid 2019 </hashtag> going on to help you ? ? ? <hashtag> trials </hashtag> <hashtag> monthly </hashtag> <hashtag> yearly </hashtag> and resonable <hashtag> prices </hashtag> / <hashtag> subscriptions </hashtag> just <allcaps> dm us </allcaps> ! <hashtag> best iptv </hashtag> <hashtag> iptv </hashtag> <hashtag> service </hashtag> <hashtag> iptv </hashtag> <hashtag> iptv deals </hashtag> <hashtag> cheap </hashtag> <hashtag> ip tv </hashtag> <hashtag> football </hashtag> <hashtag> hd </hashtag> <hashtag> movies </hashtag> <hashtag> adult </hashtag> <hashtag> cinema </hashtag> <hashtag> hot movies </hashtag> <hashtag> ip tv </hashtag> iptvlinks <hashtag> 18 movies </hashtag>\n",
            "INDEX: 1534, TOKEN: 308, TEXT:\n",
            "<hashtag> please </hashtag> be <hashtag> aware </hashtag> , <hashtag> help </hashtag> the <hashtag> people </hashtag> , don  t <hashtag> run </hashtag> if <hashtag> affected </hashtag> , be <hashtag> clean </hashtag> , <hashtag> avoid </hashtag> going <hashtag> out </hashtag> , <hashtag> make </hashtag> <hashtag> distance </hashtag> , <hashtag> sell </hashtag> <hashtag> sanitiser s </hashtag> & <hashtag> masks </hashtag> at <hashtag> reasonable </hashtag> <hashtag> prices </hashtag> , <hashtag> eat </hashtag> <hashtag> hygienic </hashtag> <hashtag> food </hashtag> , be <hashtag> healthy </hashtag> & <hashtag> immune </hashtag> , be <hashtag> good </hashtag> <hashtag> covid19 </hashtag> <hashtag> coronavirus </hashtag> <hashtag> covid 2019 </hashtag> <hashtag> coronavirus outbreak </hashtag> <hashtag> dbz diary </hashtag>\n",
            "INDEX: 2607, TOKEN: 256, TEXT:\n",
            "<hashtag> panic buying </hashtag> around the world everyone has his priorities <hashtag> panic shopping </hashtag> <hashtag> supermarket </hashtag> <hashtag> carrefour </hashtag> <hashtag> wallmart </hashtag> <hashtag> co op </hashtag> <hashtag> toilet paper </hashtag> <hashtag> no toilet paper </hashtag> <hashtag> medicine </hashtag> <hashtag> pasta </hashtag> <hashtag> guns </hashtag> <hashtag> gun shop </hashtag> <hashtag> usa </hashtag> <hashtag> france </hashtag> <hashtag> uk </hashtag> <hashtag> italy </hashtag> <hashtag> coronavirus </hashtag> <hashtag> coronavirus italy </hashtag> <hashtag> covid 19 </hashtag> <hashtag> quarantine life </hashtag> <hashtag> quarante na </hashtag> <hashtag> italy lockdown </hashtag> <url>\n",
            "INDEX: 2898, TOKEN: 301, TEXT:\n",
            "<allcaps> index hits </allcaps> <number> <allcaps> years low within </allcaps> <number> <allcaps> sessions </allcaps> , <allcaps> next target </allcaps> <number> <allcaps> for </allcaps> <hashtag> sensex </hashtag> <allcaps> and </allcaps> <number> <allcaps> for </allcaps> <hashtag> nifty50 </hashtag> <allcaps> at the end of this week </allcaps> , <allcaps> unless there </allcaps> ' ll no <allcaps> correction in dollar rate or </allcaps> <hashtag> crude oil </hashtag> <allcaps> prices </allcaps> . <allcaps> india is at the </allcaps> 2 nd <allcaps> stage of </allcaps> <hashtag> coronavirus </hashtag> . <allcaps> next </allcaps> <number> <allcaps> weeks are vry crucial for </allcaps> <hashtag> share market </hashtag> <hashtag> public </hashtag> <url>\n",
            "INDEX: 6067, TOKEN: 283, TEXT:\n",
            "<hashtag> good morning </hashtag> <hashtag> breaking </hashtag> <hashtag> news </hashtag> not abt <hashtag> coronavirus </hashtag> so just arrived listing today <hashtag> 1 4 k </hashtag> <hashtag> gold </hashtag> <hashtag> sterling silver </hashtag> <hashtag> jewelry </hashtag> <number> <hashtag> women </hashtag> <hashtag> men </hashtag> ? <hashtag> jade </hashtag> <hashtag> dragon </hashtag> <hashtag> cz </hashtag> <hashtag> pendants </hashtag> # <hashtag> blue </hashtag> <hashtag> lapis </hashtag> <hashtag> hoops </hashtag> <hashtag> morganite </hashtag> <hashtag> earrings </hashtag> chains <hashtag> necklaces </hashtag> <hashtag> rings </hashtag> preowned deep <hashtag> sale </hashtag> <hashtag> prices </hashtag> at <hashtag> bling sch lingers </hashtag> . com <url>\n",
            "INDEX: 7572, TOKEN: 298, TEXT:\n",
            "cleaning tips from a germaphobe <url> <hashtag> clean </hashtag> <hashtag> cleaning </hashtag> <hashtag> read </hashtag> <hashtag> tips </hashtag> <hashtag> germs </hashtag> <hashtag> germaphobe </hashtag> <hashtag> coronavirus </hashtag> <hashtag> i ll </hashtag> <hashtag> illness </hashtag> <hashtag> sick </hashtag> <hashtag> sickness </hashtag> <hashtag> health </hashtag> <hashtag> healthy </hashtag> <hashtag> grocery </hashtag> <hashtag> store </hashtag> <hashtag> food </hashtag> <hashtag> sanitize </hashtag> <hashtag> clean </hashtag> <hashtag> travel </hashtag> <hashtag> antibacterial </hashtag> <hashtag> news </hashtag> <hashtag> media </hashtag> <hashtag> fear </hashtag> <hashtag> covid 19 </hashtag> <hashtag> help </hashtag> <hashtag> helping </hashtag> <hashtag> advice </hashtag>\n",
            "INDEX: 7617, TOKEN: 261, TEXT:\n",
            "get <hashtag> ready </hashtag> for the <hashtag> brand new </hashtag> <hashtag> saturday </hashtag> <hashtag> activity </hashtag> for <hashtag> men </hashtag> now that <hashtag> football </hashtag> and <hashtag> sport </hashtag> is <hashtag> cancelled </hashtag> . that ' s right , <hashtag> barging </hashtag> through a <hashtag> supermarket </hashtag> for <hashtag> two toilet rolls </hashtag> and <hashtag> forty </hashtag> <hashtag> tea bags </hashtag> . <hashtag> tesco </hashtag> <hashtag> asda </hashtag> <hashtag> morrisons </hashtag> <hashtag> sainburys </hashtag> <hashtag> corona virus </hashtag> <hashtag> covid 19 </hashtag> <hashtag> panic buying </hashtag> <hashtag> uk </hashtag> <hashtag> toilet roll </hashtag> <url>\n",
            "INDEX: 9074, TOKEN: 258, TEXT:\n",
            "<hashtag> saudi aramco </hashtag> is     very comfortable    with $ <number> oil <url> <hashtag> energy </hashtag> <hashtag> aramco </hashtag> <hashtag> saudi </hashtag> <hashtag> oil price </hashtag> <hashtag> crude oil </hashtag> <hashtag> politics </hashtag> <hashtag> geo politics </hashtag> <hashtag> covid 19 </hashtag> <hashtag> corona </hashtag> <hashtag> corona virus </hashtag> <hashtag> china virus </hashtag> <hashtag> health </hashtag> <hashtag> oil </hashtag> <hashtag> gas </hashtag> <hashtag> oil and gas </hashtag> <hashtag> subsea </hashtag> <hashtag> commodities </hashtag> <hashtag> economics </hashtag> <hashtag> markets </hashtag> <hashtag> trading </hashtag> <hashtag> a lxc ltd </hashtag> <url>\n",
            "INDEX: 10259, TOKEN: 261, TEXT:\n",
            "stock up on chicken soup ! <allcaps> kozak </allcaps> ukrainian bakery ? <hashtag> stay positive </hashtag> <hashtag> coronavirus </hashtag> <hashtag> east van </hashtag> <hashtag> food </hashtag> <hashtag> foodies </hashtag> <hashtag> foodie </hashtag> <hashtag> food blog </hashtag> <hashtag> vancouver </hashtag> <hashtag> vancouver bc </hashtag> <hashtag> yvr eats </hashtag> <hashtag> yvr </hashtag> <hashtag> vancity </hashtag> <hashtag> yvr foodies </hashtag> <hashtag> vancouver food </hashtag> <hashtag> vancouver foodie </hashtag> <hashtag> vancouver foodies </hashtag> <hashtag> burnaby </hashtag> <hashtag> new west </hashtag> <hashtag> surrey bc </hashtag> <hashtag> richmond bc </hashtag> <hashtag> canucks </hashtag> <url>\n",
            "INDEX: 12771, TOKEN: 262, TEXT:\n",
            "<hashtag> confinement diary </hashtag> day <number> - groceries ? ? / faire les courses ? ? . . . <hashtag> mask </hashtag> <hashtag> gloves </hashtag> <hashtag> contamination </hashtag> <hashtag> contagion </hashtag> <hashtag> coronavirus </hashtag> <hashtag> covid 19 </hashtag> <hashtag> confinement </hashtag> <hashtag> confinementg </hashtag>  n  ral <hashtag> isolation </hashtag> <hashtag> quarantine life </hashtag> <hashtag> quarantine </hashtag> <hashtag> comic book </hashtag> <hashtag> sketch </hashtag> <hashtag> doodle </hashtag> <hashtag> ink </hashtag> <hashtag> art </hashtag> <hashtag> artist </hashtag> <hashtag> diary </hashtag> <hashtag> toilet paper </hashtag> <hashtag> virus </hashtag> <hashtag> plague </hashtag> <url>\n",
            "INDEX: 13075, TOKEN: 266, TEXT:\n",
            "where ' s the toilet paper ? ? . . . taker plays mind games aj . . . ( link in <allcaps> bio </allcaps> ! ) <hashtag> wwe </hashtag> <hashtag> wwe universe </hashtag> <hashtag> wwe community </hashtag> <hashtag> wwe elite squad </hashtag> <hashtag> wwe mattel </hashtag> <hashtag> wwe figures </hashtag> <hashtag> action figures </hashtag> <hashtag> action </hashtag> <hashtag> wrestling </hashtag> <hashtag> toilet </hashtag> <hashtag> toilet paper </hashtag> <hashtag> paper </hashtag> <hashtag> coronavirus </hashtag> <hashtag> co vid </hashtag> <hashtag> corona </hashtag> <hashtag> virus </hashtag> <hashtag> mind games </hashtag> <hashtag> mind </hashtag> <hashtag> games </hashtag> <hashtag> fun </hashtag> <hashtag> funny </hashtag> <url>\n",
            "INDEX: 13269, TOKEN: 283, TEXT:\n",
            "<hashtag> ghettoheatmovement </hashtag> : <hashtag> worldwide </hashtag> , y ' <allcaps> all alright out there </allcaps> ? <allcaps> the </allcaps> <hashtag> hickson </hashtag> <allcaps> is indoors takin </allcaps> ' <allcaps> care of </allcaps> <hashtag> mamaghettoheat </hashtag> <allcaps> behind the scenes </allcaps> , <allcaps> durin </allcaps> ' <allcaps> this </allcaps> <hashtag> coronavirus </hashtag> <allcaps> outbreak </allcaps> . . . <allcaps> supermarket shoppin </allcaps> ' <allcaps> daily </allcaps> : <allcaps> feelin </allcaps> ' <allcaps> like </allcaps> <hashtag> thehungergames </hashtag> <allcaps> out here </allcaps> . . . . <allcaps> bought </allcaps> <number> bottles <url>\n",
            "INDEX: 13345, TOKEN: 286, TEXT:\n",
            "we have <allcaps> amazing cheap deals </allcaps> ! <allcaps> for the </allcaps> <hashtag> covid 2019 </hashtag> going on to help you ? ? ? <hashtag> trials </hashtag> <hashtag> monthly </hashtag> <hashtag> yearly </hashtag> and resonable <hashtag> prices </hashtag> / <hashtag> subscriptions </hashtag> just <allcaps> dm us </allcaps> ! <hashtag> best iptv </hashtag> <hashtag> iptv </hashtag> <hashtag> service </hashtag> <hashtag> iptv </hashtag> <hashtag> iptv deals </hashtag> <hashtag> cheap </hashtag> <hashtag> ip tv </hashtag> <hashtag> football </hashtag> <hashtag> hd </hashtag> <hashtag> movies </hashtag> <hashtag> adult </hashtag> <hashtag> cinema </hashtag> <hashtag> hot movies </hashtag> <hashtag> cheap </hashtag> <allcaps> instant setup </allcaps> !\n",
            "INDEX: 13401, TOKEN: 258, TEXT:\n",
            "<allcaps> wtf </allcaps> happened to <allcaps> this </allcaps> ? ? ! !         > <hashtag> corona crisisuk </hashtag> <hashtag> covid </hashtag> ? <number> <hashtag> covid 19 </hashtag> <hashtag> coronavirus pandemic </hashtag> <hashtag> corona crisis </hashtag> <hashtag> coronavirus </hashtag> <hashtag> corona </hashtag> <hashtag> corona virus updates </hashtag> <hashtag> coronavirus outbreak </hashtag> <hashtag> panic buying </hashtag> <hashtag> u klockdown </hashtag> <hashtag> lockdown </hashtag> <hashtag> london </hashtag> <hashtag> breaking news </hashtag> <hashtag> memes </hashtag> <hashtag> panic buying </hashtag> <hashtag> toilet paper </hashtag> <hashtag> nhs </hashtag> <hashtag> toilet paper crisis </hashtag> <url>\n",
            "INDEX: 13403, TOKEN: 252, TEXT:\n",
            "eastenders is only on <allcaps> two days </allcaps> a <allcaps> week </allcaps> ? ? ? ! ! ! - > <hashtag> corona crisisuk </hashtag> <hashtag> covid </hashtag> ? <number> <hashtag> covid 19 </hashtag> <hashtag> coronavirus pandemic </hashtag> <hashtag> corona crisis </hashtag> <hashtag> coronavirus </hashtag> <hashtag> corona </hashtag> <hashtag> corona virus updates </hashtag> <hashtag> coronavirus outbreak </hashtag> <hashtag> panic buying </hashtag> <hashtag> u klockdown </hashtag> <hashtag> lockdown </hashtag> <hashtag> london </hashtag> <hashtag> breaking news </hashtag> <hashtag> memes </hashtag> <hashtag> panic buying </hashtag> <hashtag> toilet paper </hashtag> <hashtag> nhs </hashtag> <url>\n",
            "INDEX: 16287, TOKEN: 275, TEXT:\n",
            "<hashtag> i hate the internet </hashtag> <hashtag> who did this </hashtag> most <hashtag> expensive </hashtag> <hashtag> dress </hashtag> right now <hashtag> pt cares </hashtag> <hashtag> vlogger </hashtag> <hashtag> vlog </hashtag> <hashtag> blogger </hashtag> <hashtag> blog </hashtag> <hashtag> humor </hashtag> <hashtag> funny </hashtag> <hashtag> lol </hashtag> <hashtag> lmao </hashtag> <hashtag> lmbo </hashtag> <hashtag> ihti </hashtag> <hashtag> current events </hashtag> <hashtag> coronavirus </hashtag> <hashtag> wuhan </hashtag> <hashtag> wuhan china </hashtag> <hashtag> wuhan coronavirus </hashtag> <hashtag> wuhan corona </hashtag> <hashtag> protection </hashtag> <hashtag> mask </hashtag> <hashtag> toilet paper </hashtag> <url>\n",
            "INDEX: 16575, TOKEN: 288, TEXT:\n",
            "supply and demand ! ? ? ? - <hashtag> coronavirus </hashtag> <hashtag> covid 19 </hashtag> <hashtag> hoarder </hashtag> <hashtag> hoarders </hashtag> <hashtag> grateful </hashtag> <hashtag> be kind </hashtag> <hashtag> serve </hashtag> <hashtag> love </hashtag> <hashtag> give </hashtag> <hashtag> protect </hashtag> <hashtag> do unto others </hashtag> <hashtag> prep </hashtag> <hashtag> prep life </hashtag> <hashtag> elder </hashtag> <hashtag> elder care </hashtag> <hashtag> toilet paper </hashtag> <hashtag> seniors </hashtag> <hashtag> baby boomers </hashtag> <hashtag> real estate </hashtag> <hashtag> real estate agent </hashtag> <hashtag> realtors </hashtag> <hashtag> realtor </hashtag> <hashtag> meme </hashtag> <hashtag> coronavirus meme </hashtag> <hashtag> diamonds </hashtag> <url>\n",
            "INDEX: 16576, TOKEN: 298, TEXT:\n",
            "who remembers places ? ? ? - <hashtag> coronavirus </hashtag> <hashtag> covid 19 </hashtag> <hashtag> hoarder </hashtag> <hashtag> hoarders </hashtag> <hashtag> grateful </hashtag> <hashtag> be kind </hashtag> <hashtag> serve </hashtag> <hashtag> love </hashtag> <hashtag> give </hashtag> <hashtag> protect </hashtag> <hashtag> do unto others </hashtag> <hashtag> prep </hashtag> <hashtag> prep life </hashtag> <hashtag> elder </hashtag> <hashtag> elder care </hashtag> <hashtag> toilet paper </hashtag> <hashtag> costco </hashtag> <hashtag> walmart </hashtag> <hashtag> tik tok </hashtag> <hashtag> seniors </hashtag> <hashtag> baby boomers </hashtag> <hashtag> real estate </hashtag> <hashtag> real estate agent </hashtag> <hashtag> realtors </hashtag> <hashtag> realtor </hashtag> <hashtag> give </hashtag> <url>\n",
            "INDEX: 17706, TOKEN: 258, TEXT:\n",
            "yoda fights r2 to get <allcaps> toilet paper </allcaps> ! funny edit / dub <url> < - - - <allcaps> click here </allcaps> <hashtag> coronavirus </hashtag> <hashtag> toilet paper </hashtag> <hashtag> yoda </hashtag> <hashtag> r 2 d 2 </hashtag> <hashtag> brawl </hashtag> <hashtag> fight </hashtag> <hashtag> toilet paper wars </hashtag> <hashtag> toilet paper panic </hashtag> <hashtag> toilet paper apocalypse </hashtag> <hashtag> funny </hashtag> <hashtag> star wars </hashtag> <hashtag> covididiots </hashtag> <hashtag> covidiots </hashtag> <hashtag> corona </hashtag> <hashtag> covid </hashtag> ? <number> <hashtag> lol </hashtag> <hashtag> haha </hashtag> <hashtag> stock </hashtag> <url>\n",
            "INDEX: 17816, TOKEN: 258, TEXT:\n",
            "  contemplating the value of buttpaper  , <number> . . . <hashtag> jmf studios </hashtag> <hashtag> toilet paper </hashtag> <hashtag> tp </hashtag> <hashtag> covid 19 </hashtag> <hashtag> covid19 </hashtag> <hashtag> corona </hashtag> <hashtag> coronavirus </hashtag> <hashtag> quarantine </hashtag> <hashtag> social distancing </hashtag> <hashtag> toilet paper crisis </hashtag> <hashtag> crisis </hashtag> <hashtag> cdc </hashtag> <hashtag> pandemic </hashtag> <hashtag> isolation </hashtag> <hashtag> cottonelle </hashtag> <hashtag> virus </hashtag> <hashtag> coronavirus pandemic </hashtag> <hashtag> quarantined </hashtag> <hashtag> art is life </hashtag> <hashtag> artist </hashtag> <hashtag> art </hashtag> <url>\n",
            "INDEX: 17859, TOKEN: 251, TEXT:\n",
            "what ' s your frugal hack ? help each other . put it in the comments . <hashtag> frugal </hashtag> <hashtag> qu aren t ine </hashtag> <hashtag> covid19 </hashtag> <hashtag> coronavirus </hashtag> <hashtag> corona </hashtag> <hashtag> ghetto </hashtag> <hashtag> toilet paper </hashtag> <hashtag> tp </hashtag> <hashtag> teepee </hashtag> <hashtag> hoity toity </hashtag> <hashtag> packet </hashtag> <hashtag> water </hashtag> <hashtag> boo jee </hashtag> <hashtag> boojie </hashtag> <hashtag> hoity </hashtag> <hashtag> toity </hashtag> <hashtag> social </hashtag> <hashtag> social distancing </hashtag> <hashtag> haircut </hashtag> <hashtag> clippers </hashtag> <url>\n",
            "INDEX: 18141, TOKEN: 328, TEXT:\n",
            "this true doe ? <hashtag> spongebob </hashtag> <hashtag> spongebob memes </hashtag> <hashtag> coronavirus </hashtag> <hashtag> corona memes </hashtag> <hashtag> toilet paper </hashtag> <hashtag> spongebob meme </hashtag> <hashtag> meme </hashtag> <hashtag> memes </hashtag> <hashtag> funny </hashtag> <hashtag> dank memes </hashtag> <hashtag> memes daily </hashtag> <hashtag> funny memes </hashtag> <hashtag> lol </hashtag> <hashtag> dank </hashtag> <hashtag> humor </hashtag> <hashtag> follow </hashtag> <hashtag> like </hashtag> <hashtag> dank meme </hashtag> <hashtag> lmao </hashtag> <hashtag> love </hashtag> <hashtag> ol </hashtag> <hashtag> edgy memes </hashtag> <hashtag> daily memes </hashtag> <hashtag> comedy </hashtag> <hashtag> instagram </hashtag> <hashtag> fun </hashtag> <hashtag> offensive memes </hashtag> <hashtag> funny </hashtag> <url>\n",
            "INDEX: 18292, TOKEN: 275, TEXT:\n",
            "<allcaps> covid </allcaps> - <number> coronavirus impacts maryland <user> <hashtag> covid 19 </hashtag> <hashtag> co vid </hashtag> <hashtag> cov </hashtag> ? d19 <hashtag> corona </hashtag> <hashtag> coronavirus </hashtag> <hashtag> virus </hashtag> <hashtag> flu </hashtag> <hashtag> pandemic </hashtag> <hashtag> chinese virus 2020 </hashtag> <hashtag> phillips vision </hashtag> <hashtag> youtube </hashtag> <hashtag> cdc </hashtag> <hashtag> walmart </hashtag> <hashtag> dollar tree </hashtag> <hashtag> disinfectant </hashtag> <hashtag> toilet paper </hashtag> <hashtag> shortage </hashtag> <hashtag> empty </hashtag> <hashtag> shut down </hashtag> <hashtag> news </hashtag> <hashtag> caring </hashtag> <hashtag> be safe </hashtag> <user> <url>\n",
            "INDEX: 18563, TOKEN: 259, TEXT:\n",
            "<allcaps> stock up </allcaps> <hashtag> parents </hashtag> <hashtag> stock up </hashtag> on <hashtag> education </hashtag> <hashtag> books </hashtag> amid <hashtag> coronavirus </hashtag> <hashtag> school closures </hashtag> - <hashtag> forbes </hashtag> <url> via <user> <hashtag> pre k </hashtag> <hashtag> homeschool </hashtag> <hashtag> wellness </hashtag> <hashtag> monday motivation </hashtag> <hashtag> health </hashtag> <hashtag> monday morning </hashtag> <hashtag> kids </hashtag> <hashtag> school </hashtag> <hashtag> ed </hashtag> <hashtag> home bound </hashtag> # <hashtag> nj </hashtag> <hashtag> free resources </hashtag> <hashtag> monday thoughts </hashtag> <hashtag> uk </hashtag> <hashtag> china </hashtag>\n",
            "INDEX: 19065, TOKEN: 311, TEXT:\n",
            ". . . toiletpaper edition . . . ? : : : : : : : : <hashtag> ride </hashtag> <hashtag> drive </hashtag> <hashtag> on the road </hashtag> <hashtag> street </hashtag> <hashtag> shot </hashtag> <hashtag> road </hashtag> <hashtag> toilet paper </hashtag> <hashtag> lines </hashtag> <hashtag> travel </hashtag> <hashtag> racing </hashtag> <hashtag> travel </hashtag> <hashtag> photography </hashtag> <hashtag> life </hashtag> <hashtag> weather </hashtag> <hashtag> wonderful day </hashtag> <hashtag> day </hashtag> <hashtag> long </hashtag> <hashtag> way </hashtag> <hashtag> interesting </hashtag> <hashtag> cool </hashtag> <hashtag> coronavirus </hashtag> <hashtag> colours </hashtag> <hashtag> camera </hashtag> <hashtag> sharp </hashtag> <hashtag> corona </hashtag> <hashtag> sky </hashtag> <hashtag> nature </hashtag> <hashtag> re tee t </hashtag> <url>\n",
            "INDEX: 19603, TOKEN: 271, TEXT:\n",
            "<allcaps> james gould show </allcaps> live today video : <hashtag> coronavirus </hashtag> <hashtag> corona crisis </hashtag> <hashtag> corona </hashtag> <hashtag> virus </hashtag> <hashtag> pandemic </hashtag> <hashtag> panic shopping </hashtag> <hashtag> music </hashtag> <hashtag> rock </hashtag> <hashtag> toilet paper </hashtag> <hashtag> london </hashtag> <hashtag> virus corona </hashtag> <hashtag> life </hashtag> <hashtag> video </hashtag> <hashtag> movie </hashtag> <hashtag> streaming </hashtag> <hashtag> entertainment </hashtag> <hashtag> performance </hashtag> <hashtag> cool </hashtag> <hashtag> sun </hashtag> <hashtag> smile </hashtag> <hashtag> happiness </hashtag> <hashtag> fun </hashtag> <hashtag> news </hashtag> <hashtag> awesome </hashtag> <url>\n",
            "INDEX: 19802, TOKEN: 286, TEXT:\n",
            "hoverboard fun <hashtag> points </hashtag> <hashtag> fortnite </hashtag> <hashtag> cool </hashtag> <hashtag> stunts </hashtag> <hashtag> back to the future </hashtag> <hashtag> marty mc fly </hashtag> <hashtag> hoverboards </hashtag> <hashtag> coronavirus </hashtag> <hashtag> home </hashtag> <hashtag> toilet paper </hashtag> <hashtag> browns </hashtag> <hashtag> cleveland </hashtag> <hashtag> art </hashtag> <hashtag> poetry </hashtag> <hashtag> love </hashtag> <hashtag> flips </hashtag> <hashtag> fuel </hashtag> <hashtag> ramen </hashtag> <hashtag> doom eternal </hashtag> <hashtag> animal crossing </hashtag> <hashtag> zelda </hashtag> <hashtag> pfoa </hashtag> <hashtag> bored </hashtag> <hashtag> mmm </hashtag> <hashtag> disinfect </hashtag> <url> via <user>\n",
            "INDEX: 19803, TOKEN: 280, TEXT:\n",
            "fun riding <number> wheeler , shield bash <hashtag> cod </hashtag> <hashtag> call of duty </hashtag> <hashtag> practice </hashtag> <hashtag> atv </hashtag> <hashtag> rtv </hashtag> <hashtag> recreation </hashtag> <hashtag> fun </hashtag> <hashtag> bored </hashtag> <hashtag> to do </hashtag> <hashtag> coronavirus </hashtag> <hashtag> quarantine </hashtag> <hashtag> isolation </hashtag> <hashtag> toilet paper </hashtag> <hashtag> lockdown </hashtag> <hashtag> art </hashtag> <hashtag> milk </hashtag> <hashtag> water </hashtag> <hashtag> clouds </hashtag> <hashtag> weather </hashtag> <hashtag> cleveland </hashtag> <hashtag> ohio </hashtag> <hashtag> browns </hashtag> <hashtag> nfl </hashtag> <hashtag> superbowl </hashtag> <hashtag> poetry </hashtag> <url> via <user>\n",
            "INDEX: 19804, TOKEN: 260, TEXT:\n",
            "amazing teamwork final kill for victory <hashtag> shield </hashtag> <hashtag> cod </hashtag> <hashtag> modern warfare </hashtag> <hashtag> teamwork </hashtag> <hashtag> coronavirus </hashtag> <hashtag> sandwich </hashtag> <hashtag> toilet paper </hashtag> <hashtag> go browns </hashtag> <hashtag> playoffs </hashtag> <hashtag> nfl </hashtag> <hashtag> cdc </hashtag> <hashtag> publix </hashtag> <hashtag> whole foods </hashtag> <hashtag> ramen noodles </hashtag> <hashtag> law </hashtag> <hashtag> lockdown </hashtag> <hashtag> quarantine </hashtag> <hashtag> beauty </hashtag> <hashtag> peace </hashtag> <hashtag> tag </hashtag> <hashtag> home </hashtag> <hashtag> art </hashtag> <hashtag> poetry </hashtag> <url> via <user>\n",
            "INDEX: 19805, TOKEN: 267, TEXT:\n",
            "running in place , working out <hashtag> 2 k20 </hashtag> <hashtag> park </hashtag> <hashtag> workouts </hashtag> <hashtag> cardio </hashtag> <hashtag> babydoll </hashtag> <hashtag> basketball </hashtag> <hashtag> court </hashtag> <hashtag> bored </hashtag> <hashtag> coronavirus </hashtag> <hashtag> toilet paper </hashtag> <hashtag> running </hashtag> <hashtag> lockdown </hashtag> <hashtag> home </hashtag> <hashtag> governor </hashtag> <hashtag> browns </hashtag> <hashtag> nfl </hashtag> <hashtag> nba </hashtag> <hashtag> cleveland </hashtag> <hashtag> art </hashtag> <hashtag> poetry </hashtag> <hashtag> peaceful </hashtag> <hashtag> beauty </hashtag> <hashtag> meditation </hashtag> <hashtag> ventilator </hashtag> <url> via <user>\n",
            "INDEX: 19807, TOKEN: 268, TEXT:\n",
            "behind the back to the sniper <hashtag> cod </hashtag> <hashtag> knife </hashtag> <hashtag> behind the back </hashtag> <hashtag> call of duty </hashtag> <hashtag> toilet paper </hashtag> <hashtag> roof </hashtag> <hashtag> sniping </hashtag> <hashtag> lying down </hashtag> <hashtag> sneak </hashtag> <hashtag> poetry </hashtag> <hashtag> art </hashtag> <hashtag> backside </hashtag> <hashtag> glory kills </hashtag> <hashtag> doom </hashtag> <hashtag> browns </hashtag> <hashtag> nfl </hashtag> <hashtag> cleveland </hashtag> <hashtag> ohio </hashtag> <hashtag> peaceful </hashtag> <hashtag> bored </hashtag> <hashtag> recreation </hashtag> <hashtag> to do </hashtag> <hashtag> elroy </hashtag> <hashtag> coronavirus </hashtag> <url> via <user>\n",
            "INDEX: 19808, TOKEN: 259, TEXT:\n",
            "smooth transitions , air to ground <hashtag> the crew 2 </hashtag> <hashtag> ubisoft </hashtag> <hashtag> boats </hashtag> <hashtag> planes </hashtag> <hashtag> cars </hashtag> <hashtag> beauty </hashtag> <hashtag> peace </hashtag> <hashtag> art </hashtag> <hashtag> poetry </hashtag> <hashtag> music </hashtag> <hashtag> coronavirus </hashtag> <hashtag> quarantine </hashtag> <hashtag> stay home </hashtag> <hashtag> bored </hashtag> <hashtag> fun </hashtag> <hashtag> fishing </hashtag> <hashtag> bassmasters </hashtag> <hashtag> walking dead </hashtag> <hashtag> to do </hashtag> <hashtag> toilet paper </hashtag> <hashtag> browns </hashtag> <hashtag> clippers </hashtag> <hashtag> recreation </hashtag> <url> via <user>\n",
            "INDEX: 19809, TOKEN: 262, TEXT:\n",
            "swooped in , special delivery <hashtag> rpg </hashtag> <hashtag> fortnite </hashtag> <hashtag> fun </hashtag> <hashtag> gunfights </hashtag> <hashtag> coronavirus </hashtag> <hashtag> quarantine </hashtag> <hashtag> bored </hashtag> <hashtag> relaxation </hashtag> <hashtag> airlines </hashtag> <hashtag> battle </hashtag> <hashtag> animal crossing </hashtag> <hashtag> doom eternal </hashtag> <hashtag> toilet paper </hashtag> <hashtag> dow jones </hashtag> <hashtag> stock </hashtag> <hashtag> art </hashtag> <hashtag> cdc </hashtag> <hashtag> poetry </hashtag> <hashtag> sanitize </hashtag> <hashtag> nfl </hashtag> <hashtag> nba </hashtag> <hashtag> ramen noodles </hashtag> <hashtag> maruchan </hashtag> <url> via <user>\n",
            "INDEX: 20114, TOKEN: 264, TEXT:\n",
            "  <allcaps> coming soon </allcaps> !    <allcaps> release date </allcaps> <date>  <hashtag> pre order </hashtag> ! <hashtag> coronavirus lockdown </hashtag> <hashtag> covididiots </hashtag> <hashtag> covid 19 </hashtag> <hashtag> coronavirus </hashtag> <hashtag> amazon </hashtag> <hashtag> poetry </hashtag> <hashtag> poems </hashtag> <hashtag> verses </hashtag> <hashtag> humour </hashtag> <hashtag> funny </hashtag> <hashtag> virus </hashtag> <hashtag> toilet paper </hashtag> <hashtag> coming soon </hashtag> <hashtag> collaboration </hashtag> <hashtag> book lovers </hashtag> <hashtag> book club </hashtag> <hashtag> kindle </hashtag> <hashtag> kindle unlimited </hashtag> <hashtag> paperback </hashtag> <hashtag> ebook </hashtag> <url>\n",
            "INDEX: 22449, TOKEN: 350, TEXT:\n",
            "<allcaps> stay at home for </allcaps> <number> <allcaps> days </allcaps> . <hashtag> coronavirus </hashtag> <hashtag> corona </hashtag> <hashtag> health </hashtag> <hashtag> india </hashtag> <hashtag> support </hashtag> <hashtag> fight </hashtag> <hashtag> fight together </hashtag> <hashtag> china </hashtag> <hashtag> together </hashtag> <hashtag> news </hashtag> <hashtag> flue </hashtag> <hashtag> avoid </hashtag> <hashtag> clean </hashtag> <hashtag> safe </hashtag> <hashtag> virus </hashtag> <hashtag> today </hashtag> <hashtag> plaquenil </hashtag> <hashtag> covid 19 </hashtag> <hashtag> top </hashtag> <hashtag> digital </hashtag> <hashtag> marketing </hashtag> <hashtag> help </hashtag> <hashtag> need </hashtag> <hashtag> stay safe </hashtag> <hashtag> stop </hashtag> <hashtag> hand wash </hashtag> <hashtag> mask </hashtag> <hashtag> sanitizer </hashtag> <hashtag> death </hashtag> <hashtag> nd gs </hashtag> <url>\n",
            "INDEX: 22582, TOKEN: 257, TEXT:\n",
            "world  s largest <hashtag> banks </hashtag> losing <hashtag> stock </hashtag> <hashtag> value </hashtag> d . . . - <hashtag> bank of america </hashtag> <hashtag> bnp paribas </hashtag> <hashtag> ccb </hashtag> <hashtag> china </hashtag> <hashtag> coronavirus </hashtag> <hashtag> covid 19 </hashtag> <hashtag> crisis </hashtag> <hashtag> deutsche bank </hashtag> <hashtag> epidemic </hashtag> <hashtag> europe </hashtag> <hashtag> federal reserve </hashtag> <hashtag> finance </hashtag> <hashtag> financial institutions </hashtag> <hashtag> hsbc </hashtag> <hashtag> icbc </hashtag> <hashtag> interest rates </hashtag> <hashtag> jp morgan </hashtag> <hashtag> price </hashtag> <hashtag> prices </hashtag> - <url> <url>\n",
            "INDEX: 23224, TOKEN: 251, TEXT:\n",
            "how to use hand sanitizer . motion graphics . . <hashtag> corona </hashtag> <hashtag> stay home </hashtag> <hashtag> stay safe </hashtag> <hashtag> india fights corona </hashtag> <hashtag> covid19 </hashtag> <hashtag> wuhan virus </hashtag> <hashtag> coronavirus </hashtag> <hashtag> medical </hashtag> <hashtag> coronavirus india </hashtag> <hashtag> 21 day lockdown </hashtag> <hashtag> hand </hashtag> <hashtag> virus </hashtag> <hashtag> motion graphics </hashtag> <hashtag> sanitizer </hashtag> <hashtag> after effects </hashtag> <hashtag> animation </hashtag> <hashtag> digital art </hashtag> <hashtag> visual effects </hashtag> <hashtag> indian </hashtag> <hashtag> vfx </hashtag> <hashtag> 2 d </hashtag> <url>\n",
            "INDEX: 23910, TOKEN: 252, TEXT:\n",
            "lowest prices ? ! ! ! <hashtag> quat chic am </hashtag> <hashtag> social distancing </hashtag> <hashtag> coronavirus </hashtag> <hashtag> corona crisis </hashtag> <hashtag> pandemic </hashtag> <hashtag> trudeau </hashtag> <hashtag> covid 19 </hashtag> <hashtag> yvr </hashtag> <hashtag> vancouver </hashtag> <hashtag> vancouver bc </hashtag> <hashtag> toronto </hashtag> <hashtag> ontario </hashtag> <hashtag> cdn poli </hashtag> <hashtag> bc poli </hashtag> <hashtag> van poli </hashtag> <hashtag> burnaby </hashtag> <hashtag> new west </hashtag> <hashtag> surrey bc </hashtag> <hashtag> bc gov </hashtag> <hashtag> to poli </hashtag> <hashtag> van re </hashtag> <url>\n",
            "INDEX: 27833, TOKEN: 271, TEXT:\n",
            "news <hashtag> banana republic </hashtag> of <hashtag> trump istan </hashtag> <allcaps> babble </allcaps> <hashtag> shut down </hashtag> <hashtag> gulf of mexico </hashtag> prod = end <hashtag> oil price war </hashtag> <allcaps> poll </allcaps> <number> % <hashtag> data science </hashtag> donnie <allcaps> babble </allcaps> or will ? [ ] orangehair <allcaps> blab </allcaps> [ ] <allcaps> hoax </allcaps> ~ <hashtag> coronavirus </hashtag> [ ] manipulate <hashtag> stock markets </hashtag> ~ <hashtag> elon musk </hashtag> <hashtag> great game </hashtag> + + <hashtag> oil price </hashtag> <hashtag> recession </hashtag> <hashtag> loot </hashtag> <hashtag> oot t </hashtag> <hashtag> saudi </hashtag> <hashtag> russia </hashtag>\n",
            "INDEX: 27834, TOKEN: 312, TEXT:\n",
            "<allcaps> cocaine </allcaps> <hashtag> kudlow </hashtag> <allcaps> snort </allcaps> + says <hashtag> trump istan </hashtag> <allcaps> not </allcaps> dictate <hashtag> oil </hashtag> prices <allcaps> lol </allcaps> <hashtag> oil prices </hashtag> rally = <allcaps> bye </allcaps> <hashtag> great game </hashtag> + + <hashtag> oil price war </hashtag> <hashtag> saudi </hashtag> <hashtag> russia </hashtag> <hashtag> loot </hashtag> <hashtag> oot t </hashtag> <hashtag> alice in wonderland </hashtag> <hashtag> banana republic </hashtag> <hashtag> cheap </hashtag> <hashtag> oil </hashtag> <hashtag> india </hashtag> <hashtag> escape </hashtag> <hashtag> economic slowdown </hashtag> <hashtag> suckers </hashtag> <hashtag> saved </hashtag> <hashtag> hedge funds </hashtag> <hashtag> mutual funds </hashtag> <hashtag> coronavirus </hashtag>\n",
            "INDEX: 29354, TOKEN: 258, TEXT:\n",
            "rest , it ' s going to be okay ! <hashtag> stay at home </hashtag> <hashtag> stay safe </hashtag> #         <hashtag> inspiration </hashtag> <hashtag> mah f works </hashtag> <hashtag> creative </hashtag> <hashtag> agency </hashtag> <hashtag> red </hashtag> <hashtag> peach </hashtag> <hashtag> toilet paper </hashtag> <hashtag> toilet paper crisis </hashtag> <hashtag> panic buying </hashtag> <hashtag> insta art </hashtag> <hashtag> cartoon </hashtag> <hashtag> covid 19 </hashtag> <hashtag> cov </hashtag>  d19 <hashtag> coronavirus </hashtag> <hashtag> illustration </hashtag> <hashtag> virus </hashtag> <hashtag> creativity </hashtag> <hashtag> rest </hashtag> <hashtag> stop hoarding </hashtag> <hashtag> digital art </hashtag> <url>\n",
            "INDEX: 29694, TOKEN: 279, TEXT:\n",
            "this quarantine ain  t it chief ? ? <hashtag> bowl </hashtag> <hashtag> bowling </hashtag> <hashtag> dv 8 </hashtag> <hashtag> outcast </hashtag> <hashtag> quarantine diaries </hashtag> <hashtag> quarantine life </hashtag> <hashtag> coronavirus </hashtag> <hashtag> covid 19 </hashtag> <hashtag> virus </hashtag> <hashtag> outside </hashtag> <hashtag> toilet paper </hashtag> <hashtag> tik tok </hashtag> <hashtag> bored </hashtag> <hashtag> bored at home </hashtag> <hashtag> gaming </hashtag> <hashtag> gamer </hashtag> <hashtag> pba </hashtag> <hashtag> pb at our </hashtag> <hashtag> pro </hashtag> <hashtag> missed </hashtag> <hashtag> messenger </hashtag> <hashtag> 24 hours </hashtag> <hashtag> 2 weeks </hashtag> <hashtag> wow </hashtag> <url>\n",
            "INDEX: 34238, TOKEN: 262, TEXT:\n",
            "<hashtag> ghettoheatmovement </hashtag> : <allcaps> rockin </allcaps> ' <allcaps> back </allcaps> & <allcaps> forth in my chair </allcaps> , <allcaps> wearin </allcaps> ' <allcaps> my hoody </allcaps> , <allcaps> wrapped in my blanket </allcaps> , <allcaps> feelin </allcaps> ' <allcaps> exhausted </allcaps> , <allcaps> thinkin </allcaps> ' ' <allcaps> bout standin </allcaps> ' <allcaps> in line at the supermarket </allcaps> , <allcaps> actin </allcaps> ' <allcaps> like im cool wit </allcaps> ' <hashtag> socialdistancing </hashtag> <allcaps> there </allcaps> . . . . <allcaps> why i have to wait so long before </allcaps> e <url>\n",
            "INDEX: 34768, TOKEN: 280, TEXT:\n",
            "<hashtag> corona virus </hashtag> <hashtag> kits </hashtag> ! ! ! <hashtag> masks </hashtag> ( <number> ply ) , <hashtag> hand sanitizer </hashtag> ( <number> %) <hashtag> latex gloves </hashtag> , <hashtag> coveralls </hashtag> , <hashtag> disinfectant wipes </hashtag> . order now ! ! ! ( <hashtag> families </hashtag> <hashtag> corporations </hashtag> <hashtag> entrepreneurs </hashtag> <hashtag> hypebeast </hashtag> <hashtag> ap </hashtag> <hashtag> abc news </hashtag> <hashtag> cnn </hashtag> <hashtag> cdc </hashtag> <hashtag> new york </hashtag> <hashtag> atlanta </hashtag> <hashtag> st louis </hashtag> <hashtag> denver </hashtag> <hashtag> mtv </hashtag> <hashtag> mayors </hashtag> <hashtag> tmz </hashtag> ) visit : <url> <url>\n",
            "INDEX: 34814, TOKEN: 261, TEXT:\n",
            "cartoons made my day <number> more on <url> <hashtag> cartoon </hashtag> <hashtag> fun </hashtag> <hashtag> comic </hashtag> <hashtag> pandemic </hashtag> <hashtag> pic of the day </hashtag> <hashtag> smile </hashtag> <hashtag> corona </hashtag> <hashtag> covid19 </hashtag> <hashtag> coronavirus </hashtag> <hashtag> lockdown </hashtag> <hashtag> stupid </hashtag> <hashtag> quarantine </hashtag> <hashtag> virus </hashtag> <hashtag> happy </hashtag> <hashtag> stay home </hashtag> <hashtag> health </hashtag> <hashtag> bathroom </hashtag> <hashtag> toilet paper </hashtag> <hashtag> shut down </hashtag> <hashtag> stay at home </hashtag> <hashtag> stay the fuck home </hashtag> <hashtag> flatten the curve </hashtag> <url>\n",
            "INDEX: 35143, TOKEN: 252, TEXT:\n",
            "this is <hashtag> hand sanitizers </hashtag> ? logo design . if you like it and get one for you ? contact me : <url> <hashtag> logo </hashtag> <hashtag> alcohol </hashtag> <hashtag> antibacterial </hashtag> <hashtag> coronavirus </hashtag> <hashtag> covid 2019 </hashtag> <hashtag> cream </hashtag> <hashtag> hand </hashtag> <hashtag> sanitizer </hashtag> <hashtag> bernie </hashtag> <hashtag> health </hashtag> <hashtag> leaf </hashtag> <hashtag> liquid </hashtag> <hashtag> medical </hashtag> <hashtag> n cov </hashtag> <hashtag> plus </hashtag> <hashtag> protection </hashtag> <hashtag> safe </hashtag> <hashtag> soap </hashtag> <hashtag> toilet </hashtag> <hashtag> wash </hashtag> <url>\n",
            "INDEX: 35315, TOKEN: 319, TEXT:\n",
            "safest job in america is <hashtag> uninsured </hashtag> <hashtag> super market </hashtag> <hashtag> grocery store </hashtag> \" bagger . \" are they healthy ? how do <allcaps> you </allcaps> know . <hashtag> msnbc </hashtag> <hashtag> fox news </hashtag> <hashtag> nytimes </hashtag> <hashtag> cnn </hashtag> <hashtag> wsj </hashtag> <hashtag> cnbc </hashtag> <hashtag> politico </hashtag> <hashtag> huffpost </hashtag> <hashtag> drudge </hashtag> <hashtag> bbc </hashtag> <hashtag> gop </hashtag> <hashtag> npr </hashtag> <hashtag> daily kos </hashtag> <hashtag> the hill </hashtag> <hashtag> wapo </hashtag> <hashtag> nbc </hashtag> <hashtag> cbs </hashtag> <hashtag> ap </hashtag> <hashtag> slate </hashtag> <hashtag> aarp </hashtag> <hashtag> fed </hashtag> <hashtag> covid 19 </hashtag> <user> <hashtag> nyc </hashtag>\n",
            "INDEX: 38267, TOKEN: 296, TEXT:\n",
            "closer look at <hashtag> consumer </hashtag> <hashtag> stockpiling </hashtag> in <hashtag> coronavirus </hashtag> crisis <url> <user> <hashtag> corp gov </hashtag> <hashtag> ceo </hashtag> <hashtag> cfo </hashtag> <hashtag> cmo </hashtag> <hashtag> esg </hashtag> <hashtag> grc </hashtag> <hashtag> founder </hashtag> <hashtag> entrepreneur </hashtag> <hashtag> board </hashtag> <hashtag> boardof directors </hashtag> <hashtag> directorship </hashtag> <hashtag> governance </hashtag> <hashtag> vc </hashtag> <hashtag> cvc </hashtag> <hashtag> pe </hashtag> <hashtag> startup </hashtag> <hashtag> smb </hashtag> <hashtag> marketing </hashtag> <hashtag> ux </hashtag> <hashtag> cx </hashtag> <hashtag> mrx </hashtag> <hashtag> shopping </hashtag> <hashtag> covid 19 </hashtag> <url>\n",
            "INDEX: 40253, TOKEN: 265, TEXT:\n",
            "grap some for your family and keep in safe , <hashtag> hand sanitizer </hashtag> <hashtag> natural </hashtag> <hashtag> bath and body works </hashtag> <hashtag> sanitizer </hashtag> <hashtag> coronavirus </hashtag> <hashtag> hand gel </hashtag> <hashtag> tasneem naturel </hashtag> <hashtag> bbw </hashtag> <hashtag> cf bath </hashtag> <hashtag> bugs away </hashtag> <hashtag> kleen zy </hashtag> <hashtag> bac out </hashtag> <hashtag> calm bath </hashtag> <hashtag> antibacterial </hashtag> <hashtag> skin care </hashtag> <hashtag> essential oils </hashtag> <hashtag> ibu meng and ung </hashtag> <hashtag> non toxic </hashtag> <hashtag> sleep time </hashtag> <hashtag> calm time </hashtag> <hashtag> corona v </hashtag> <url>\n",
            "INDEX: 40477, TOKEN: 269, TEXT:\n",
            "it is a great week again <hashtag> monday motivation </hashtag> <hashtag> superstore </hashtag> <hashtag> co vid </hashtag> <hashtag> co vid </hashtag> - <number> <hashtag> covid 19 </hashtag> <hashtag> coronavirus </hashtag> <hashtag> stay at home </hashtag> <hashtag> lockdown </hashtag> <hashtag> nigeria </hashtag> <hashtag> lagos </hashtag> <hashtag> naija </hashtag> <hashtag> abuja </hashtag> <hashtag> oniru </hashtag> <hashtag> victoria island </hashtag> <hashtag> ajah </hashtag> <hashtag> lekki </hashtag> <hashtag> car dealers </hashtag> <hashtag> supermarket </hashtag> <hashtag> shopping </hashtag> <hashtag> online shopping </hashtag> <hashtag> shoppers </hashtag> <hashtag> groceries </hashtag> <hashtag> stores </hashtag> <url>\n",
            "Total of tweets:  51\n"
          ]
        }
      ]
    },
    {
      "cell_type": "code",
      "source": [
        "train[\"Token_lens\"] = train_token_lens"
      ],
      "metadata": {
        "id": "b12QoJUJeisT"
      },
      "execution_count": null,
      "outputs": []
    },
    {
      "cell_type": "code",
      "source": [
        "train = train[train[\"Token_lens\"]<250]"
      ],
      "metadata": {
        "id": "Y5AmH2z_eiqD"
      },
      "execution_count": null,
      "outputs": []
    },
    {
      "cell_type": "code",
      "source": [
        "train.info()"
      ],
      "metadata": {
        "colab": {
          "base_uri": "https://localhost:8080/"
        },
        "id": "v6gr3lEwein7",
        "outputId": "63ff82cf-ca20-4623-e2b7-49557f70be03"
      },
      "execution_count": null,
      "outputs": [
        {
          "output_type": "stream",
          "name": "stdout",
          "text": [
            "<class 'pandas.core.frame.DataFrame'>\n",
            "Int64Index: 41026 entries, 0 to 41156\n",
            "Data columns (total 4 columns):\n",
            " #   Column         Non-Null Count  Dtype \n",
            "---  ------         --------------  ----- \n",
            " 0   OriginalTweet  41026 non-null  object\n",
            " 1   Sentiment      41026 non-null  object\n",
            " 2   tweet_len      41026 non-null  int64 \n",
            " 3   Token_lens     41026 non-null  int64 \n",
            "dtypes: int64(2), object(2)\n",
            "memory usage: 1.6+ MB\n"
          ]
        }
      ]
    },
    {
      "cell_type": "code",
      "source": [
        "test_token_lens = []\n",
        "total = 0\n",
        "for i,tweet in enumerate(test[\"OriginalTweet\"].values):\n",
        "    tokens = tokenizer.encode(tweet, max_length=512, truncation=True)\n",
        "    test_token_lens.append(len(tokens))\n",
        "    if len(tokens)>250:\n",
        "        print(f\"INDEX: {i}, TOKEN: {len(tokens)}, TEXT: {tweet}\")\n",
        "        total += 1\n",
        "print(\"Total of tweets: \",total)"
      ],
      "metadata": {
        "colab": {
          "base_uri": "https://localhost:8080/"
        },
        "id": "3fad2S40eilL",
        "outputId": "27ffcd72-e762-45c1-fe4d-b6870b9e3a30"
      },
      "execution_count": null,
      "outputs": [
        {
          "output_type": "stream",
          "name": "stdout",
          "text": [
            "Total of tweets:  0\n"
          ]
        }
      ]
    },
    {
      "cell_type": "code",
      "source": [
        "test[\"Token_lens\"] = test_token_lens"
      ],
      "metadata": {
        "id": "3-NkjotYeiij"
      },
      "execution_count": null,
      "outputs": []
    },
    {
      "cell_type": "code",
      "source": [
        "test = test[test[\"Token_lens\"]<250]"
      ],
      "metadata": {
        "id": "LacauKVOfZtL"
      },
      "execution_count": null,
      "outputs": []
    },
    {
      "cell_type": "code",
      "source": [
        "train = train.sort_values(by = \"Token_lens\",ascending=False)\n",
        "train.head(20)"
      ],
      "metadata": {
        "colab": {
          "base_uri": "https://localhost:8080/",
          "height": 676
        },
        "id": "PfimFdUVfZqc",
        "outputId": "2321c2b5-f401-4a0d-a3b5-b9921d805d21"
      },
      "execution_count": null,
      "outputs": [
        {
          "output_type": "execute_result",
          "data": {
            "text/html": [
              "\n",
              "  <div id=\"df-707a25ad-da2b-4b09-890b-48496ccac7f0\">\n",
              "    <div class=\"colab-df-container\">\n",
              "      <div>\n",
              "<style scoped>\n",
              "    .dataframe tbody tr th:only-of-type {\n",
              "        vertical-align: middle;\n",
              "    }\n",
              "\n",
              "    .dataframe tbody tr th {\n",
              "        vertical-align: top;\n",
              "    }\n",
              "\n",
              "    .dataframe thead th {\n",
              "        text-align: right;\n",
              "    }\n",
              "</style>\n",
              "<table border=\"1\" class=\"dataframe\">\n",
              "  <thead>\n",
              "    <tr style=\"text-align: right;\">\n",
              "      <th></th>\n",
              "      <th>OriginalTweet</th>\n",
              "      <th>Sentiment</th>\n",
              "      <th>tweet_len</th>\n",
              "      <th>Token_lens</th>\n",
              "    </tr>\n",
              "  </thead>\n",
              "  <tbody>\n",
              "    <tr>\n",
              "      <th>18411</th>\n",
              "      <td>the various levels of filth &lt;url&gt; &lt;hashtag&gt; co...</td>\n",
              "      <td>Neutral</td>\n",
              "      <td>80</td>\n",
              "      <td>249</td>\n",
              "    </tr>\n",
              "    <tr>\n",
              "      <th>10205</th>\n",
              "      <td>&lt;number&gt; more cases of mres have just arrived ...</td>\n",
              "      <td>Positive</td>\n",
              "      <td>88</td>\n",
              "      <td>249</td>\n",
              "    </tr>\n",
              "    <tr>\n",
              "      <th>18413</th>\n",
              "      <td>not living above your means &lt;url&gt; &lt;hashtag&gt; co...</td>\n",
              "      <td>Neutral</td>\n",
              "      <td>79</td>\n",
              "      <td>247</td>\n",
              "    </tr>\n",
              "    <tr>\n",
              "      <th>24783</th>\n",
              "      <td>&lt;hashtag&gt; covid &lt;/hashtag&gt; ? &lt;number&gt; protecti...</td>\n",
              "      <td>Neutral</td>\n",
              "      <td>83</td>\n",
              "      <td>246</td>\n",
              "    </tr>\n",
              "    <tr>\n",
              "      <th>11466</th>\n",
              "      <td>many common &lt;hashtag&gt; household &lt;/hashtag&gt; &lt;ha...</td>\n",
              "      <td>Neutral</td>\n",
              "      <td>81</td>\n",
              "      <td>246</td>\n",
              "    </tr>\n",
              "    <tr>\n",
              "      <th>35092</th>\n",
              "      <td>our little plague doctor friend has arrived to...</td>\n",
              "      <td>Extremely Positive</td>\n",
              "      <td>83</td>\n",
              "      <td>245</td>\n",
              "    </tr>\n",
              "    <tr>\n",
              "      <th>4045</th>\n",
              "      <td>today at the grocery store . yep , this really...</td>\n",
              "      <td>Positive</td>\n",
              "      <td>87</td>\n",
              "      <td>245</td>\n",
              "    </tr>\n",
              "    <tr>\n",
              "      <th>34867</th>\n",
              "      <td>when you are out of toilet paper and need to b...</td>\n",
              "      <td>Positive</td>\n",
              "      <td>92</td>\n",
              "      <td>244</td>\n",
              "    </tr>\n",
              "    <tr>\n",
              "      <th>23461</th>\n",
              "      <td>&lt;user&gt; ji &lt;allcaps&gt; gods &lt;/allcaps&gt; + &lt;allcaps...</td>\n",
              "      <td>Extremely Negative</td>\n",
              "      <td>76</td>\n",
              "      <td>244</td>\n",
              "    </tr>\n",
              "    <tr>\n",
              "      <th>24398</th>\n",
              "      <td>? new podcast ! \" businesses answering the &lt;al...</td>\n",
              "      <td>Positive</td>\n",
              "      <td>80</td>\n",
              "      <td>244</td>\n",
              "    </tr>\n",
              "    <tr>\n",
              "      <th>32929</th>\n",
              "      <td>&lt;allcaps&gt; social distancing &lt;/allcaps&gt; ? ? red...</td>\n",
              "      <td>Extremely Positive</td>\n",
              "      <td>83</td>\n",
              "      <td>244</td>\n",
              "    </tr>\n",
              "    <tr>\n",
              "      <th>5511</th>\n",
              "      <td>panic buying causes headaches for new zealand ...</td>\n",
              "      <td>Extremely Negative</td>\n",
              "      <td>88</td>\n",
              "      <td>243</td>\n",
              "    </tr>\n",
              "    <tr>\n",
              "      <th>9017</th>\n",
              "      <td>&lt;allcaps&gt; covid &lt;/allcaps&gt; - &lt;number&gt; : tracki...</td>\n",
              "      <td>Neutral</td>\n",
              "      <td>79</td>\n",
              "      <td>242</td>\n",
              "    </tr>\n",
              "    <tr>\n",
              "      <th>32921</th>\n",
              "      <td>market update : traders buck the t . . . - &lt;ha...</td>\n",
              "      <td>Neutral</td>\n",
              "      <td>84</td>\n",
              "      <td>242</td>\n",
              "    </tr>\n",
              "    <tr>\n",
              "      <th>31289</th>\n",
              "      <td>still not the easiest to find tp &lt;hashtag&gt; ste...</td>\n",
              "      <td>Negative</td>\n",
              "      <td>85</td>\n",
              "      <td>241</td>\n",
              "    </tr>\n",
              "    <tr>\n",
              "      <th>28978</th>\n",
              "      <td>&lt;allcaps&gt; pm of india mr &lt;/allcaps&gt; . &lt;allcaps...</td>\n",
              "      <td>Negative</td>\n",
              "      <td>82</td>\n",
              "      <td>240</td>\n",
              "    </tr>\n",
              "    <tr>\n",
              "      <th>30286</th>\n",
              "      <td>when disneyland &lt;allcaps&gt; reopens &lt;/allcaps&gt; i...</td>\n",
              "      <td>Positive</td>\n",
              "      <td>87</td>\n",
              "      <td>240</td>\n",
              "    </tr>\n",
              "    <tr>\n",
              "      <th>37670</th>\n",
              "      <td>&lt;allcaps&gt; reduce your risk of covid &lt;/allcaps&gt;...</td>\n",
              "      <td>Negative</td>\n",
              "      <td>85</td>\n",
              "      <td>240</td>\n",
              "    </tr>\n",
              "    <tr>\n",
              "      <th>5323</th>\n",
              "      <td>&lt;number&gt; . 0 1 7 / kwh &lt;hashtag&gt; wind &lt;/hashta...</td>\n",
              "      <td>Positive</td>\n",
              "      <td>90</td>\n",
              "      <td>240</td>\n",
              "    </tr>\n",
              "    <tr>\n",
              "      <th>16133</th>\n",
              "      <td>going to become a road warrior with these gas ...</td>\n",
              "      <td>Neutral</td>\n",
              "      <td>80</td>\n",
              "      <td>240</td>\n",
              "    </tr>\n",
              "  </tbody>\n",
              "</table>\n",
              "</div>\n",
              "      <button class=\"colab-df-convert\" onclick=\"convertToInteractive('df-707a25ad-da2b-4b09-890b-48496ccac7f0')\"\n",
              "              title=\"Convert this dataframe to an interactive table.\"\n",
              "              style=\"display:none;\">\n",
              "        \n",
              "  <svg xmlns=\"http://www.w3.org/2000/svg\" height=\"24px\"viewBox=\"0 0 24 24\"\n",
              "       width=\"24px\">\n",
              "    <path d=\"M0 0h24v24H0V0z\" fill=\"none\"/>\n",
              "    <path d=\"M18.56 5.44l.94 2.06.94-2.06 2.06-.94-2.06-.94-.94-2.06-.94 2.06-2.06.94zm-11 1L8.5 8.5l.94-2.06 2.06-.94-2.06-.94L8.5 2.5l-.94 2.06-2.06.94zm10 10l.94 2.06.94-2.06 2.06-.94-2.06-.94-.94-2.06-.94 2.06-2.06.94z\"/><path d=\"M17.41 7.96l-1.37-1.37c-.4-.4-.92-.59-1.43-.59-.52 0-1.04.2-1.43.59L10.3 9.45l-7.72 7.72c-.78.78-.78 2.05 0 2.83L4 21.41c.39.39.9.59 1.41.59.51 0 1.02-.2 1.41-.59l7.78-7.78 2.81-2.81c.8-.78.8-2.07 0-2.86zM5.41 20L4 18.59l7.72-7.72 1.47 1.35L5.41 20z\"/>\n",
              "  </svg>\n",
              "      </button>\n",
              "      \n",
              "  <style>\n",
              "    .colab-df-container {\n",
              "      display:flex;\n",
              "      flex-wrap:wrap;\n",
              "      gap: 12px;\n",
              "    }\n",
              "\n",
              "    .colab-df-convert {\n",
              "      background-color: #E8F0FE;\n",
              "      border: none;\n",
              "      border-radius: 50%;\n",
              "      cursor: pointer;\n",
              "      display: none;\n",
              "      fill: #1967D2;\n",
              "      height: 32px;\n",
              "      padding: 0 0 0 0;\n",
              "      width: 32px;\n",
              "    }\n",
              "\n",
              "    .colab-df-convert:hover {\n",
              "      background-color: #E2EBFA;\n",
              "      box-shadow: 0px 1px 2px rgba(60, 64, 67, 0.3), 0px 1px 3px 1px rgba(60, 64, 67, 0.15);\n",
              "      fill: #174EA6;\n",
              "    }\n",
              "\n",
              "    [theme=dark] .colab-df-convert {\n",
              "      background-color: #3B4455;\n",
              "      fill: #D2E3FC;\n",
              "    }\n",
              "\n",
              "    [theme=dark] .colab-df-convert:hover {\n",
              "      background-color: #434B5C;\n",
              "      box-shadow: 0px 1px 3px 1px rgba(0, 0, 0, 0.15);\n",
              "      filter: drop-shadow(0px 1px 2px rgba(0, 0, 0, 0.3));\n",
              "      fill: #FFFFFF;\n",
              "    }\n",
              "  </style>\n",
              "\n",
              "      <script>\n",
              "        const buttonEl =\n",
              "          document.querySelector('#df-707a25ad-da2b-4b09-890b-48496ccac7f0 button.colab-df-convert');\n",
              "        buttonEl.style.display =\n",
              "          google.colab.kernel.accessAllowed ? 'block' : 'none';\n",
              "\n",
              "        async function convertToInteractive(key) {\n",
              "          const element = document.querySelector('#df-707a25ad-da2b-4b09-890b-48496ccac7f0');\n",
              "          const dataTable =\n",
              "            await google.colab.kernel.invokeFunction('convertToInteractive',\n",
              "                                                     [key], {});\n",
              "          if (!dataTable) return;\n",
              "\n",
              "          const docLinkHtml = 'Like what you see? Visit the ' +\n",
              "            '<a target=\"_blank\" href=https://colab.research.google.com/notebooks/data_table.ipynb>data table notebook</a>'\n",
              "            + ' to learn more about interactive tables.';\n",
              "          element.innerHTML = '';\n",
              "          dataTable['output_type'] = 'display_data';\n",
              "          await google.colab.output.renderOutput(dataTable, element);\n",
              "          const docLink = document.createElement('div');\n",
              "          docLink.innerHTML = docLinkHtml;\n",
              "          element.appendChild(docLink);\n",
              "        }\n",
              "      </script>\n",
              "    </div>\n",
              "  </div>\n",
              "  "
            ],
            "text/plain": [
              "                                           OriginalTweet  ... Token_lens\n",
              "18411  the various levels of filth <url> <hashtag> co...  ...        249\n",
              "10205  <number> more cases of mres have just arrived ...  ...        249\n",
              "18413  not living above your means <url> <hashtag> co...  ...        247\n",
              "24783  <hashtag> covid </hashtag> ? <number> protecti...  ...        246\n",
              "11466  many common <hashtag> household </hashtag> <ha...  ...        246\n",
              "35092  our little plague doctor friend has arrived to...  ...        245\n",
              "4045   today at the grocery store . yep , this really...  ...        245\n",
              "34867  when you are out of toilet paper and need to b...  ...        244\n",
              "23461  <user> ji <allcaps> gods </allcaps> + <allcaps...  ...        244\n",
              "24398  ? new podcast ! \" businesses answering the <al...  ...        244\n",
              "32929  <allcaps> social distancing </allcaps> ? ? red...  ...        244\n",
              "5511   panic buying causes headaches for new zealand ...  ...        243\n",
              "9017   <allcaps> covid </allcaps> - <number> : tracki...  ...        242\n",
              "32921  market update : traders buck the t . . . - <ha...  ...        242\n",
              "31289  still not the easiest to find tp <hashtag> ste...  ...        241\n",
              "28978  <allcaps> pm of india mr </allcaps> . <allcaps...  ...        240\n",
              "30286  when disneyland <allcaps> reopens </allcaps> i...  ...        240\n",
              "37670  <allcaps> reduce your risk of covid </allcaps>...  ...        240\n",
              "5323   <number> . 0 1 7 / kwh <hashtag> wind </hashta...  ...        240\n",
              "16133  going to become a road warrior with these gas ...  ...        240\n",
              "\n",
              "[20 rows x 4 columns]"
            ]
          },
          "metadata": {},
          "execution_count": 91
        }
      ]
    },
    {
      "cell_type": "code",
      "source": [
        "#train = train.iloc[8:]"
      ],
      "metadata": {
        "id": "33_gM2zzfZnb"
      },
      "execution_count": null,
      "outputs": []
    },
    {
      "cell_type": "code",
      "source": [
        "train = train.sample(frac=1).reset_index(drop=True)"
      ],
      "metadata": {
        "id": "sfO0pMD9fZkr"
      },
      "execution_count": null,
      "outputs": []
    },
    {
      "cell_type": "code",
      "source": [
        "test = test.sort_values(by = \"Token_lens\",ascending=False)\n",
        "test.head(20)"
      ],
      "metadata": {
        "colab": {
          "base_uri": "https://localhost:8080/",
          "height": 676
        },
        "id": "upHeYdcafZiD",
        "outputId": "bf6661ed-5359-4cae-d109-bb8c9f6040ab"
      },
      "execution_count": null,
      "outputs": [
        {
          "output_type": "execute_result",
          "data": {
            "text/html": [
              "\n",
              "  <div id=\"df-41095aab-437b-4025-a1ad-1a2df882b7d4\">\n",
              "    <div class=\"colab-df-container\">\n",
              "      <div>\n",
              "<style scoped>\n",
              "    .dataframe tbody tr th:only-of-type {\n",
              "        vertical-align: middle;\n",
              "    }\n",
              "\n",
              "    .dataframe tbody tr th {\n",
              "        vertical-align: top;\n",
              "    }\n",
              "\n",
              "    .dataframe thead th {\n",
              "        text-align: right;\n",
              "    }\n",
              "</style>\n",
              "<table border=\"1\" class=\"dataframe\">\n",
              "  <thead>\n",
              "    <tr style=\"text-align: right;\">\n",
              "      <th></th>\n",
              "      <th>OriginalTweet</th>\n",
              "      <th>Sentiment</th>\n",
              "      <th>tweet_len</th>\n",
              "      <th>Token_lens</th>\n",
              "    </tr>\n",
              "  </thead>\n",
              "  <tbody>\n",
              "    <tr>\n",
              "      <th>2885</th>\n",
              "      <td>&lt;hashtag&gt; covid &lt;/hashtag&gt; ? &lt;number&gt; ? face m...</td>\n",
              "      <td>Neutral</td>\n",
              "      <td>85</td>\n",
              "      <td>242</td>\n",
              "    </tr>\n",
              "    <tr>\n",
              "      <th>1421</th>\n",
              "      <td>&lt;allcaps&gt; this &lt;/allcaps&gt; &lt;hashtag&gt; coronoviru...</td>\n",
              "      <td>Negative</td>\n",
              "      <td>91</td>\n",
              "      <td>232</td>\n",
              "    </tr>\n",
              "    <tr>\n",
              "      <th>1460</th>\n",
              "      <td>&lt;hashtag&gt; covid 19 &lt;/hashtag&gt; &lt;number&gt; protect...</td>\n",
              "      <td>Neutral</td>\n",
              "      <td>82</td>\n",
              "      <td>228</td>\n",
              "    </tr>\n",
              "    <tr>\n",
              "      <th>709</th>\n",
              "      <td>&lt;allcaps&gt; nyc &lt;/allcaps&gt; water . &lt;allcaps&gt; is ...</td>\n",
              "      <td>Extremely Negative</td>\n",
              "      <td>93</td>\n",
              "      <td>226</td>\n",
              "    </tr>\n",
              "    <tr>\n",
              "      <th>1384</th>\n",
              "      <td>&lt;hashtag&gt; covid 19 &lt;/hashtag&gt; protection face ...</td>\n",
              "      <td>Neutral</td>\n",
              "      <td>81</td>\n",
              "      <td>225</td>\n",
              "    </tr>\n",
              "    <tr>\n",
              "      <th>3738</th>\n",
              "      <td>&lt;number&gt; weeks &lt;hashtag&gt; lockdown &lt;/hashtag&gt; !...</td>\n",
              "      <td>Neutral</td>\n",
              "      <td>75</td>\n",
              "      <td>207</td>\n",
              "    </tr>\n",
              "    <tr>\n",
              "      <th>706</th>\n",
              "      <td>this panel by sid teles perfectly embodies the...</td>\n",
              "      <td>Extremely Positive</td>\n",
              "      <td>69</td>\n",
              "      <td>205</td>\n",
              "    </tr>\n",
              "    <tr>\n",
              "      <th>1015</th>\n",
              "      <td>&lt;user&gt; &lt;user&gt; this = as bad for the ? as the p...</td>\n",
              "      <td>Extremely Negative</td>\n",
              "      <td>84</td>\n",
              "      <td>202</td>\n",
              "    </tr>\n",
              "    <tr>\n",
              "      <th>2466</th>\n",
              "      <td>&lt;hashtag&gt; ohio coronavirus &lt;/hashtag&gt; &lt;hashtag...</td>\n",
              "      <td>Neutral</td>\n",
              "      <td>71</td>\n",
              "      <td>201</td>\n",
              "    </tr>\n",
              "    <tr>\n",
              "      <th>2995</th>\n",
              "      <td>. &lt;user&gt; says it is out of &lt;hashtag&gt; stock &lt;/h...</td>\n",
              "      <td>Negative</td>\n",
              "      <td>70</td>\n",
              "      <td>201</td>\n",
              "    </tr>\n",
              "    <tr>\n",
              "      <th>2975</th>\n",
              "      <td>&lt;hashtag&gt; covid &lt;/hashtag&gt; ? &lt;number&gt; &lt;hashtag...</td>\n",
              "      <td>Neutral</td>\n",
              "      <td>74</td>\n",
              "      <td>199</td>\n",
              "    </tr>\n",
              "    <tr>\n",
              "      <th>2499</th>\n",
              "      <td>just did not make &lt;allcaps&gt; any &lt;/allcaps&gt; sen...</td>\n",
              "      <td>Negative</td>\n",
              "      <td>71</td>\n",
              "      <td>198</td>\n",
              "    </tr>\n",
              "    <tr>\n",
              "      <th>2572</th>\n",
              "      <td>stores selling out due to &lt;hashtag&gt; panic buyi...</td>\n",
              "      <td>Positive</td>\n",
              "      <td>73</td>\n",
              "      <td>196</td>\n",
              "    </tr>\n",
              "    <tr>\n",
              "      <th>1295</th>\n",
              "      <td>here a good and must buy deal for you . get &lt;a...</td>\n",
              "      <td>Extremely Positive</td>\n",
              "      <td>75</td>\n",
              "      <td>193</td>\n",
              "    </tr>\n",
              "    <tr>\n",
              "      <th>225</th>\n",
              "      <td>so we re &lt;hashtag&gt; washing hands &lt;/hashtag&gt; mo...</td>\n",
              "      <td>Positive</td>\n",
              "      <td>77</td>\n",
              "      <td>193</td>\n",
              "    </tr>\n",
              "    <tr>\n",
              "      <th>1485</th>\n",
              "      <td>&lt;allcaps&gt; dtf &lt;/allcaps&gt; - don t touch face &lt;a...</td>\n",
              "      <td>Extremely Negative</td>\n",
              "      <td>82</td>\n",
              "      <td>192</td>\n",
              "    </tr>\n",
              "    <tr>\n",
              "      <th>1459</th>\n",
              "      <td>face masks on stock online in europe regular p...</td>\n",
              "      <td>Positive</td>\n",
              "      <td>74</td>\n",
              "      <td>190</td>\n",
              "    </tr>\n",
              "    <tr>\n",
              "      <th>192</th>\n",
              "      <td>&lt;allcaps&gt; coronavirus effect on bond prices &lt;/...</td>\n",
              "      <td>Positive</td>\n",
              "      <td>71</td>\n",
              "      <td>189</td>\n",
              "    </tr>\n",
              "    <tr>\n",
              "      <th>2570</th>\n",
              "      <td>stores selling out due to &lt;hashtag&gt; panic buyi...</td>\n",
              "      <td>Positive</td>\n",
              "      <td>72</td>\n",
              "      <td>188</td>\n",
              "    </tr>\n",
              "    <tr>\n",
              "      <th>2956</th>\n",
              "      <td>long line outside a supermarket in &lt;hashtag&gt; i...</td>\n",
              "      <td>Neutral</td>\n",
              "      <td>64</td>\n",
              "      <td>185</td>\n",
              "    </tr>\n",
              "  </tbody>\n",
              "</table>\n",
              "</div>\n",
              "      <button class=\"colab-df-convert\" onclick=\"convertToInteractive('df-41095aab-437b-4025-a1ad-1a2df882b7d4')\"\n",
              "              title=\"Convert this dataframe to an interactive table.\"\n",
              "              style=\"display:none;\">\n",
              "        \n",
              "  <svg xmlns=\"http://www.w3.org/2000/svg\" height=\"24px\"viewBox=\"0 0 24 24\"\n",
              "       width=\"24px\">\n",
              "    <path d=\"M0 0h24v24H0V0z\" fill=\"none\"/>\n",
              "    <path d=\"M18.56 5.44l.94 2.06.94-2.06 2.06-.94-2.06-.94-.94-2.06-.94 2.06-2.06.94zm-11 1L8.5 8.5l.94-2.06 2.06-.94-2.06-.94L8.5 2.5l-.94 2.06-2.06.94zm10 10l.94 2.06.94-2.06 2.06-.94-2.06-.94-.94-2.06-.94 2.06-2.06.94z\"/><path d=\"M17.41 7.96l-1.37-1.37c-.4-.4-.92-.59-1.43-.59-.52 0-1.04.2-1.43.59L10.3 9.45l-7.72 7.72c-.78.78-.78 2.05 0 2.83L4 21.41c.39.39.9.59 1.41.59.51 0 1.02-.2 1.41-.59l7.78-7.78 2.81-2.81c.8-.78.8-2.07 0-2.86zM5.41 20L4 18.59l7.72-7.72 1.47 1.35L5.41 20z\"/>\n",
              "  </svg>\n",
              "      </button>\n",
              "      \n",
              "  <style>\n",
              "    .colab-df-container {\n",
              "      display:flex;\n",
              "      flex-wrap:wrap;\n",
              "      gap: 12px;\n",
              "    }\n",
              "\n",
              "    .colab-df-convert {\n",
              "      background-color: #E8F0FE;\n",
              "      border: none;\n",
              "      border-radius: 50%;\n",
              "      cursor: pointer;\n",
              "      display: none;\n",
              "      fill: #1967D2;\n",
              "      height: 32px;\n",
              "      padding: 0 0 0 0;\n",
              "      width: 32px;\n",
              "    }\n",
              "\n",
              "    .colab-df-convert:hover {\n",
              "      background-color: #E2EBFA;\n",
              "      box-shadow: 0px 1px 2px rgba(60, 64, 67, 0.3), 0px 1px 3px 1px rgba(60, 64, 67, 0.15);\n",
              "      fill: #174EA6;\n",
              "    }\n",
              "\n",
              "    [theme=dark] .colab-df-convert {\n",
              "      background-color: #3B4455;\n",
              "      fill: #D2E3FC;\n",
              "    }\n",
              "\n",
              "    [theme=dark] .colab-df-convert:hover {\n",
              "      background-color: #434B5C;\n",
              "      box-shadow: 0px 1px 3px 1px rgba(0, 0, 0, 0.15);\n",
              "      filter: drop-shadow(0px 1px 2px rgba(0, 0, 0, 0.3));\n",
              "      fill: #FFFFFF;\n",
              "    }\n",
              "  </style>\n",
              "\n",
              "      <script>\n",
              "        const buttonEl =\n",
              "          document.querySelector('#df-41095aab-437b-4025-a1ad-1a2df882b7d4 button.colab-df-convert');\n",
              "        buttonEl.style.display =\n",
              "          google.colab.kernel.accessAllowed ? 'block' : 'none';\n",
              "\n",
              "        async function convertToInteractive(key) {\n",
              "          const element = document.querySelector('#df-41095aab-437b-4025-a1ad-1a2df882b7d4');\n",
              "          const dataTable =\n",
              "            await google.colab.kernel.invokeFunction('convertToInteractive',\n",
              "                                                     [key], {});\n",
              "          if (!dataTable) return;\n",
              "\n",
              "          const docLinkHtml = 'Like what you see? Visit the ' +\n",
              "            '<a target=\"_blank\" href=https://colab.research.google.com/notebooks/data_table.ipynb>data table notebook</a>'\n",
              "            + ' to learn more about interactive tables.';\n",
              "          element.innerHTML = '';\n",
              "          dataTable['output_type'] = 'display_data';\n",
              "          await google.colab.output.renderOutput(dataTable, element);\n",
              "          const docLink = document.createElement('div');\n",
              "          docLink.innerHTML = docLinkHtml;\n",
              "          element.appendChild(docLink);\n",
              "        }\n",
              "      </script>\n",
              "    </div>\n",
              "  </div>\n",
              "  "
            ],
            "text/plain": [
              "                                          OriginalTweet  ... Token_lens\n",
              "2885  <hashtag> covid </hashtag> ? <number> ? face m...  ...        242\n",
              "1421  <allcaps> this </allcaps> <hashtag> coronoviru...  ...        232\n",
              "1460  <hashtag> covid 19 </hashtag> <number> protect...  ...        228\n",
              "709   <allcaps> nyc </allcaps> water . <allcaps> is ...  ...        226\n",
              "1384  <hashtag> covid 19 </hashtag> protection face ...  ...        225\n",
              "3738  <number> weeks <hashtag> lockdown </hashtag> !...  ...        207\n",
              "706   this panel by sid teles perfectly embodies the...  ...        205\n",
              "1015  <user> <user> this = as bad for the ? as the p...  ...        202\n",
              "2466  <hashtag> ohio coronavirus </hashtag> <hashtag...  ...        201\n",
              "2995  . <user> says it is out of <hashtag> stock </h...  ...        201\n",
              "2975  <hashtag> covid </hashtag> ? <number> <hashtag...  ...        199\n",
              "2499  just did not make <allcaps> any </allcaps> sen...  ...        198\n",
              "2572  stores selling out due to <hashtag> panic buyi...  ...        196\n",
              "1295  here a good and must buy deal for you . get <a...  ...        193\n",
              "225   so we re <hashtag> washing hands </hashtag> mo...  ...        193\n",
              "1485  <allcaps> dtf </allcaps> - don t touch face <a...  ...        192\n",
              "1459  face masks on stock online in europe regular p...  ...        190\n",
              "192   <allcaps> coronavirus effect on bond prices </...  ...        189\n",
              "2570  stores selling out due to <hashtag> panic buyi...  ...        188\n",
              "2956  long line outside a supermarket in <hashtag> i...  ...        185\n",
              "\n",
              "[20 rows x 4 columns]"
            ]
          },
          "metadata": {},
          "execution_count": 93
        }
      ]
    },
    {
      "cell_type": "code",
      "source": [
        "test = test.sample(frac=1).reset_index(drop=True)"
      ],
      "metadata": {
        "id": "a2pCeInOfZfP"
      },
      "execution_count": null,
      "outputs": []
    },
    {
      "cell_type": "markdown",
      "source": [
        "##Train - Validation - Test Split"
      ],
      "metadata": {
        "id": "kSyph6NDfh9m"
      }
    },
    {
      "cell_type": "code",
      "source": [
        "X = train['OriginalTweet'].values\n",
        "y = train['Sentiment'].values"
      ],
      "metadata": {
        "id": "k8pFwjJ1fZcv"
      },
      "execution_count": null,
      "outputs": []
    },
    {
      "cell_type": "code",
      "source": [
        "seed = 42\n",
        "X_train, X_valid, y_train, y_valid = train_test_split(X, y, test_size=0.1, stratify=y, random_state=seed)"
      ],
      "metadata": {
        "id": "6kyQG5wJfZZ2"
      },
      "execution_count": null,
      "outputs": []
    },
    {
      "cell_type": "code",
      "source": [
        "X_test = test['OriginalTweet'].values\n",
        "y_test = test['Sentiment'].values"
      ],
      "metadata": {
        "id": "4AikdLoPfZXb"
      },
      "execution_count": null,
      "outputs": []
    },
    {
      "cell_type": "markdown",
      "source": [
        "##Label Encoding"
      ],
      "metadata": {
        "id": "uXBRn_ubfrYm"
      }
    },
    {
      "cell_type": "code",
      "source": [
        "def label_encoding(data):\n",
        "  label = preprocessing.LabelEncoder()\n",
        "  y = label.fit_transform(data)\n",
        "  y = to_categorical(y)\n",
        "  return y"
      ],
      "metadata": {
        "id": "Dw_M7ZQcfZU1"
      },
      "execution_count": null,
      "outputs": []
    },
    {
      "cell_type": "code",
      "source": [
        "y_valid = label_encoding(y_valid)\n",
        "y_test = label_encoding(y_test)\n",
        "y_train = label_encoding(y_train)"
      ],
      "metadata": {
        "id": "3BL_cdWmfZSJ"
      },
      "execution_count": null,
      "outputs": []
    },
    {
      "cell_type": "code",
      "source": [
        "y_test"
      ],
      "metadata": {
        "colab": {
          "base_uri": "https://localhost:8080/"
        },
        "id": "qoGpSR1IfZP_",
        "outputId": "c8c1372e-5189-4cde-c944-b8bf5469e1a0"
      },
      "execution_count": null,
      "outputs": [
        {
          "output_type": "execute_result",
          "data": {
            "text/plain": [
              "array([[0., 0., 0., 1., 0.],\n",
              "       [1., 0., 0., 0., 0.],\n",
              "       [0., 0., 1., 0., 0.],\n",
              "       ...,\n",
              "       [0., 0., 1., 0., 0.],\n",
              "       [0., 0., 0., 0., 1.],\n",
              "       [1., 0., 0., 0., 0.]], dtype=float32)"
            ]
          },
          "metadata": {},
          "execution_count": 100
        }
      ]
    },
    {
      "cell_type": "markdown",
      "source": [
        "##Sentiment Analysis"
      ],
      "metadata": {
        "id": "aD2w_Ypnfwir"
      }
    },
    {
      "cell_type": "code",
      "source": [
        "MAX_LEN=256"
      ],
      "metadata": {
        "id": "G_fxoI5NfZNE"
      },
      "execution_count": null,
      "outputs": []
    },
    {
      "cell_type": "code",
      "source": [
        "def tokenize(data,max_len=MAX_LEN) :\n",
        "    input_ids = []\n",
        "    attention_masks = []\n",
        "    for i in range(len(data)):\n",
        "        encoded = tokenizer.encode_plus(\n",
        "            data[i],\n",
        "            add_special_tokens=True,\n",
        "            max_length=MAX_LEN,\n",
        "            padding='max_length',\n",
        "            return_attention_mask=True\n",
        "        )\n",
        "        input_ids.append(encoded['input_ids'])\n",
        "        attention_masks.append(encoded['attention_mask'])\n",
        "    return np.array(input_ids),np.array(attention_masks)"
      ],
      "metadata": {
        "id": "A_JZqgGKfZKM"
      },
      "execution_count": null,
      "outputs": []
    },
    {
      "cell_type": "code",
      "source": [
        "train_input_ids, train_attention_masks = tokenize(X_train, MAX_LEN)\n",
        "val_input_ids, val_attention_masks = tokenize(X_valid, MAX_LEN)\n",
        "test_input_ids, test_attention_masks = tokenize(X_test, MAX_LEN)"
      ],
      "metadata": {
        "id": "fTQvaDnPfZHr"
      },
      "execution_count": null,
      "outputs": []
    },
    {
      "cell_type": "markdown",
      "source": [
        "##Modeling"
      ],
      "metadata": {
        "id": "7bCGlLmUf3Qz"
      }
    },
    {
      "cell_type": "code",
      "source": [
        "bert_model = TFBertModel.from_pretrained('bert-base-uncased')"
      ],
      "metadata": {
        "colab": {
          "base_uri": "https://localhost:8080/"
        },
        "id": "jERJT4MtfZFI",
        "outputId": "912c8c83-567b-4046-c33c-26f5cc7873f9"
      },
      "execution_count": null,
      "outputs": [
        {
          "output_type": "stream",
          "name": "stderr",
          "text": [
            "Some layers from the model checkpoint at bert-base-uncased were not used when initializing TFBertModel: ['nsp___cls', 'mlm___cls']\n",
            "- This IS expected if you are initializing TFBertModel from the checkpoint of a model trained on another task or with another architecture (e.g. initializing a BertForSequenceClassification model from a BertForPreTraining model).\n",
            "- This IS NOT expected if you are initializing TFBertModel from the checkpoint of a model that you expect to be exactly identical (initializing a BertForSequenceClassification model from a BertForSequenceClassification model).\n",
            "All the layers of TFBertModel were initialized from the model checkpoint at bert-base-uncased.\n",
            "If your task is similar to the task the model of the checkpoint was trained on, you can already use TFBertModel for predictions without further training.\n"
          ]
        }
      ]
    },
    {
      "cell_type": "code",
      "source": [
        "def create_model(bert_model, max_len=MAX_LEN):\n",
        "    \n",
        "    ##params###\n",
        "    opt = tf.keras.optimizers.Adam(learning_rate=1e-5, decay=1e-7)\n",
        "    loss = tf.keras.losses.CategoricalCrossentropy()\n",
        "    accuracy = tf.keras.metrics.CategoricalAccuracy()\n",
        "\n",
        "\n",
        "    input_ids = tf.keras.Input(shape=(max_len,),dtype='int32')\n",
        "    \n",
        "    attention_masks = tf.keras.Input(shape=(max_len,),dtype='int32')\n",
        "    \n",
        "    embeddings = bert_model([input_ids,attention_masks])[1]\n",
        "    \n",
        "    output = tf.keras.layers.Dense(5, activation=\"softmax\")(embeddings)\n",
        "    \n",
        "    model = tf.keras.models.Model(inputs = [input_ids,attention_masks], outputs = output)\n",
        "    \n",
        "    model.compile(opt, loss=loss, metrics=accuracy)\n",
        "    \n",
        "    \n",
        "    return model"
      ],
      "metadata": {
        "id": "04wZIMiDfZCf"
      },
      "execution_count": null,
      "outputs": []
    },
    {
      "cell_type": "code",
      "source": [
        "model = create_model(bert_model, MAX_LEN)\n",
        "model.summary()"
      ],
      "metadata": {
        "colab": {
          "base_uri": "https://localhost:8080/"
        },
        "id": "x2cZ6hPtfZAJ",
        "outputId": "280c47fc-6794-4099-a32b-2ff4f1a3df0a"
      },
      "execution_count": null,
      "outputs": [
        {
          "output_type": "stream",
          "name": "stdout",
          "text": [
            "Model: \"model_1\"\n",
            "__________________________________________________________________________________________________\n",
            " Layer (type)                   Output Shape         Param #     Connected to                     \n",
            "==================================================================================================\n",
            " input_3 (InputLayer)           [(None, 256)]        0           []                               \n",
            "                                                                                                  \n",
            " input_4 (InputLayer)           [(None, 256)]        0           []                               \n",
            "                                                                                                  \n",
            " tf_bert_model_1 (TFBertModel)  TFBaseModelOutputWi  109482240   ['input_3[0][0]',                \n",
            "                                thPoolingAndCrossAt               'input_4[0][0]']                \n",
            "                                tentions(last_hidde                                               \n",
            "                                n_state=(None, 256,                                               \n",
            "                                 768),                                                            \n",
            "                                 pooler_output=(Non                                               \n",
            "                                e, 768),                                                          \n",
            "                                 past_key_values=No                                               \n",
            "                                ne, hidden_states=N                                               \n",
            "                                one, attentions=Non                                               \n",
            "                                e, cross_attentions                                               \n",
            "                                =None)                                                            \n",
            "                                                                                                  \n",
            " dense_1 (Dense)                (None, 5)            3845        ['tf_bert_model_1[0][1]']        \n",
            "                                                                                                  \n",
            "==================================================================================================\n",
            "Total params: 109,486,085\n",
            "Trainable params: 109,486,085\n",
            "Non-trainable params: 0\n",
            "__________________________________________________________________________________________________\n"
          ]
        }
      ]
    },
    {
      "cell_type": "code",
      "source": [
        "history_bert = model.fit([train_input_ids,train_attention_masks], y_train, validation_data=([val_input_ids,val_attention_masks], y_valid), epochs=4, batch_size=16)"
      ],
      "metadata": {
        "colab": {
          "base_uri": "https://localhost:8080/"
        },
        "id": "kX6qAjyzfY9c",
        "outputId": "f83724ed-797a-4f1d-a122-b440e10fdced"
      },
      "execution_count": null,
      "outputs": [
        {
          "output_type": "stream",
          "name": "stdout",
          "text": [
            "Epoch 1/4\n",
            "2308/2308 [==============================] - 3695s 2s/step - loss: 0.8683 - categorical_accuracy: 0.6480 - val_loss: 0.5771 - val_categorical_accuracy: 0.7833\n",
            "Epoch 2/4\n",
            "2308/2308 [==============================] - 3670s 2s/step - loss: 0.4581 - categorical_accuracy: 0.8321 - val_loss: 0.4117 - val_categorical_accuracy: 0.8489\n",
            "Epoch 3/4\n",
            "2308/2308 [==============================] - 3669s 2s/step - loss: 0.3219 - categorical_accuracy: 0.8857 - val_loss: 0.4176 - val_categorical_accuracy: 0.8455\n",
            "Epoch 4/4\n",
            "2308/2308 [==============================] - 3669s 2s/step - loss: 0.2358 - categorical_accuracy: 0.9168 - val_loss: 0.3920 - val_categorical_accuracy: 0.8601\n"
          ]
        }
      ]
    },
    {
      "cell_type": "markdown",
      "source": [
        "#BERT Results"
      ],
      "metadata": {
        "id": "JdTQ5EGhf_id"
      }
    },
    {
      "cell_type": "code",
      "source": [
        "result_bert = model.predict([test_input_ids,test_attention_masks])"
      ],
      "metadata": {
        "id": "j0ngXDzCfY7D"
      },
      "execution_count": null,
      "outputs": []
    },
    {
      "cell_type": "code",
      "source": [
        "y_pred_bert =  np.zeros_like(result_bert)\n",
        "y_pred_bert[np.arange(len(y_pred_bert)), result_bert.argmax(1)] = 1"
      ],
      "metadata": {
        "id": "5w0YzfYzfY4N"
      },
      "execution_count": null,
      "outputs": []
    },
    {
      "cell_type": "code",
      "source": [
        "def conf_matrix(y, y_pred, title):\n",
        "    fig, ax =plt.subplots(figsize=(15,15))\n",
        "    labels=['Extremly Negative','Negative', 'Neutral', 'Positive','Extremly Positive']\n",
        "    ax=sns.heatmap(confusion_matrix(y, y_pred), annot=True, cmap=\"Blues\", fmt='g', cbar=False, annot_kws={\"size\":25})\n",
        "    plt.title(title, fontsize=20)\n",
        "    ax.xaxis.set_ticklabels(labels, fontsize=17) \n",
        "    ax.yaxis.set_ticklabels(labels, fontsize=17)\n",
        "    ax.set_ylabel('Test', fontsize=20)\n",
        "    ax.set_xlabel('Predicted', fontsize=20)\n",
        "    plt.show()"
      ],
      "metadata": {
        "id": "CmbOONtIfY1j"
      },
      "execution_count": null,
      "outputs": []
    },
    {
      "cell_type": "code",
      "source": [
        "from sklearn.metrics import accuracy_score, f1_score\n",
        "from sklearn.metrics import classification_report, confusion_matrix"
      ],
      "metadata": {
        "id": "QTjNbo9zfYzX"
      },
      "execution_count": null,
      "outputs": []
    },
    {
      "cell_type": "code",
      "source": [
        "conf_matrix(y_test.argmax(1), y_pred_bert.argmax(1),'BERT Sentiment Analysis\\nConfusion Matrix')"
      ],
      "metadata": {
        "colab": {
          "base_uri": "https://localhost:8080/",
          "height": 937
        },
        "id": "gimGWcfTfYwi",
        "outputId": "d5145089-5949-4111-85d1-d50f72acc01d"
      },
      "execution_count": null,
      "outputs": [
        {
          "output_type": "display_data",
          "data": {
            "image/png": "[encoded data removed]",
            "text/plain": [
              "<Figure size 1080x1080 with 1 Axes>"
            ]
          },
          "metadata": {
            "needs_background": "light"
          }
        }
      ]
    },
    {
      "cell_type": "code",
      "source": [
        "print('\\tClassification Report for BERT:\\n\\n',classification_report(y_test,y_pred_bert, target_names=['Extremely Negative','Negative', 'Neutral', 'Positive','Extremely Positive']))"
      ],
      "metadata": {
        "colab": {
          "base_uri": "https://localhost:8080/"
        },
        "id": "Bnp-q8AdfYuP",
        "outputId": "ffe74052-f641-44e6-bd5f-882fb39ecf64"
      },
      "execution_count": null,
      "outputs": [
        {
          "output_type": "stream",
          "name": "stdout",
          "text": [
            "\tClassification Report for BERT:\n",
            "\n",
            "                     precision    recall  f1-score   support\n",
            "\n",
            "Extremely Negative       0.81      0.92      0.86       592\n",
            "          Negative       0.88      0.87      0.87       599\n",
            "           Neutral       0.84      0.83      0.83      1040\n",
            "          Positive       0.95      0.84      0.89       619\n",
            "Extremely Positive       0.81      0.82      0.82       946\n",
            "\n",
            "         micro avg       0.85      0.85      0.85      3796\n",
            "         macro avg       0.86      0.86      0.86      3796\n",
            "      weighted avg       0.85      0.85      0.85      3796\n",
            "       samples avg       0.85      0.85      0.85      3796\n",
            "\n"
          ]
        }
      ]
    }
  ]
}