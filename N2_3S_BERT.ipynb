{
  "nbformat": 4,
  "nbformat_minor": 0,
  "metadata": {
    "colab": {
      "name": "N2_3S_BERT.ipynb",
      "provenance": [],
      "collapsed_sections": []
    },
    "kernelspec": {
      "name": "python3",
      "display_name": "Python 3"
    },
    "language_info": {
      "name": "python"
    },
    "accelerator": "GPU",
    "widgets": {
      "application/vnd.jupyter.widget-state+json": {
        "ad61dafadb5a4ed1ad1659dc8ef8e9b7": {
          "model_module": "@jupyter-widgets/controls",
          "model_name": "HBoxModel",
          "model_module_version": "1.5.0",
          "state": {
            "_view_name": "HBoxView",
            "_dom_classes": [],
            "_model_name": "HBoxModel",
            "_view_module": "@jupyter-widgets/controls",
            "_model_module_version": "1.5.0",
            "_view_count": null,
            "_view_module_version": "1.5.0",
            "box_style": "",
            "layout": "IPY_MODEL_d0e0e955dd78423b8066a7448bf29f15",
            "_model_module": "@jupyter-widgets/controls",
            "children": [
              "IPY_MODEL_695ac38c5ee74211bd84ee12ad623dba",
              "IPY_MODEL_bb43154025fb4d8fa7fe2792a3629d6b",
              "IPY_MODEL_2a078385c35847f6881fedbf963ef671"
            ]
          }
        },
        "d0e0e955dd78423b8066a7448bf29f15": {
          "model_module": "@jupyter-widgets/base",
          "model_name": "LayoutModel",
          "model_module_version": "1.2.0",
          "state": {
            "_view_name": "LayoutView",
            "grid_template_rows": null,
            "right": null,
            "justify_content": null,
            "_view_module": "@jupyter-widgets/base",
            "overflow": null,
            "_model_module_version": "1.2.0",
            "_view_count": null,
            "flex_flow": null,
            "width": null,
            "min_width": null,
            "border": null,
            "align_items": null,
            "bottom": null,
            "_model_module": "@jupyter-widgets/base",
            "top": null,
            "grid_column": null,
            "overflow_y": null,
            "overflow_x": null,
            "grid_auto_flow": null,
            "grid_area": null,
            "grid_template_columns": null,
            "flex": null,
            "_model_name": "LayoutModel",
            "justify_items": null,
            "grid_row": null,
            "max_height": null,
            "align_content": null,
            "visibility": null,
            "align_self": null,
            "height": null,
            "min_height": null,
            "padding": null,
            "grid_auto_rows": null,
            "grid_gap": null,
            "max_width": null,
            "order": null,
            "_view_module_version": "1.2.0",
            "grid_template_areas": null,
            "object_position": null,
            "object_fit": null,
            "grid_auto_columns": null,
            "margin": null,
            "display": null,
            "left": null
          }
        },
        "695ac38c5ee74211bd84ee12ad623dba": {
          "model_module": "@jupyter-widgets/controls",
          "model_name": "HTMLModel",
          "model_module_version": "1.5.0",
          "state": {
            "_view_name": "HTMLView",
            "style": "IPY_MODEL_6ff5394b48a2429684dd0b32313ebe99",
            "_dom_classes": [],
            "description": "",
            "_model_name": "HTMLModel",
            "placeholder": "​",
            "_view_module": "@jupyter-widgets/controls",
            "_model_module_version": "1.5.0",
            "value": "Downloading: 100%",
            "_view_count": null,
            "_view_module_version": "1.5.0",
            "description_tooltip": null,
            "_model_module": "@jupyter-widgets/controls",
            "layout": "IPY_MODEL_85cd2a05011b4cda87c2e2865bb4c20d"
          }
        },
        "bb43154025fb4d8fa7fe2792a3629d6b": {
          "model_module": "@jupyter-widgets/controls",
          "model_name": "FloatProgressModel",
          "model_module_version": "1.5.0",
          "state": {
            "_view_name": "ProgressView",
            "style": "IPY_MODEL_1668d5caf8964d8cbe60819ac75fab53",
            "_dom_classes": [],
            "description": "",
            "_model_name": "FloatProgressModel",
            "bar_style": "success",
            "max": 231508,
            "_view_module": "@jupyter-widgets/controls",
            "_model_module_version": "1.5.0",
            "value": 231508,
            "_view_count": null,
            "_view_module_version": "1.5.0",
            "orientation": "horizontal",
            "min": 0,
            "description_tooltip": null,
            "_model_module": "@jupyter-widgets/controls",
            "layout": "IPY_MODEL_e1cf009d3a0544eba67293e4c63a9113"
          }
        },
        "2a078385c35847f6881fedbf963ef671": {
          "model_module": "@jupyter-widgets/controls",
          "model_name": "HTMLModel",
          "model_module_version": "1.5.0",
          "state": {
            "_view_name": "HTMLView",
            "style": "IPY_MODEL_cf3ceeb6c43647cd83f6a7c182b03533",
            "_dom_classes": [],
            "description": "",
            "_model_name": "HTMLModel",
            "placeholder": "​",
            "_view_module": "@jupyter-widgets/controls",
            "_model_module_version": "1.5.0",
            "value": " 226k/226k [00:00&lt;00:00, 298kB/s]",
            "_view_count": null,
            "_view_module_version": "1.5.0",
            "description_tooltip": null,
            "_model_module": "@jupyter-widgets/controls",
            "layout": "IPY_MODEL_4d267223162248afa632a0e53ae773b5"
          }
        },
        "6ff5394b48a2429684dd0b32313ebe99": {
          "model_module": "@jupyter-widgets/controls",
          "model_name": "DescriptionStyleModel",
          "model_module_version": "1.5.0",
          "state": {
            "_view_name": "StyleView",
            "_model_name": "DescriptionStyleModel",
            "description_width": "",
            "_view_module": "@jupyter-widgets/base",
            "_model_module_version": "1.5.0",
            "_view_count": null,
            "_view_module_version": "1.2.0",
            "_model_module": "@jupyter-widgets/controls"
          }
        },
        "85cd2a05011b4cda87c2e2865bb4c20d": {
          "model_module": "@jupyter-widgets/base",
          "model_name": "LayoutModel",
          "model_module_version": "1.2.0",
          "state": {
            "_view_name": "LayoutView",
            "grid_template_rows": null,
            "right": null,
            "justify_content": null,
            "_view_module": "@jupyter-widgets/base",
            "overflow": null,
            "_model_module_version": "1.2.0",
            "_view_count": null,
            "flex_flow": null,
            "width": null,
            "min_width": null,
            "border": null,
            "align_items": null,
            "bottom": null,
            "_model_module": "@jupyter-widgets/base",
            "top": null,
            "grid_column": null,
            "overflow_y": null,
            "overflow_x": null,
            "grid_auto_flow": null,
            "grid_area": null,
            "grid_template_columns": null,
            "flex": null,
            "_model_name": "LayoutModel",
            "justify_items": null,
            "grid_row": null,
            "max_height": null,
            "align_content": null,
            "visibility": null,
            "align_self": null,
            "height": null,
            "min_height": null,
            "padding": null,
            "grid_auto_rows": null,
            "grid_gap": null,
            "max_width": null,
            "order": null,
            "_view_module_version": "1.2.0",
            "grid_template_areas": null,
            "object_position": null,
            "object_fit": null,
            "grid_auto_columns": null,
            "margin": null,
            "display": null,
            "left": null
          }
        },
        "1668d5caf8964d8cbe60819ac75fab53": {
          "model_module": "@jupyter-widgets/controls",
          "model_name": "ProgressStyleModel",
          "model_module_version": "1.5.0",
          "state": {
            "_view_name": "StyleView",
            "_model_name": "ProgressStyleModel",
            "description_width": "",
            "_view_module": "@jupyter-widgets/base",
            "_model_module_version": "1.5.0",
            "_view_count": null,
            "_view_module_version": "1.2.0",
            "bar_color": null,
            "_model_module": "@jupyter-widgets/controls"
          }
        },
        "e1cf009d3a0544eba67293e4c63a9113": {
          "model_module": "@jupyter-widgets/base",
          "model_name": "LayoutModel",
          "model_module_version": "1.2.0",
          "state": {
            "_view_name": "LayoutView",
            "grid_template_rows": null,
            "right": null,
            "justify_content": null,
            "_view_module": "@jupyter-widgets/base",
            "overflow": null,
            "_model_module_version": "1.2.0",
            "_view_count": null,
            "flex_flow": null,
            "width": null,
            "min_width": null,
            "border": null,
            "align_items": null,
            "bottom": null,
            "_model_module": "@jupyter-widgets/base",
            "top": null,
            "grid_column": null,
            "overflow_y": null,
            "overflow_x": null,
            "grid_auto_flow": null,
            "grid_area": null,
            "grid_template_columns": null,
            "flex": null,
            "_model_name": "LayoutModel",
            "justify_items": null,
            "grid_row": null,
            "max_height": null,
            "align_content": null,
            "visibility": null,
            "align_self": null,
            "height": null,
            "min_height": null,
            "padding": null,
            "grid_auto_rows": null,
            "grid_gap": null,
            "max_width": null,
            "order": null,
            "_view_module_version": "1.2.0",
            "grid_template_areas": null,
            "object_position": null,
            "object_fit": null,
            "grid_auto_columns": null,
            "margin": null,
            "display": null,
            "left": null
          }
        },
        "cf3ceeb6c43647cd83f6a7c182b03533": {
          "model_module": "@jupyter-widgets/controls",
          "model_name": "DescriptionStyleModel",
          "model_module_version": "1.5.0",
          "state": {
            "_view_name": "StyleView",
            "_model_name": "DescriptionStyleModel",
            "description_width": "",
            "_view_module": "@jupyter-widgets/base",
            "_model_module_version": "1.5.0",
            "_view_count": null,
            "_view_module_version": "1.2.0",
            "_model_module": "@jupyter-widgets/controls"
          }
        },
        "4d267223162248afa632a0e53ae773b5": {
          "model_module": "@jupyter-widgets/base",
          "model_name": "LayoutModel",
          "model_module_version": "1.2.0",
          "state": {
            "_view_name": "LayoutView",
            "grid_template_rows": null,
            "right": null,
            "justify_content": null,
            "_view_module": "@jupyter-widgets/base",
            "overflow": null,
            "_model_module_version": "1.2.0",
            "_view_count": null,
            "flex_flow": null,
            "width": null,
            "min_width": null,
            "border": null,
            "align_items": null,
            "bottom": null,
            "_model_module": "@jupyter-widgets/base",
            "top": null,
            "grid_column": null,
            "overflow_y": null,
            "overflow_x": null,
            "grid_auto_flow": null,
            "grid_area": null,
            "grid_template_columns": null,
            "flex": null,
            "_model_name": "LayoutModel",
            "justify_items": null,
            "grid_row": null,
            "max_height": null,
            "align_content": null,
            "visibility": null,
            "align_self": null,
            "height": null,
            "min_height": null,
            "padding": null,
            "grid_auto_rows": null,
            "grid_gap": null,
            "max_width": null,
            "order": null,
            "_view_module_version": "1.2.0",
            "grid_template_areas": null,
            "object_position": null,
            "object_fit": null,
            "grid_auto_columns": null,
            "margin": null,
            "display": null,
            "left": null
          }
        },
        "c73ad07519494c9dbbba75df45929b36": {
          "model_module": "@jupyter-widgets/controls",
          "model_name": "HBoxModel",
          "model_module_version": "1.5.0",
          "state": {
            "_view_name": "HBoxView",
            "_dom_classes": [],
            "_model_name": "HBoxModel",
            "_view_module": "@jupyter-widgets/controls",
            "_model_module_version": "1.5.0",
            "_view_count": null,
            "_view_module_version": "1.5.0",
            "box_style": "",
            "layout": "IPY_MODEL_5d85b6f7ed2647fa8130c5ef87227835",
            "_model_module": "@jupyter-widgets/controls",
            "children": [
              "IPY_MODEL_e0191a3be4e645b5819808874a956602",
              "IPY_MODEL_d530f640c28747e1940916a0ccda9a74",
              "IPY_MODEL_157be932477a4ff38fb67d2e303d885f"
            ]
          }
        },
        "5d85b6f7ed2647fa8130c5ef87227835": {
          "model_module": "@jupyter-widgets/base",
          "model_name": "LayoutModel",
          "model_module_version": "1.2.0",
          "state": {
            "_view_name": "LayoutView",
            "grid_template_rows": null,
            "right": null,
            "justify_content": null,
            "_view_module": "@jupyter-widgets/base",
            "overflow": null,
            "_model_module_version": "1.2.0",
            "_view_count": null,
            "flex_flow": null,
            "width": null,
            "min_width": null,
            "border": null,
            "align_items": null,
            "bottom": null,
            "_model_module": "@jupyter-widgets/base",
            "top": null,
            "grid_column": null,
            "overflow_y": null,
            "overflow_x": null,
            "grid_auto_flow": null,
            "grid_area": null,
            "grid_template_columns": null,
            "flex": null,
            "_model_name": "LayoutModel",
            "justify_items": null,
            "grid_row": null,
            "max_height": null,
            "align_content": null,
            "visibility": null,
            "align_self": null,
            "height": null,
            "min_height": null,
            "padding": null,
            "grid_auto_rows": null,
            "grid_gap": null,
            "max_width": null,
            "order": null,
            "_view_module_version": "1.2.0",
            "grid_template_areas": null,
            "object_position": null,
            "object_fit": null,
            "grid_auto_columns": null,
            "margin": null,
            "display": null,
            "left": null
          }
        },
        "e0191a3be4e645b5819808874a956602": {
          "model_module": "@jupyter-widgets/controls",
          "model_name": "HTMLModel",
          "model_module_version": "1.5.0",
          "state": {
            "_view_name": "HTMLView",
            "style": "IPY_MODEL_6cb1eef3d1b0477dae10e502d7cc7857",
            "_dom_classes": [],
            "description": "",
            "_model_name": "HTMLModel",
            "placeholder": "​",
            "_view_module": "@jupyter-widgets/controls",
            "_model_module_version": "1.5.0",
            "value": "Downloading: 100%",
            "_view_count": null,
            "_view_module_version": "1.5.0",
            "description_tooltip": null,
            "_model_module": "@jupyter-widgets/controls",
            "layout": "IPY_MODEL_935190234617453fb7e40dd8d14615e7"
          }
        },
        "d530f640c28747e1940916a0ccda9a74": {
          "model_module": "@jupyter-widgets/controls",
          "model_name": "FloatProgressModel",
          "model_module_version": "1.5.0",
          "state": {
            "_view_name": "ProgressView",
            "style": "IPY_MODEL_004e53dd2a364b668b81bc564ab63f30",
            "_dom_classes": [],
            "description": "",
            "_model_name": "FloatProgressModel",
            "bar_style": "success",
            "max": 466062,
            "_view_module": "@jupyter-widgets/controls",
            "_model_module_version": "1.5.0",
            "value": 466062,
            "_view_count": null,
            "_view_module_version": "1.5.0",
            "orientation": "horizontal",
            "min": 0,
            "description_tooltip": null,
            "_model_module": "@jupyter-widgets/controls",
            "layout": "IPY_MODEL_c2903895dff5401e93b520149cee7056"
          }
        },
        "157be932477a4ff38fb67d2e303d885f": {
          "model_module": "@jupyter-widgets/controls",
          "model_name": "HTMLModel",
          "model_module_version": "1.5.0",
          "state": {
            "_view_name": "HTMLView",
            "style": "IPY_MODEL_b2e367a0b6664f139a97de1a899db331",
            "_dom_classes": [],
            "description": "",
            "_model_name": "HTMLModel",
            "placeholder": "​",
            "_view_module": "@jupyter-widgets/controls",
            "_model_module_version": "1.5.0",
            "value": " 455k/455k [00:00&lt;00:00, 647kB/s]",
            "_view_count": null,
            "_view_module_version": "1.5.0",
            "description_tooltip": null,
            "_model_module": "@jupyter-widgets/controls",
            "layout": "IPY_MODEL_7c54da186c17472fbcca2586b3a4b1d5"
          }
        },
        "6cb1eef3d1b0477dae10e502d7cc7857": {
          "model_module": "@jupyter-widgets/controls",
          "model_name": "DescriptionStyleModel",
          "model_module_version": "1.5.0",
          "state": {
            "_view_name": "StyleView",
            "_model_name": "DescriptionStyleModel",
            "description_width": "",
            "_view_module": "@jupyter-widgets/base",
            "_model_module_version": "1.5.0",
            "_view_count": null,
            "_view_module_version": "1.2.0",
            "_model_module": "@jupyter-widgets/controls"
          }
        },
        "935190234617453fb7e40dd8d14615e7": {
          "model_module": "@jupyter-widgets/base",
          "model_name": "LayoutModel",
          "model_module_version": "1.2.0",
          "state": {
            "_view_name": "LayoutView",
            "grid_template_rows": null,
            "right": null,
            "justify_content": null,
            "_view_module": "@jupyter-widgets/base",
            "overflow": null,
            "_model_module_version": "1.2.0",
            "_view_count": null,
            "flex_flow": null,
            "width": null,
            "min_width": null,
            "border": null,
            "align_items": null,
            "bottom": null,
            "_model_module": "@jupyter-widgets/base",
            "top": null,
            "grid_column": null,
            "overflow_y": null,
            "overflow_x": null,
            "grid_auto_flow": null,
            "grid_area": null,
            "grid_template_columns": null,
            "flex": null,
            "_model_name": "LayoutModel",
            "justify_items": null,
            "grid_row": null,
            "max_height": null,
            "align_content": null,
            "visibility": null,
            "align_self": null,
            "height": null,
            "min_height": null,
            "padding": null,
            "grid_auto_rows": null,
            "grid_gap": null,
            "max_width": null,
            "order": null,
            "_view_module_version": "1.2.0",
            "grid_template_areas": null,
            "object_position": null,
            "object_fit": null,
            "grid_auto_columns": null,
            "margin": null,
            "display": null,
            "left": null
          }
        },
        "004e53dd2a364b668b81bc564ab63f30": {
          "model_module": "@jupyter-widgets/controls",
          "model_name": "ProgressStyleModel",
          "model_module_version": "1.5.0",
          "state": {
            "_view_name": "StyleView",
            "_model_name": "ProgressStyleModel",
            "description_width": "",
            "_view_module": "@jupyter-widgets/base",
            "_model_module_version": "1.5.0",
            "_view_count": null,
            "_view_module_version": "1.2.0",
            "bar_color": null,
            "_model_module": "@jupyter-widgets/controls"
          }
        },
        "c2903895dff5401e93b520149cee7056": {
          "model_module": "@jupyter-widgets/base",
          "model_name": "LayoutModel",
          "model_module_version": "1.2.0",
          "state": {
            "_view_name": "LayoutView",
            "grid_template_rows": null,
            "right": null,
            "justify_content": null,
            "_view_module": "@jupyter-widgets/base",
            "overflow": null,
            "_model_module_version": "1.2.0",
            "_view_count": null,
            "flex_flow": null,
            "width": null,
            "min_width": null,
            "border": null,
            "align_items": null,
            "bottom": null,
            "_model_module": "@jupyter-widgets/base",
            "top": null,
            "grid_column": null,
            "overflow_y": null,
            "overflow_x": null,
            "grid_auto_flow": null,
            "grid_area": null,
            "grid_template_columns": null,
            "flex": null,
            "_model_name": "LayoutModel",
            "justify_items": null,
            "grid_row": null,
            "max_height": null,
            "align_content": null,
            "visibility": null,
            "align_self": null,
            "height": null,
            "min_height": null,
            "padding": null,
            "grid_auto_rows": null,
            "grid_gap": null,
            "max_width": null,
            "order": null,
            "_view_module_version": "1.2.0",
            "grid_template_areas": null,
            "object_position": null,
            "object_fit": null,
            "grid_auto_columns": null,
            "margin": null,
            "display": null,
            "left": null
          }
        },
        "b2e367a0b6664f139a97de1a899db331": {
          "model_module": "@jupyter-widgets/controls",
          "model_name": "DescriptionStyleModel",
          "model_module_version": "1.5.0",
          "state": {
            "_view_name": "StyleView",
            "_model_name": "DescriptionStyleModel",
            "description_width": "",
            "_view_module": "@jupyter-widgets/base",
            "_model_module_version": "1.5.0",
            "_view_count": null,
            "_view_module_version": "1.2.0",
            "_model_module": "@jupyter-widgets/controls"
          }
        },
        "7c54da186c17472fbcca2586b3a4b1d5": {
          "model_module": "@jupyter-widgets/base",
          "model_name": "LayoutModel",
          "model_module_version": "1.2.0",
          "state": {
            "_view_name": "LayoutView",
            "grid_template_rows": null,
            "right": null,
            "justify_content": null,
            "_view_module": "@jupyter-widgets/base",
            "overflow": null,
            "_model_module_version": "1.2.0",
            "_view_count": null,
            "flex_flow": null,
            "width": null,
            "min_width": null,
            "border": null,
            "align_items": null,
            "bottom": null,
            "_model_module": "@jupyter-widgets/base",
            "top": null,
            "grid_column": null,
            "overflow_y": null,
            "overflow_x": null,
            "grid_auto_flow": null,
            "grid_area": null,
            "grid_template_columns": null,
            "flex": null,
            "_model_name": "LayoutModel",
            "justify_items": null,
            "grid_row": null,
            "max_height": null,
            "align_content": null,
            "visibility": null,
            "align_self": null,
            "height": null,
            "min_height": null,
            "padding": null,
            "grid_auto_rows": null,
            "grid_gap": null,
            "max_width": null,
            "order": null,
            "_view_module_version": "1.2.0",
            "grid_template_areas": null,
            "object_position": null,
            "object_fit": null,
            "grid_auto_columns": null,
            "margin": null,
            "display": null,
            "left": null
          }
        },
        "0dbce93f5bf7480cb193cf7bcecadda4": {
          "model_module": "@jupyter-widgets/controls",
          "model_name": "HBoxModel",
          "model_module_version": "1.5.0",
          "state": {
            "_view_name": "HBoxView",
            "_dom_classes": [],
            "_model_name": "HBoxModel",
            "_view_module": "@jupyter-widgets/controls",
            "_model_module_version": "1.5.0",
            "_view_count": null,
            "_view_module_version": "1.5.0",
            "box_style": "",
            "layout": "IPY_MODEL_14c96c1a9f614e578cb0fc36ea191da2",
            "_model_module": "@jupyter-widgets/controls",
            "children": [
              "IPY_MODEL_b48167687ac6497a9463432ea9ad5090",
              "IPY_MODEL_c5cf38df78b94abc8803135681d07e51",
              "IPY_MODEL_8e57cac1b8264501af519bc69b1932f6"
            ]
          }
        },
        "14c96c1a9f614e578cb0fc36ea191da2": {
          "model_module": "@jupyter-widgets/base",
          "model_name": "LayoutModel",
          "model_module_version": "1.2.0",
          "state": {
            "_view_name": "LayoutView",
            "grid_template_rows": null,
            "right": null,
            "justify_content": null,
            "_view_module": "@jupyter-widgets/base",
            "overflow": null,
            "_model_module_version": "1.2.0",
            "_view_count": null,
            "flex_flow": null,
            "width": null,
            "min_width": null,
            "border": null,
            "align_items": null,
            "bottom": null,
            "_model_module": "@jupyter-widgets/base",
            "top": null,
            "grid_column": null,
            "overflow_y": null,
            "overflow_x": null,
            "grid_auto_flow": null,
            "grid_area": null,
            "grid_template_columns": null,
            "flex": null,
            "_model_name": "LayoutModel",
            "justify_items": null,
            "grid_row": null,
            "max_height": null,
            "align_content": null,
            "visibility": null,
            "align_self": null,
            "height": null,
            "min_height": null,
            "padding": null,
            "grid_auto_rows": null,
            "grid_gap": null,
            "max_width": null,
            "order": null,
            "_view_module_version": "1.2.0",
            "grid_template_areas": null,
            "object_position": null,
            "object_fit": null,
            "grid_auto_columns": null,
            "margin": null,
            "display": null,
            "left": null
          }
        },
        "b48167687ac6497a9463432ea9ad5090": {
          "model_module": "@jupyter-widgets/controls",
          "model_name": "HTMLModel",
          "model_module_version": "1.5.0",
          "state": {
            "_view_name": "HTMLView",
            "style": "IPY_MODEL_f4373e65be4b4316b3a06f6ac2aecafa",
            "_dom_classes": [],
            "description": "",
            "_model_name": "HTMLModel",
            "placeholder": "​",
            "_view_module": "@jupyter-widgets/controls",
            "_model_module_version": "1.5.0",
            "value": "Downloading: 100%",
            "_view_count": null,
            "_view_module_version": "1.5.0",
            "description_tooltip": null,
            "_model_module": "@jupyter-widgets/controls",
            "layout": "IPY_MODEL_4d0b06e7d4d146e5b88a33f9a0d35591"
          }
        },
        "c5cf38df78b94abc8803135681d07e51": {
          "model_module": "@jupyter-widgets/controls",
          "model_name": "FloatProgressModel",
          "model_module_version": "1.5.0",
          "state": {
            "_view_name": "ProgressView",
            "style": "IPY_MODEL_6a82bcbd82874fbe8a49f92c08818496",
            "_dom_classes": [],
            "description": "",
            "_model_name": "FloatProgressModel",
            "bar_style": "success",
            "max": 28,
            "_view_module": "@jupyter-widgets/controls",
            "_model_module_version": "1.5.0",
            "value": 28,
            "_view_count": null,
            "_view_module_version": "1.5.0",
            "orientation": "horizontal",
            "min": 0,
            "description_tooltip": null,
            "_model_module": "@jupyter-widgets/controls",
            "layout": "IPY_MODEL_dc1568d7af7242f288b74112a2d46442"
          }
        },
        "8e57cac1b8264501af519bc69b1932f6": {
          "model_module": "@jupyter-widgets/controls",
          "model_name": "HTMLModel",
          "model_module_version": "1.5.0",
          "state": {
            "_view_name": "HTMLView",
            "style": "IPY_MODEL_1932ae0bb984438eb68ee8dac7772f75",
            "_dom_classes": [],
            "description": "",
            "_model_name": "HTMLModel",
            "placeholder": "​",
            "_view_module": "@jupyter-widgets/controls",
            "_model_module_version": "1.5.0",
            "value": " 28.0/28.0 [00:00&lt;00:00, 699B/s]",
            "_view_count": null,
            "_view_module_version": "1.5.0",
            "description_tooltip": null,
            "_model_module": "@jupyter-widgets/controls",
            "layout": "IPY_MODEL_ebe6be878a5e4668a07eca05a5017b87"
          }
        },
        "f4373e65be4b4316b3a06f6ac2aecafa": {
          "model_module": "@jupyter-widgets/controls",
          "model_name": "DescriptionStyleModel",
          "model_module_version": "1.5.0",
          "state": {
            "_view_name": "StyleView",
            "_model_name": "DescriptionStyleModel",
            "description_width": "",
            "_view_module": "@jupyter-widgets/base",
            "_model_module_version": "1.5.0",
            "_view_count": null,
            "_view_module_version": "1.2.0",
            "_model_module": "@jupyter-widgets/controls"
          }
        },
        "4d0b06e7d4d146e5b88a33f9a0d35591": {
          "model_module": "@jupyter-widgets/base",
          "model_name": "LayoutModel",
          "model_module_version": "1.2.0",
          "state": {
            "_view_name": "LayoutView",
            "grid_template_rows": null,
            "right": null,
            "justify_content": null,
            "_view_module": "@jupyter-widgets/base",
            "overflow": null,
            "_model_module_version": "1.2.0",
            "_view_count": null,
            "flex_flow": null,
            "width": null,
            "min_width": null,
            "border": null,
            "align_items": null,
            "bottom": null,
            "_model_module": "@jupyter-widgets/base",
            "top": null,
            "grid_column": null,
            "overflow_y": null,
            "overflow_x": null,
            "grid_auto_flow": null,
            "grid_area": null,
            "grid_template_columns": null,
            "flex": null,
            "_model_name": "LayoutModel",
            "justify_items": null,
            "grid_row": null,
            "max_height": null,
            "align_content": null,
            "visibility": null,
            "align_self": null,
            "height": null,
            "min_height": null,
            "padding": null,
            "grid_auto_rows": null,
            "grid_gap": null,
            "max_width": null,
            "order": null,
            "_view_module_version": "1.2.0",
            "grid_template_areas": null,
            "object_position": null,
            "object_fit": null,
            "grid_auto_columns": null,
            "margin": null,
            "display": null,
            "left": null
          }
        },
        "6a82bcbd82874fbe8a49f92c08818496": {
          "model_module": "@jupyter-widgets/controls",
          "model_name": "ProgressStyleModel",
          "model_module_version": "1.5.0",
          "state": {
            "_view_name": "StyleView",
            "_model_name": "ProgressStyleModel",
            "description_width": "",
            "_view_module": "@jupyter-widgets/base",
            "_model_module_version": "1.5.0",
            "_view_count": null,
            "_view_module_version": "1.2.0",
            "bar_color": null,
            "_model_module": "@jupyter-widgets/controls"
          }
        },
        "dc1568d7af7242f288b74112a2d46442": {
          "model_module": "@jupyter-widgets/base",
          "model_name": "LayoutModel",
          "model_module_version": "1.2.0",
          "state": {
            "_view_name": "LayoutView",
            "grid_template_rows": null,
            "right": null,
            "justify_content": null,
            "_view_module": "@jupyter-widgets/base",
            "overflow": null,
            "_model_module_version": "1.2.0",
            "_view_count": null,
            "flex_flow": null,
            "width": null,
            "min_width": null,
            "border": null,
            "align_items": null,
            "bottom": null,
            "_model_module": "@jupyter-widgets/base",
            "top": null,
            "grid_column": null,
            "overflow_y": null,
            "overflow_x": null,
            "grid_auto_flow": null,
            "grid_area": null,
            "grid_template_columns": null,
            "flex": null,
            "_model_name": "LayoutModel",
            "justify_items": null,
            "grid_row": null,
            "max_height": null,
            "align_content": null,
            "visibility": null,
            "align_self": null,
            "height": null,
            "min_height": null,
            "padding": null,
            "grid_auto_rows": null,
            "grid_gap": null,
            "max_width": null,
            "order": null,
            "_view_module_version": "1.2.0",
            "grid_template_areas": null,
            "object_position": null,
            "object_fit": null,
            "grid_auto_columns": null,
            "margin": null,
            "display": null,
            "left": null
          }
        },
        "1932ae0bb984438eb68ee8dac7772f75": {
          "model_module": "@jupyter-widgets/controls",
          "model_name": "DescriptionStyleModel",
          "model_module_version": "1.5.0",
          "state": {
            "_view_name": "StyleView",
            "_model_name": "DescriptionStyleModel",
            "description_width": "",
            "_view_module": "@jupyter-widgets/base",
            "_model_module_version": "1.5.0",
            "_view_count": null,
            "_view_module_version": "1.2.0",
            "_model_module": "@jupyter-widgets/controls"
          }
        },
        "ebe6be878a5e4668a07eca05a5017b87": {
          "model_module": "@jupyter-widgets/base",
          "model_name": "LayoutModel",
          "model_module_version": "1.2.0",
          "state": {
            "_view_name": "LayoutView",
            "grid_template_rows": null,
            "right": null,
            "justify_content": null,
            "_view_module": "@jupyter-widgets/base",
            "overflow": null,
            "_model_module_version": "1.2.0",
            "_view_count": null,
            "flex_flow": null,
            "width": null,
            "min_width": null,
            "border": null,
            "align_items": null,
            "bottom": null,
            "_model_module": "@jupyter-widgets/base",
            "top": null,
            "grid_column": null,
            "overflow_y": null,
            "overflow_x": null,
            "grid_auto_flow": null,
            "grid_area": null,
            "grid_template_columns": null,
            "flex": null,
            "_model_name": "LayoutModel",
            "justify_items": null,
            "grid_row": null,
            "max_height": null,
            "align_content": null,
            "visibility": null,
            "align_self": null,
            "height": null,
            "min_height": null,
            "padding": null,
            "grid_auto_rows": null,
            "grid_gap": null,
            "max_width": null,
            "order": null,
            "_view_module_version": "1.2.0",
            "grid_template_areas": null,
            "object_position": null,
            "object_fit": null,
            "grid_auto_columns": null,
            "margin": null,
            "display": null,
            "left": null
          }
        },
        "242295f886cd46838d52d058b90eab36": {
          "model_module": "@jupyter-widgets/controls",
          "model_name": "HBoxModel",
          "model_module_version": "1.5.0",
          "state": {
            "_view_name": "HBoxView",
            "_dom_classes": [],
            "_model_name": "HBoxModel",
            "_view_module": "@jupyter-widgets/controls",
            "_model_module_version": "1.5.0",
            "_view_count": null,
            "_view_module_version": "1.5.0",
            "box_style": "",
            "layout": "IPY_MODEL_617f5455be354929a48692a009f36208",
            "_model_module": "@jupyter-widgets/controls",
            "children": [
              "IPY_MODEL_63873908d9cf4f0690f6cac4b078c233",
              "IPY_MODEL_b72688b1b0404c4bbaf7eb1c69e7e553",
              "IPY_MODEL_f0464d04c07140e5b22a8c8e107b09a6"
            ]
          }
        },
        "617f5455be354929a48692a009f36208": {
          "model_module": "@jupyter-widgets/base",
          "model_name": "LayoutModel",
          "model_module_version": "1.2.0",
          "state": {
            "_view_name": "LayoutView",
            "grid_template_rows": null,
            "right": null,
            "justify_content": null,
            "_view_module": "@jupyter-widgets/base",
            "overflow": null,
            "_model_module_version": "1.2.0",
            "_view_count": null,
            "flex_flow": null,
            "width": null,
            "min_width": null,
            "border": null,
            "align_items": null,
            "bottom": null,
            "_model_module": "@jupyter-widgets/base",
            "top": null,
            "grid_column": null,
            "overflow_y": null,
            "overflow_x": null,
            "grid_auto_flow": null,
            "grid_area": null,
            "grid_template_columns": null,
            "flex": null,
            "_model_name": "LayoutModel",
            "justify_items": null,
            "grid_row": null,
            "max_height": null,
            "align_content": null,
            "visibility": null,
            "align_self": null,
            "height": null,
            "min_height": null,
            "padding": null,
            "grid_auto_rows": null,
            "grid_gap": null,
            "max_width": null,
            "order": null,
            "_view_module_version": "1.2.0",
            "grid_template_areas": null,
            "object_position": null,
            "object_fit": null,
            "grid_auto_columns": null,
            "margin": null,
            "display": null,
            "left": null
          }
        },
        "63873908d9cf4f0690f6cac4b078c233": {
          "model_module": "@jupyter-widgets/controls",
          "model_name": "HTMLModel",
          "model_module_version": "1.5.0",
          "state": {
            "_view_name": "HTMLView",
            "style": "IPY_MODEL_f5abdc2b48b545fe99f5b0da85810620",
            "_dom_classes": [],
            "description": "",
            "_model_name": "HTMLModel",
            "placeholder": "​",
            "_view_module": "@jupyter-widgets/controls",
            "_model_module_version": "1.5.0",
            "value": "Downloading: 100%",
            "_view_count": null,
            "_view_module_version": "1.5.0",
            "description_tooltip": null,
            "_model_module": "@jupyter-widgets/controls",
            "layout": "IPY_MODEL_048c414482044701ae075cb09d98cdf4"
          }
        },
        "b72688b1b0404c4bbaf7eb1c69e7e553": {
          "model_module": "@jupyter-widgets/controls",
          "model_name": "FloatProgressModel",
          "model_module_version": "1.5.0",
          "state": {
            "_view_name": "ProgressView",
            "style": "IPY_MODEL_eaf0e0e30883420fa3b1fb473e09f870",
            "_dom_classes": [],
            "description": "",
            "_model_name": "FloatProgressModel",
            "bar_style": "success",
            "max": 570,
            "_view_module": "@jupyter-widgets/controls",
            "_model_module_version": "1.5.0",
            "value": 570,
            "_view_count": null,
            "_view_module_version": "1.5.0",
            "orientation": "horizontal",
            "min": 0,
            "description_tooltip": null,
            "_model_module": "@jupyter-widgets/controls",
            "layout": "IPY_MODEL_76c8eea07ca34bc1bb30962cd542173d"
          }
        },
        "f0464d04c07140e5b22a8c8e107b09a6": {
          "model_module": "@jupyter-widgets/controls",
          "model_name": "HTMLModel",
          "model_module_version": "1.5.0",
          "state": {
            "_view_name": "HTMLView",
            "style": "IPY_MODEL_5787e549aaf54fe5b50d5a69c2a28a13",
            "_dom_classes": [],
            "description": "",
            "_model_name": "HTMLModel",
            "placeholder": "​",
            "_view_module": "@jupyter-widgets/controls",
            "_model_module_version": "1.5.0",
            "value": " 570/570 [00:00&lt;00:00, 14.8kB/s]",
            "_view_count": null,
            "_view_module_version": "1.5.0",
            "description_tooltip": null,
            "_model_module": "@jupyter-widgets/controls",
            "layout": "IPY_MODEL_e39713687ad340e7aa498fb81daec9a6"
          }
        },
        "f5abdc2b48b545fe99f5b0da85810620": {
          "model_module": "@jupyter-widgets/controls",
          "model_name": "DescriptionStyleModel",
          "model_module_version": "1.5.0",
          "state": {
            "_view_name": "StyleView",
            "_model_name": "DescriptionStyleModel",
            "description_width": "",
            "_view_module": "@jupyter-widgets/base",
            "_model_module_version": "1.5.0",
            "_view_count": null,
            "_view_module_version": "1.2.0",
            "_model_module": "@jupyter-widgets/controls"
          }
        },
        "048c414482044701ae075cb09d98cdf4": {
          "model_module": "@jupyter-widgets/base",
          "model_name": "LayoutModel",
          "model_module_version": "1.2.0",
          "state": {
            "_view_name": "LayoutView",
            "grid_template_rows": null,
            "right": null,
            "justify_content": null,
            "_view_module": "@jupyter-widgets/base",
            "overflow": null,
            "_model_module_version": "1.2.0",
            "_view_count": null,
            "flex_flow": null,
            "width": null,
            "min_width": null,
            "border": null,
            "align_items": null,
            "bottom": null,
            "_model_module": "@jupyter-widgets/base",
            "top": null,
            "grid_column": null,
            "overflow_y": null,
            "overflow_x": null,
            "grid_auto_flow": null,
            "grid_area": null,
            "grid_template_columns": null,
            "flex": null,
            "_model_name": "LayoutModel",
            "justify_items": null,
            "grid_row": null,
            "max_height": null,
            "align_content": null,
            "visibility": null,
            "align_self": null,
            "height": null,
            "min_height": null,
            "padding": null,
            "grid_auto_rows": null,
            "grid_gap": null,
            "max_width": null,
            "order": null,
            "_view_module_version": "1.2.0",
            "grid_template_areas": null,
            "object_position": null,
            "object_fit": null,
            "grid_auto_columns": null,
            "margin": null,
            "display": null,
            "left": null
          }
        },
        "eaf0e0e30883420fa3b1fb473e09f870": {
          "model_module": "@jupyter-widgets/controls",
          "model_name": "ProgressStyleModel",
          "model_module_version": "1.5.0",
          "state": {
            "_view_name": "StyleView",
            "_model_name": "ProgressStyleModel",
            "description_width": "",
            "_view_module": "@jupyter-widgets/base",
            "_model_module_version": "1.5.0",
            "_view_count": null,
            "_view_module_version": "1.2.0",
            "bar_color": null,
            "_model_module": "@jupyter-widgets/controls"
          }
        },
        "76c8eea07ca34bc1bb30962cd542173d": {
          "model_module": "@jupyter-widgets/base",
          "model_name": "LayoutModel",
          "model_module_version": "1.2.0",
          "state": {
            "_view_name": "LayoutView",
            "grid_template_rows": null,
            "right": null,
            "justify_content": null,
            "_view_module": "@jupyter-widgets/base",
            "overflow": null,
            "_model_module_version": "1.2.0",
            "_view_count": null,
            "flex_flow": null,
            "width": null,
            "min_width": null,
            "border": null,
            "align_items": null,
            "bottom": null,
            "_model_module": "@jupyter-widgets/base",
            "top": null,
            "grid_column": null,
            "overflow_y": null,
            "overflow_x": null,
            "grid_auto_flow": null,
            "grid_area": null,
            "grid_template_columns": null,
            "flex": null,
            "_model_name": "LayoutModel",
            "justify_items": null,
            "grid_row": null,
            "max_height": null,
            "align_content": null,
            "visibility": null,
            "align_self": null,
            "height": null,
            "min_height": null,
            "padding": null,
            "grid_auto_rows": null,
            "grid_gap": null,
            "max_width": null,
            "order": null,
            "_view_module_version": "1.2.0",
            "grid_template_areas": null,
            "object_position": null,
            "object_fit": null,
            "grid_auto_columns": null,
            "margin": null,
            "display": null,
            "left": null
          }
        },
        "5787e549aaf54fe5b50d5a69c2a28a13": {
          "model_module": "@jupyter-widgets/controls",
          "model_name": "DescriptionStyleModel",
          "model_module_version": "1.5.0",
          "state": {
            "_view_name": "StyleView",
            "_model_name": "DescriptionStyleModel",
            "description_width": "",
            "_view_module": "@jupyter-widgets/base",
            "_model_module_version": "1.5.0",
            "_view_count": null,
            "_view_module_version": "1.2.0",
            "_model_module": "@jupyter-widgets/controls"
          }
        },
        "e39713687ad340e7aa498fb81daec9a6": {
          "model_module": "@jupyter-widgets/base",
          "model_name": "LayoutModel",
          "model_module_version": "1.2.0",
          "state": {
            "_view_name": "LayoutView",
            "grid_template_rows": null,
            "right": null,
            "justify_content": null,
            "_view_module": "@jupyter-widgets/base",
            "overflow": null,
            "_model_module_version": "1.2.0",
            "_view_count": null,
            "flex_flow": null,
            "width": null,
            "min_width": null,
            "border": null,
            "align_items": null,
            "bottom": null,
            "_model_module": "@jupyter-widgets/base",
            "top": null,
            "grid_column": null,
            "overflow_y": null,
            "overflow_x": null,
            "grid_auto_flow": null,
            "grid_area": null,
            "grid_template_columns": null,
            "flex": null,
            "_model_name": "LayoutModel",
            "justify_items": null,
            "grid_row": null,
            "max_height": null,
            "align_content": null,
            "visibility": null,
            "align_self": null,
            "height": null,
            "min_height": null,
            "padding": null,
            "grid_auto_rows": null,
            "grid_gap": null,
            "max_width": null,
            "order": null,
            "_view_module_version": "1.2.0",
            "grid_template_areas": null,
            "object_position": null,
            "object_fit": null,
            "grid_auto_columns": null,
            "margin": null,
            "display": null,
            "left": null
          }
        },
        "4a9b4c7d3e454ff0bab2159790248764": {
          "model_module": "@jupyter-widgets/controls",
          "model_name": "HBoxModel",
          "model_module_version": "1.5.0",
          "state": {
            "_view_name": "HBoxView",
            "_dom_classes": [],
            "_model_name": "HBoxModel",
            "_view_module": "@jupyter-widgets/controls",
            "_model_module_version": "1.5.0",
            "_view_count": null,
            "_view_module_version": "1.5.0",
            "box_style": "",
            "layout": "IPY_MODEL_e7440d8636654bca9db43e4048c72de8",
            "_model_module": "@jupyter-widgets/controls",
            "children": [
              "IPY_MODEL_01880d45de0a4df1a79efaf812db8355",
              "IPY_MODEL_cc76bd0e773b4b4e9ffb222e65bfc54e",
              "IPY_MODEL_e345f72ecfde4af9992259d1f5a84c35"
            ]
          }
        },
        "e7440d8636654bca9db43e4048c72de8": {
          "model_module": "@jupyter-widgets/base",
          "model_name": "LayoutModel",
          "model_module_version": "1.2.0",
          "state": {
            "_view_name": "LayoutView",
            "grid_template_rows": null,
            "right": null,
            "justify_content": null,
            "_view_module": "@jupyter-widgets/base",
            "overflow": null,
            "_model_module_version": "1.2.0",
            "_view_count": null,
            "flex_flow": null,
            "width": null,
            "min_width": null,
            "border": null,
            "align_items": null,
            "bottom": null,
            "_model_module": "@jupyter-widgets/base",
            "top": null,
            "grid_column": null,
            "overflow_y": null,
            "overflow_x": null,
            "grid_auto_flow": null,
            "grid_area": null,
            "grid_template_columns": null,
            "flex": null,
            "_model_name": "LayoutModel",
            "justify_items": null,
            "grid_row": null,
            "max_height": null,
            "align_content": null,
            "visibility": null,
            "align_self": null,
            "height": null,
            "min_height": null,
            "padding": null,
            "grid_auto_rows": null,
            "grid_gap": null,
            "max_width": null,
            "order": null,
            "_view_module_version": "1.2.0",
            "grid_template_areas": null,
            "object_position": null,
            "object_fit": null,
            "grid_auto_columns": null,
            "margin": null,
            "display": null,
            "left": null
          }
        },
        "01880d45de0a4df1a79efaf812db8355": {
          "model_module": "@jupyter-widgets/controls",
          "model_name": "HTMLModel",
          "model_module_version": "1.5.0",
          "state": {
            "_view_name": "HTMLView",
            "style": "IPY_MODEL_2c40b5446a7d4c73865c87df6c6ebb2e",
            "_dom_classes": [],
            "description": "",
            "_model_name": "HTMLModel",
            "placeholder": "​",
            "_view_module": "@jupyter-widgets/controls",
            "_model_module_version": "1.5.0",
            "value": "Downloading: 100%",
            "_view_count": null,
            "_view_module_version": "1.5.0",
            "description_tooltip": null,
            "_model_module": "@jupyter-widgets/controls",
            "layout": "IPY_MODEL_57f71c10cc4140ed9a05e673e2add9c9"
          }
        },
        "cc76bd0e773b4b4e9ffb222e65bfc54e": {
          "model_module": "@jupyter-widgets/controls",
          "model_name": "FloatProgressModel",
          "model_module_version": "1.5.0",
          "state": {
            "_view_name": "ProgressView",
            "style": "IPY_MODEL_315cf3e6be7b42c8b9bef47ec059d2d4",
            "_dom_classes": [],
            "description": "",
            "_model_name": "FloatProgressModel",
            "bar_style": "success",
            "max": 536063208,
            "_view_module": "@jupyter-widgets/controls",
            "_model_module_version": "1.5.0",
            "value": 536063208,
            "_view_count": null,
            "_view_module_version": "1.5.0",
            "orientation": "horizontal",
            "min": 0,
            "description_tooltip": null,
            "_model_module": "@jupyter-widgets/controls",
            "layout": "IPY_MODEL_6173b3f2c0cc40c39272d4c09672b7d1"
          }
        },
        "e345f72ecfde4af9992259d1f5a84c35": {
          "model_module": "@jupyter-widgets/controls",
          "model_name": "HTMLModel",
          "model_module_version": "1.5.0",
          "state": {
            "_view_name": "HTMLView",
            "style": "IPY_MODEL_f91b26d6f58248f0a5eb084d13fd4f4d",
            "_dom_classes": [],
            "description": "",
            "_model_name": "HTMLModel",
            "placeholder": "​",
            "_view_module": "@jupyter-widgets/controls",
            "_model_module_version": "1.5.0",
            "value": " 511M/511M [00:15&lt;00:00, 38.2MB/s]",
            "_view_count": null,
            "_view_module_version": "1.5.0",
            "description_tooltip": null,
            "_model_module": "@jupyter-widgets/controls",
            "layout": "IPY_MODEL_d4da96d31a634260ad99d5c69b27c1f6"
          }
        },
        "2c40b5446a7d4c73865c87df6c6ebb2e": {
          "model_module": "@jupyter-widgets/controls",
          "model_name": "DescriptionStyleModel",
          "model_module_version": "1.5.0",
          "state": {
            "_view_name": "StyleView",
            "_model_name": "DescriptionStyleModel",
            "description_width": "",
            "_view_module": "@jupyter-widgets/base",
            "_model_module_version": "1.5.0",
            "_view_count": null,
            "_view_module_version": "1.2.0",
            "_model_module": "@jupyter-widgets/controls"
          }
        },
        "57f71c10cc4140ed9a05e673e2add9c9": {
          "model_module": "@jupyter-widgets/base",
          "model_name": "LayoutModel",
          "model_module_version": "1.2.0",
          "state": {
            "_view_name": "LayoutView",
            "grid_template_rows": null,
            "right": null,
            "justify_content": null,
            "_view_module": "@jupyter-widgets/base",
            "overflow": null,
            "_model_module_version": "1.2.0",
            "_view_count": null,
            "flex_flow": null,
            "width": null,
            "min_width": null,
            "border": null,
            "align_items": null,
            "bottom": null,
            "_model_module": "@jupyter-widgets/base",
            "top": null,
            "grid_column": null,
            "overflow_y": null,
            "overflow_x": null,
            "grid_auto_flow": null,
            "grid_area": null,
            "grid_template_columns": null,
            "flex": null,
            "_model_name": "LayoutModel",
            "justify_items": null,
            "grid_row": null,
            "max_height": null,
            "align_content": null,
            "visibility": null,
            "align_self": null,
            "height": null,
            "min_height": null,
            "padding": null,
            "grid_auto_rows": null,
            "grid_gap": null,
            "max_width": null,
            "order": null,
            "_view_module_version": "1.2.0",
            "grid_template_areas": null,
            "object_position": null,
            "object_fit": null,
            "grid_auto_columns": null,
            "margin": null,
            "display": null,
            "left": null
          }
        },
        "315cf3e6be7b42c8b9bef47ec059d2d4": {
          "model_module": "@jupyter-widgets/controls",
          "model_name": "ProgressStyleModel",
          "model_module_version": "1.5.0",
          "state": {
            "_view_name": "StyleView",
            "_model_name": "ProgressStyleModel",
            "description_width": "",
            "_view_module": "@jupyter-widgets/base",
            "_model_module_version": "1.5.0",
            "_view_count": null,
            "_view_module_version": "1.2.0",
            "bar_color": null,
            "_model_module": "@jupyter-widgets/controls"
          }
        },
        "6173b3f2c0cc40c39272d4c09672b7d1": {
          "model_module": "@jupyter-widgets/base",
          "model_name": "LayoutModel",
          "model_module_version": "1.2.0",
          "state": {
            "_view_name": "LayoutView",
            "grid_template_rows": null,
            "right": null,
            "justify_content": null,
            "_view_module": "@jupyter-widgets/base",
            "overflow": null,
            "_model_module_version": "1.2.0",
            "_view_count": null,
            "flex_flow": null,
            "width": null,
            "min_width": null,
            "border": null,
            "align_items": null,
            "bottom": null,
            "_model_module": "@jupyter-widgets/base",
            "top": null,
            "grid_column": null,
            "overflow_y": null,
            "overflow_x": null,
            "grid_auto_flow": null,
            "grid_area": null,
            "grid_template_columns": null,
            "flex": null,
            "_model_name": "LayoutModel",
            "justify_items": null,
            "grid_row": null,
            "max_height": null,
            "align_content": null,
            "visibility": null,
            "align_self": null,
            "height": null,
            "min_height": null,
            "padding": null,
            "grid_auto_rows": null,
            "grid_gap": null,
            "max_width": null,
            "order": null,
            "_view_module_version": "1.2.0",
            "grid_template_areas": null,
            "object_position": null,
            "object_fit": null,
            "grid_auto_columns": null,
            "margin": null,
            "display": null,
            "left": null
          }
        },
        "f91b26d6f58248f0a5eb084d13fd4f4d": {
          "model_module": "@jupyter-widgets/controls",
          "model_name": "DescriptionStyleModel",
          "model_module_version": "1.5.0",
          "state": {
            "_view_name": "StyleView",
            "_model_name": "DescriptionStyleModel",
            "description_width": "",
            "_view_module": "@jupyter-widgets/base",
            "_model_module_version": "1.5.0",
            "_view_count": null,
            "_view_module_version": "1.2.0",
            "_model_module": "@jupyter-widgets/controls"
          }
        },
        "d4da96d31a634260ad99d5c69b27c1f6": {
          "model_module": "@jupyter-widgets/base",
          "model_name": "LayoutModel",
          "model_module_version": "1.2.0",
          "state": {
            "_view_name": "LayoutView",
            "grid_template_rows": null,
            "right": null,
            "justify_content": null,
            "_view_module": "@jupyter-widgets/base",
            "overflow": null,
            "_model_module_version": "1.2.0",
            "_view_count": null,
            "flex_flow": null,
            "width": null,
            "min_width": null,
            "border": null,
            "align_items": null,
            "bottom": null,
            "_model_module": "@jupyter-widgets/base",
            "top": null,
            "grid_column": null,
            "overflow_y": null,
            "overflow_x": null,
            "grid_auto_flow": null,
            "grid_area": null,
            "grid_template_columns": null,
            "flex": null,
            "_model_name": "LayoutModel",
            "justify_items": null,
            "grid_row": null,
            "max_height": null,
            "align_content": null,
            "visibility": null,
            "align_self": null,
            "height": null,
            "min_height": null,
            "padding": null,
            "grid_auto_rows": null,
            "grid_gap": null,
            "max_width": null,
            "order": null,
            "_view_module_version": "1.2.0",
            "grid_template_areas": null,
            "object_position": null,
            "object_fit": null,
            "grid_auto_columns": null,
            "margin": null,
            "display": null,
            "left": null
          }
        }
      }
    }
  },
  "cells": [
    {
      "cell_type": "markdown",
      "source": [
        "#Adding Required Libraries"
      ],
      "metadata": {
        "id": "7Hs-yrxXfLkm"
      }
    },
    {
      "cell_type": "code",
      "execution_count": 1,
      "metadata": {
        "colab": {
          "base_uri": "https://localhost:8080/"
        },
        "id": "cvUcj1RIe4AP",
        "outputId": "9c261399-d2c7-4724-b0eb-18e0adcda916"
      },
      "outputs": [
        {
          "output_type": "stream",
          "name": "stdout",
          "text": [
            "Requirement already satisfied: matplotlib in /usr/local/lib/python3.7/dist-packages (3.5.1)\n",
            "Requirement already satisfied: pillow>=6.2.0 in /usr/local/lib/python3.7/dist-packages (from matplotlib) (7.1.2)\n",
            "Requirement already satisfied: pyparsing>=2.2.1 in /usr/local/lib/python3.7/dist-packages (from matplotlib) (3.0.6)\n",
            "Requirement already satisfied: fonttools>=4.22.0 in /usr/local/lib/python3.7/dist-packages (from matplotlib) (4.28.5)\n",
            "Requirement already satisfied: python-dateutil>=2.7 in /usr/local/lib/python3.7/dist-packages (from matplotlib) (2.8.2)\n",
            "Requirement already satisfied: numpy>=1.17 in /usr/local/lib/python3.7/dist-packages (from matplotlib) (1.19.5)\n",
            "Requirement already satisfied: cycler>=0.10 in /usr/local/lib/python3.7/dist-packages (from matplotlib) (0.11.0)\n",
            "Requirement already satisfied: kiwisolver>=1.0.1 in /usr/local/lib/python3.7/dist-packages (from matplotlib) (1.3.2)\n",
            "Requirement already satisfied: packaging>=20.0 in /usr/local/lib/python3.7/dist-packages (from matplotlib) (21.3)\n",
            "Requirement already satisfied: six>=1.5 in /usr/local/lib/python3.7/dist-packages (from python-dateutil>=2.7->matplotlib) (1.15.0)\n"
          ]
        }
      ],
      "source": [
        "!pip install matplotlib --upgrade"
      ]
    },
    {
      "cell_type": "code",
      "source": [
        "!pip install tensorflow --upgrade"
      ],
      "metadata": {
        "colab": {
          "base_uri": "https://localhost:8080/"
        },
        "id": "axBVcfFAfAKv",
        "outputId": "1ddae578-9038-4765-e561-727753b6ac71"
      },
      "execution_count": 2,
      "outputs": [
        {
          "output_type": "stream",
          "name": "stdout",
          "text": [
            "Requirement already satisfied: tensorflow in /usr/local/lib/python3.7/dist-packages (2.7.0)\n",
            "Requirement already satisfied: numpy>=1.14.5 in /usr/local/lib/python3.7/dist-packages (from tensorflow) (1.19.5)\n",
            "Requirement already satisfied: h5py>=2.9.0 in /usr/local/lib/python3.7/dist-packages (from tensorflow) (3.1.0)\n",
            "Requirement already satisfied: grpcio<2.0,>=1.24.3 in /usr/local/lib/python3.7/dist-packages (from tensorflow) (1.42.0)\n",
            "Requirement already satisfied: tensorflow-io-gcs-filesystem>=0.21.0 in /usr/local/lib/python3.7/dist-packages (from tensorflow) (0.22.0)\n",
            "Requirement already satisfied: protobuf>=3.9.2 in /usr/local/lib/python3.7/dist-packages (from tensorflow) (3.17.3)\n",
            "Requirement already satisfied: typing-extensions>=3.6.6 in /usr/local/lib/python3.7/dist-packages (from tensorflow) (3.10.0.2)\n",
            "Requirement already satisfied: keras-preprocessing>=1.1.1 in /usr/local/lib/python3.7/dist-packages (from tensorflow) (1.1.2)\n",
            "Requirement already satisfied: gast<0.5.0,>=0.2.1 in /usr/local/lib/python3.7/dist-packages (from tensorflow) (0.4.0)\n",
            "Requirement already satisfied: libclang>=9.0.1 in /usr/local/lib/python3.7/dist-packages (from tensorflow) (12.0.0)\n",
            "Requirement already satisfied: termcolor>=1.1.0 in /usr/local/lib/python3.7/dist-packages (from tensorflow) (1.1.0)\n",
            "Requirement already satisfied: tensorflow-estimator<2.8,~=2.7.0rc0 in /usr/local/lib/python3.7/dist-packages (from tensorflow) (2.7.0)\n",
            "Requirement already satisfied: wheel<1.0,>=0.32.0 in /usr/local/lib/python3.7/dist-packages (from tensorflow) (0.37.0)\n",
            "Requirement already satisfied: astunparse>=1.6.0 in /usr/local/lib/python3.7/dist-packages (from tensorflow) (1.6.3)\n",
            "Requirement already satisfied: wrapt>=1.11.0 in /usr/local/lib/python3.7/dist-packages (from tensorflow) (1.13.3)\n",
            "Requirement already satisfied: tensorboard~=2.6 in /usr/local/lib/python3.7/dist-packages (from tensorflow) (2.7.0)\n",
            "Requirement already satisfied: google-pasta>=0.1.1 in /usr/local/lib/python3.7/dist-packages (from tensorflow) (0.2.0)\n",
            "Requirement already satisfied: keras<2.8,>=2.7.0rc0 in /usr/local/lib/python3.7/dist-packages (from tensorflow) (2.7.0)\n",
            "Requirement already satisfied: flatbuffers<3.0,>=1.12 in /usr/local/lib/python3.7/dist-packages (from tensorflow) (2.0)\n",
            "Requirement already satisfied: opt-einsum>=2.3.2 in /usr/local/lib/python3.7/dist-packages (from tensorflow) (3.3.0)\n",
            "Requirement already satisfied: absl-py>=0.4.0 in /usr/local/lib/python3.7/dist-packages (from tensorflow) (0.12.0)\n",
            "Requirement already satisfied: six>=1.12.0 in /usr/local/lib/python3.7/dist-packages (from tensorflow) (1.15.0)\n",
            "Requirement already satisfied: cached-property in /usr/local/lib/python3.7/dist-packages (from h5py>=2.9.0->tensorflow) (1.5.2)\n",
            "Requirement already satisfied: requests<3,>=2.21.0 in /usr/local/lib/python3.7/dist-packages (from tensorboard~=2.6->tensorflow) (2.23.0)\n",
            "Requirement already satisfied: tensorboard-data-server<0.7.0,>=0.6.0 in /usr/local/lib/python3.7/dist-packages (from tensorboard~=2.6->tensorflow) (0.6.1)\n",
            "Requirement already satisfied: tensorboard-plugin-wit>=1.6.0 in /usr/local/lib/python3.7/dist-packages (from tensorboard~=2.6->tensorflow) (1.8.0)\n",
            "Requirement already satisfied: google-auth<3,>=1.6.3 in /usr/local/lib/python3.7/dist-packages (from tensorboard~=2.6->tensorflow) (1.35.0)\n",
            "Requirement already satisfied: setuptools>=41.0.0 in /usr/local/lib/python3.7/dist-packages (from tensorboard~=2.6->tensorflow) (57.4.0)\n",
            "Requirement already satisfied: werkzeug>=0.11.15 in /usr/local/lib/python3.7/dist-packages (from tensorboard~=2.6->tensorflow) (1.0.1)\n",
            "Requirement already satisfied: markdown>=2.6.8 in /usr/local/lib/python3.7/dist-packages (from tensorboard~=2.6->tensorflow) (3.3.6)\n",
            "Requirement already satisfied: google-auth-oauthlib<0.5,>=0.4.1 in /usr/local/lib/python3.7/dist-packages (from tensorboard~=2.6->tensorflow) (0.4.6)\n",
            "Requirement already satisfied: rsa<5,>=3.1.4 in /usr/local/lib/python3.7/dist-packages (from google-auth<3,>=1.6.3->tensorboard~=2.6->tensorflow) (4.8)\n",
            "Requirement already satisfied: cachetools<5.0,>=2.0.0 in /usr/local/lib/python3.7/dist-packages (from google-auth<3,>=1.6.3->tensorboard~=2.6->tensorflow) (4.2.4)\n",
            "Requirement already satisfied: pyasn1-modules>=0.2.1 in /usr/local/lib/python3.7/dist-packages (from google-auth<3,>=1.6.3->tensorboard~=2.6->tensorflow) (0.2.8)\n",
            "Requirement already satisfied: requests-oauthlib>=0.7.0 in /usr/local/lib/python3.7/dist-packages (from google-auth-oauthlib<0.5,>=0.4.1->tensorboard~=2.6->tensorflow) (1.3.0)\n",
            "Requirement already satisfied: importlib-metadata>=4.4 in /usr/local/lib/python3.7/dist-packages (from markdown>=2.6.8->tensorboard~=2.6->tensorflow) (4.8.2)\n",
            "Requirement already satisfied: zipp>=0.5 in /usr/local/lib/python3.7/dist-packages (from importlib-metadata>=4.4->markdown>=2.6.8->tensorboard~=2.6->tensorflow) (3.6.0)\n",
            "Requirement already satisfied: pyasn1<0.5.0,>=0.4.6 in /usr/local/lib/python3.7/dist-packages (from pyasn1-modules>=0.2.1->google-auth<3,>=1.6.3->tensorboard~=2.6->tensorflow) (0.4.8)\n",
            "Requirement already satisfied: urllib3!=1.25.0,!=1.25.1,<1.26,>=1.21.1 in /usr/local/lib/python3.7/dist-packages (from requests<3,>=2.21.0->tensorboard~=2.6->tensorflow) (1.24.3)\n",
            "Requirement already satisfied: certifi>=2017.4.17 in /usr/local/lib/python3.7/dist-packages (from requests<3,>=2.21.0->tensorboard~=2.6->tensorflow) (2021.10.8)\n",
            "Requirement already satisfied: idna<3,>=2.5 in /usr/local/lib/python3.7/dist-packages (from requests<3,>=2.21.0->tensorboard~=2.6->tensorflow) (2.10)\n",
            "Requirement already satisfied: chardet<4,>=3.0.2 in /usr/local/lib/python3.7/dist-packages (from requests<3,>=2.21.0->tensorboard~=2.6->tensorflow) (3.0.4)\n",
            "Requirement already satisfied: oauthlib>=3.0.0 in /usr/local/lib/python3.7/dist-packages (from requests-oauthlib>=0.7.0->google-auth-oauthlib<0.5,>=0.4.1->tensorboard~=2.6->tensorflow) (3.1.1)\n"
          ]
        }
      ]
    },
    {
      "cell_type": "code",
      "source": [
        "import pandas as pd\n",
        "import matplotlib.pyplot as plt\n",
        "import seaborn as sns"
      ],
      "metadata": {
        "id": "8YyajEhAfU0-"
      },
      "execution_count": 3,
      "outputs": []
    },
    {
      "cell_type": "markdown",
      "source": [
        "#Upload Data Set"
      ],
      "metadata": {
        "id": "813QOncufQel"
      }
    },
    {
      "cell_type": "code",
      "source": [
        "train = pd.read_csv(\"COVID19_train_N2_S3.csv\",encoding='ISO-8859-1')\n",
        "test = pd.read_csv(\"COVID19_test_N2_S3.csv\",encoding='ISO-8859-1')"
      ],
      "metadata": {
        "id": "1ZmenPl9fQMG"
      },
      "execution_count": 4,
      "outputs": []
    },
    {
      "cell_type": "code",
      "source": [
        "train.info()"
      ],
      "metadata": {
        "colab": {
          "base_uri": "https://localhost:8080/"
        },
        "id": "3N-hPgQifB_u",
        "outputId": "9ab158a5-4656-444f-f32a-d8d799b9411b"
      },
      "execution_count": 5,
      "outputs": [
        {
          "output_type": "stream",
          "name": "stdout",
          "text": [
            "<class 'pandas.core.frame.DataFrame'>\n",
            "RangeIndex: 41157 entries, 0 to 41156\n",
            "Data columns (total 2 columns):\n",
            " #   Column         Non-Null Count  Dtype \n",
            "---  ------         --------------  ----- \n",
            " 0   OriginalTweet  41157 non-null  object\n",
            " 1   Sentiment      41157 non-null  object\n",
            "dtypes: object(2)\n",
            "memory usage: 643.2+ KB\n"
          ]
        }
      ]
    },
    {
      "cell_type": "code",
      "source": [
        "train.head()"
      ],
      "metadata": {
        "colab": {
          "base_uri": "https://localhost:8080/",
          "height": 206
        },
        "id": "rptXgBRxf26o",
        "outputId": "2b1fe3b5-0fee-4266-df17-8b06b2c8622b"
      },
      "execution_count": 6,
      "outputs": [
        {
          "output_type": "execute_result",
          "data": {
            "text/html": [
              "\n",
              "  <div id=\"df-5f721335-6355-409e-b332-a47d2548d20c\">\n",
              "    <div class=\"colab-df-container\">\n",
              "      <div>\n",
              "<style scoped>\n",
              "    .dataframe tbody tr th:only-of-type {\n",
              "        vertical-align: middle;\n",
              "    }\n",
              "\n",
              "    .dataframe tbody tr th {\n",
              "        vertical-align: top;\n",
              "    }\n",
              "\n",
              "    .dataframe thead th {\n",
              "        text-align: right;\n",
              "    }\n",
              "</style>\n",
              "<table border=\"1\" class=\"dataframe\">\n",
              "  <thead>\n",
              "    <tr style=\"text-align: right;\">\n",
              "      <th></th>\n",
              "      <th>OriginalTweet</th>\n",
              "      <th>Sentiment</th>\n",
              "    </tr>\n",
              "  </thead>\n",
              "  <tbody>\n",
              "    <tr>\n",
              "      <th>0</th>\n",
              "      <td>&lt;user&gt; &lt;user&gt; &lt;user&gt; &lt;url&gt; and &lt;url&gt; and &lt;url&gt;</td>\n",
              "      <td>Neutral</td>\n",
              "    </tr>\n",
              "    <tr>\n",
              "      <th>1</th>\n",
              "      <td>advice talk to your neighbours family to excha...</td>\n",
              "      <td>Positive</td>\n",
              "    </tr>\n",
              "    <tr>\n",
              "      <th>2</th>\n",
              "      <td>coronavirus australia : woolworths to give eld...</td>\n",
              "      <td>Positive</td>\n",
              "    </tr>\n",
              "    <tr>\n",
              "      <th>3</th>\n",
              "      <td>my food stock is not the only one which is emp...</td>\n",
              "      <td>Positive</td>\n",
              "    </tr>\n",
              "    <tr>\n",
              "      <th>4</th>\n",
              "      <td>me , ready to go at supermarket during the &lt;ha...</td>\n",
              "      <td>Negative</td>\n",
              "    </tr>\n",
              "  </tbody>\n",
              "</table>\n",
              "</div>\n",
              "      <button class=\"colab-df-convert\" onclick=\"convertToInteractive('df-5f721335-6355-409e-b332-a47d2548d20c')\"\n",
              "              title=\"Convert this dataframe to an interactive table.\"\n",
              "              style=\"display:none;\">\n",
              "        \n",
              "  <svg xmlns=\"http://www.w3.org/2000/svg\" height=\"24px\"viewBox=\"0 0 24 24\"\n",
              "       width=\"24px\">\n",
              "    <path d=\"M0 0h24v24H0V0z\" fill=\"none\"/>\n",
              "    <path d=\"M18.56 5.44l.94 2.06.94-2.06 2.06-.94-2.06-.94-.94-2.06-.94 2.06-2.06.94zm-11 1L8.5 8.5l.94-2.06 2.06-.94-2.06-.94L8.5 2.5l-.94 2.06-2.06.94zm10 10l.94 2.06.94-2.06 2.06-.94-2.06-.94-.94-2.06-.94 2.06-2.06.94z\"/><path d=\"M17.41 7.96l-1.37-1.37c-.4-.4-.92-.59-1.43-.59-.52 0-1.04.2-1.43.59L10.3 9.45l-7.72 7.72c-.78.78-.78 2.05 0 2.83L4 21.41c.39.39.9.59 1.41.59.51 0 1.02-.2 1.41-.59l7.78-7.78 2.81-2.81c.8-.78.8-2.07 0-2.86zM5.41 20L4 18.59l7.72-7.72 1.47 1.35L5.41 20z\"/>\n",
              "  </svg>\n",
              "      </button>\n",
              "      \n",
              "  <style>\n",
              "    .colab-df-container {\n",
              "      display:flex;\n",
              "      flex-wrap:wrap;\n",
              "      gap: 12px;\n",
              "    }\n",
              "\n",
              "    .colab-df-convert {\n",
              "      background-color: #E8F0FE;\n",
              "      border: none;\n",
              "      border-radius: 50%;\n",
              "      cursor: pointer;\n",
              "      display: none;\n",
              "      fill: #1967D2;\n",
              "      height: 32px;\n",
              "      padding: 0 0 0 0;\n",
              "      width: 32px;\n",
              "    }\n",
              "\n",
              "    .colab-df-convert:hover {\n",
              "      background-color: #E2EBFA;\n",
              "      box-shadow: 0px 1px 2px rgba(60, 64, 67, 0.3), 0px 1px 3px 1px rgba(60, 64, 67, 0.15);\n",
              "      fill: #174EA6;\n",
              "    }\n",
              "\n",
              "    [theme=dark] .colab-df-convert {\n",
              "      background-color: #3B4455;\n",
              "      fill: #D2E3FC;\n",
              "    }\n",
              "\n",
              "    [theme=dark] .colab-df-convert:hover {\n",
              "      background-color: #434B5C;\n",
              "      box-shadow: 0px 1px 3px 1px rgba(0, 0, 0, 0.15);\n",
              "      filter: drop-shadow(0px 1px 2px rgba(0, 0, 0, 0.3));\n",
              "      fill: #FFFFFF;\n",
              "    }\n",
              "  </style>\n",
              "\n",
              "      <script>\n",
              "        const buttonEl =\n",
              "          document.querySelector('#df-5f721335-6355-409e-b332-a47d2548d20c button.colab-df-convert');\n",
              "        buttonEl.style.display =\n",
              "          google.colab.kernel.accessAllowed ? 'block' : 'none';\n",
              "\n",
              "        async function convertToInteractive(key) {\n",
              "          const element = document.querySelector('#df-5f721335-6355-409e-b332-a47d2548d20c');\n",
              "          const dataTable =\n",
              "            await google.colab.kernel.invokeFunction('convertToInteractive',\n",
              "                                                     [key], {});\n",
              "          if (!dataTable) return;\n",
              "\n",
              "          const docLinkHtml = 'Like what you see? Visit the ' +\n",
              "            '<a target=\"_blank\" href=https://colab.research.google.com/notebooks/data_table.ipynb>data table notebook</a>'\n",
              "            + ' to learn more about interactive tables.';\n",
              "          element.innerHTML = '';\n",
              "          dataTable['output_type'] = 'display_data';\n",
              "          await google.colab.output.renderOutput(dataTable, element);\n",
              "          const docLink = document.createElement('div');\n",
              "          docLink.innerHTML = docLinkHtml;\n",
              "          element.appendChild(docLink);\n",
              "        }\n",
              "      </script>\n",
              "    </div>\n",
              "  </div>\n",
              "  "
            ],
            "text/plain": [
              "                                       OriginalTweet Sentiment\n",
              "0     <user> <user> <user> <url> and <url> and <url>   Neutral\n",
              "1  advice talk to your neighbours family to excha...  Positive\n",
              "2  coronavirus australia : woolworths to give eld...  Positive\n",
              "3  my food stock is not the only one which is emp...  Positive\n",
              "4  me , ready to go at supermarket during the <ha...  Negative"
            ]
          },
          "metadata": {},
          "execution_count": 6
        }
      ]
    },
    {
      "cell_type": "markdown",
      "source": [
        "#Cleaning Data Set"
      ],
      "metadata": {
        "id": "a3CZzjqjf5KP"
      }
    },
    {
      "cell_type": "markdown",
      "source": [
        "## Deleting Nan Rows"
      ],
      "metadata": {
        "id": "WCcG7ZHFf8uu"
      }
    },
    {
      "cell_type": "code",
      "source": [
        "train.isnull().sum(axis = 0)"
      ],
      "metadata": {
        "colab": {
          "base_uri": "https://localhost:8080/"
        },
        "id": "ZqpK4LIRf4HG",
        "outputId": "09c28017-bc74-4752-a520-8087c641185f"
      },
      "execution_count": 7,
      "outputs": [
        {
          "output_type": "execute_result",
          "data": {
            "text/plain": [
              "OriginalTweet    0\n",
              "Sentiment        0\n",
              "dtype: int64"
            ]
          },
          "metadata": {},
          "execution_count": 7
        }
      ]
    },
    {
      "cell_type": "code",
      "source": [
        "test.isnull().sum(axis = 0)"
      ],
      "metadata": {
        "colab": {
          "base_uri": "https://localhost:8080/"
        },
        "id": "pK532ghkf__-",
        "outputId": "bd84390f-e604-4d94-f7c3-a9bc7b391209"
      },
      "execution_count": 8,
      "outputs": [
        {
          "output_type": "execute_result",
          "data": {
            "text/plain": [
              "OriginalTweet    0\n",
              "Sentiment        0\n",
              "dtype: int64"
            ]
          },
          "metadata": {},
          "execution_count": 8
        }
      ]
    },
    {
      "cell_type": "markdown",
      "source": [
        "There are no Nan columns."
      ],
      "metadata": {
        "id": "kOt1V0VDgCe2"
      }
    },
    {
      "cell_type": "markdown",
      "source": [
        "Before cleaning the Dataset, let's perform a normalization process that we forgot about. Also some tweets have multiple question marks we should normalize this tweets too."
      ],
      "metadata": {
        "id": "a4A1b0qVgLue"
      }
    },
    {
      "cell_type": "code",
      "source": [
        "def remove_non_ascii(tweet):\n",
        "    return \"\".join(c for c in tweet if ord(c)<128)"
      ],
      "metadata": {
        "id": "vcRNONkYgBTO"
      },
      "execution_count": 9,
      "outputs": []
    },
    {
      "cell_type": "code",
      "source": [
        "tweet = \"covid-19 wonÃ¢Â’t be similar to the great recession unless unemployment ?? amp; stays ??. at the eod, if the gov steps up for the consumer amp; business, people will still have income. if itÃ¢Â’s necessary to curb activity to beat covid-19, a (temp) gdp retraction shouldnÃ¢Â’t be a surprise.\"\n",
        "print(\"Tweet Before\\n\",tweet)\n",
        "tweet = remove_non_ascii(tweet)\n",
        "print(\"Tweet After\\n\",tweet)"
      ],
      "metadata": {
        "colab": {
          "base_uri": "https://localhost:8080/"
        },
        "id": "pSyNM4p3gOI1",
        "outputId": "38e0a0a6-9654-4882-c865-89a1c73f38fd"
      },
      "execution_count": 10,
      "outputs": [
        {
          "output_type": "stream",
          "name": "stdout",
          "text": [
            "Tweet Before\n",
            " covid-19 wonÃ¢Â’t be similar to the great recession unless unemployment ?? amp; stays ??. at the eod, if the gov steps up for the consumer amp; business, people will still have income. if itÃ¢Â’s necessary to curb activity to beat covid-19, a (temp) gdp retraction shouldnÃ¢Â’t be a surprise.\n",
            "Tweet After\n",
            " covid-19 wont be similar to the great recession unless unemployment ?? amp; stays ??. at the eod, if the gov steps up for the consumer amp; business, people will still have income. if its necessary to curb activity to beat covid-19, a (temp) gdp retraction shouldnt be a surprise.\n"
          ]
        }
      ]
    },
    {
      "cell_type": "code",
      "source": [
        "def remove_mult_QM(tweet):\n",
        "  if tweet.count('?') > 5:\n",
        "    return tweet.replace('?','')\n",
        "  else:\n",
        "    return tweet"
      ],
      "metadata": {
        "id": "DpGSwWjGgPel"
      },
      "execution_count": 11,
      "outputs": []
    },
    {
      "cell_type": "code",
      "source": [
        "tweet = \"join us for brunel's second public webinar on thursday 02 april, 11am. presented by ?? ????????? ?????, we explore '???????? ??????, ????? ??? ???????????' register here ??\"\n",
        "print(\"Tweet Before\\n\",tweet)\n",
        "tweet = remove_mult_QM(tweet)\n",
        "print(\"Tweet After\\n\",tweet)"
      ],
      "metadata": {
        "colab": {
          "base_uri": "https://localhost:8080/"
        },
        "id": "UGBtkiCVgRF1",
        "outputId": "76bcd044-ebe1-4d45-9a90-24319d84278f"
      },
      "execution_count": 12,
      "outputs": [
        {
          "output_type": "stream",
          "name": "stdout",
          "text": [
            "Tweet Before\n",
            " join us for brunel's second public webinar on thursday 02 april, 11am. presented by ?? ????????? ?????, we explore '???????? ??????, ????? ??? ???????????' register here ??\n",
            "Tweet After\n",
            " join us for brunel's second public webinar on thursday 02 april, 11am. presented by   , we explore ' ,   ' register here \n"
          ]
        }
      ]
    },
    {
      "cell_type": "code",
      "source": [
        "def remove_mult_spaces(tweet):\n",
        "#Some tweets consist of only ?. That is why the try except structure was used.\n",
        "  try:\n",
        "    return re.sub(\"\\s\\s+\" , \" \", tweet)\n",
        "  except:\n",
        "    return tweet"
      ],
      "metadata": {
        "id": "jKQj8Q5ZgSkt"
      },
      "execution_count": 13,
      "outputs": []
    },
    {
      "cell_type": "code",
      "source": [
        "def normalize(tweet):\n",
        "  tweet = remove_non_ascii(tweet)\n",
        "  tweet = remove_mult_QM(tweet)\n",
        "  tweet = remove_mult_spaces(tweet)\n",
        "  return tweet"
      ],
      "metadata": {
        "id": "Ffap3t6rgUi9"
      },
      "execution_count": 14,
      "outputs": []
    },
    {
      "cell_type": "code",
      "source": [
        "tweet = \"This is a test tweet ???????\"\n",
        "print(\"Tweet Before\\n\",tweet)\n",
        "tweet = normalize(tweet)\n",
        "print(\"Tweet After\\n\",tweet)"
      ],
      "metadata": {
        "colab": {
          "base_uri": "https://localhost:8080/"
        },
        "id": "WHdAKu6VgVxd",
        "outputId": "ca0898d0-ac85-4c29-de31-0610835d036e"
      },
      "execution_count": 15,
      "outputs": [
        {
          "output_type": "stream",
          "name": "stdout",
          "text": [
            "Tweet Before\n",
            " This is a test tweet ???????\n",
            "Tweet After\n",
            " This is a test tweet \n"
          ]
        }
      ]
    },
    {
      "cell_type": "code",
      "source": [
        "for i in range(len(train)):\n",
        "  train.iloc[i][\"OriginalTweet\"] = normalize(train.iloc[i][\"OriginalTweet\"])"
      ],
      "metadata": {
        "id": "Kuju8pldgXVd"
      },
      "execution_count": 16,
      "outputs": []
    },
    {
      "cell_type": "code",
      "source": [
        "for i in range(len(test)):\n",
        "  test.iloc[i][\"OriginalTweet\"] = normalize(test.iloc[i][\"OriginalTweet\"])"
      ],
      "metadata": {
        "id": "HXkCrA4-gZHd"
      },
      "execution_count": 17,
      "outputs": []
    },
    {
      "cell_type": "markdown",
      "source": [
        "##Tweet Lenghts"
      ],
      "metadata": {
        "id": "dwSEQ6PUgcGG"
      }
    },
    {
      "cell_type": "code",
      "source": [
        "train_lens = []\n",
        "for tweet in train[\"OriginalTweet\"]:\n",
        "  tweet_len = len(tweet.split())\n",
        "  train_lens.append(tweet_len)\n",
        "train[\"tweet_len\"] = train_lens"
      ],
      "metadata": {
        "id": "BCUC2RdjganF"
      },
      "execution_count": 18,
      "outputs": []
    },
    {
      "cell_type": "code",
      "source": [
        "test_lens = []\n",
        "for tweet in test[\"OriginalTweet\"]:\n",
        "  tweet_len = len(tweet.split())\n",
        "  test_lens.append(tweet_len)\n",
        "test[\"tweet_len\"] = test_lens"
      ],
      "metadata": {
        "id": "4Y7smbRggfTW"
      },
      "execution_count": 19,
      "outputs": []
    },
    {
      "cell_type": "code",
      "source": [
        "ax = sns.countplot(x='tweet_len',data=train[train['tweet_len']<10], palette='mako')\n",
        "plt.title('Training tweets with less than 10 words')\n",
        "plt.yticks([])\n",
        "ax.bar_label(ax.containers[0])\n",
        "plt.ylabel('count')\n",
        "plt.xlabel('')\n",
        "plt.show()"
      ],
      "metadata": {
        "colab": {
          "base_uri": "https://localhost:8080/",
          "height": 281
        },
        "id": "U9LDG4mqggnO",
        "outputId": "d7638ad2-8c5e-4446-feb7-84e0e5f06d26"
      },
      "execution_count": 20,
      "outputs": [
        {
          "output_type": "display_data",
          "data": {
            "image/png": "[encoded data removed]",
            "text/plain": [
              "<Figure size 432x288 with 1 Axes>"
            ]
          },
          "metadata": {
            "needs_background": "light"
          }
        }
      ]
    },
    {
      "cell_type": "code",
      "source": [
        "ax = sns.countplot(x='tweet_len',data=test[test['tweet_len']<10], palette='mako')\n",
        "plt.title('Testing tweets with less than 10 words')\n",
        "plt.yticks([])\n",
        "ax.bar_label(ax.containers[0])\n",
        "plt.ylabel('count')\n",
        "plt.xlabel('')\n",
        "plt.show()"
      ],
      "metadata": {
        "colab": {
          "base_uri": "https://localhost:8080/",
          "height": 281
        },
        "id": "3IFEvXLTgiFO",
        "outputId": "3670b19a-fb9f-4045-b662-e38e6e3708ad"
      },
      "execution_count": 21,
      "outputs": [
        {
          "output_type": "display_data",
          "data": {
            "image/png": "[encoded data removed]",
            "text/plain": [
              "<Figure size 432x288 with 1 Axes>"
            ]
          },
          "metadata": {
            "needs_background": "light"
          }
        }
      ]
    },
    {
      "cell_type": "code",
      "source": [
        "data=train[train['tweet_len']<4]\n",
        "data.head(len(data))"
      ],
      "metadata": {
        "colab": {
          "base_uri": "https://localhost:8080/",
          "height": 1000
        },
        "id": "nCNTATOCgj6O",
        "outputId": "ae6ced32-518c-4957-f70d-61a10deeff6c"
      },
      "execution_count": 22,
      "outputs": [
        {
          "output_type": "execute_result",
          "data": {
            "text/html": [
              "\n",
              "  <div id=\"df-04294a6e-5e09-4dfd-b0d5-98b4189cb0a9\">\n",
              "    <div class=\"colab-df-container\">\n",
              "      <div>\n",
              "<style scoped>\n",
              "    .dataframe tbody tr th:only-of-type {\n",
              "        vertical-align: middle;\n",
              "    }\n",
              "\n",
              "    .dataframe tbody tr th {\n",
              "        vertical-align: top;\n",
              "    }\n",
              "\n",
              "    .dataframe thead th {\n",
              "        text-align: right;\n",
              "    }\n",
              "</style>\n",
              "<table border=\"1\" class=\"dataframe\">\n",
              "  <thead>\n",
              "    <tr style=\"text-align: right;\">\n",
              "      <th></th>\n",
              "      <th>OriginalTweet</th>\n",
              "      <th>Sentiment</th>\n",
              "      <th>tweet_len</th>\n",
              "    </tr>\n",
              "  </thead>\n",
              "  <tbody>\n",
              "    <tr>\n",
              "      <th>9073</th>\n",
              "      <td>stop fucking hoarding</td>\n",
              "      <td>Negative</td>\n",
              "      <td>3</td>\n",
              "    </tr>\n",
              "    <tr>\n",
              "      <th>9163</th>\n",
              "      <td>reality check indeed</td>\n",
              "      <td>Neutral</td>\n",
              "      <td>3</td>\n",
              "    </tr>\n",
              "    <tr>\n",
              "      <th>9167</th>\n",
              "      <td>meanwhile at home</td>\n",
              "      <td>Neutral</td>\n",
              "      <td>3</td>\n",
              "    </tr>\n",
              "    <tr>\n",
              "      <th>9776</th>\n",
              "      <td>be like bob</td>\n",
              "      <td>Positive</td>\n",
              "      <td>3</td>\n",
              "    </tr>\n",
              "    <tr>\n",
              "      <th>12047</th>\n",
              "      <td>only in france</td>\n",
              "      <td>Neutral</td>\n",
              "      <td>3</td>\n",
              "    </tr>\n",
              "    <tr>\n",
              "      <th>12399</th>\n",
              "      <td>seems about right</td>\n",
              "      <td>Neutral</td>\n",
              "      <td>3</td>\n",
              "    </tr>\n",
              "    <tr>\n",
              "      <th>12716</th>\n",
              "      <td>stay safe everyone</td>\n",
              "      <td>Positive</td>\n",
              "      <td>3</td>\n",
              "    </tr>\n",
              "    <tr>\n",
              "      <th>13843</th>\n",
              "      <td>...</td>\n",
              "      <td>Neutral</td>\n",
              "      <td>2</td>\n",
              "    </tr>\n",
              "    <tr>\n",
              "      <th>15124</th>\n",
              "      <td>toilet paper anyone</td>\n",
              "      <td>Neutral</td>\n",
              "      <td>3</td>\n",
              "    </tr>\n",
              "    <tr>\n",
              "      <th>15477</th>\n",
              "      <td>supermarkets right now</td>\n",
              "      <td>Neutral</td>\n",
              "      <td>3</td>\n",
              "    </tr>\n",
              "    <tr>\n",
              "      <th>15577</th>\n",
              "      <td>tissue issue</td>\n",
              "      <td>Neutral</td>\n",
              "      <td>2</td>\n",
              "    </tr>\n",
              "    <tr>\n",
              "      <th>16872</th>\n",
              "      <td>cartoon for</td>\n",
              "      <td>Neutral</td>\n",
              "      <td>2</td>\n",
              "    </tr>\n",
              "    <tr>\n",
              "      <th>16989</th>\n",
              "      <td>tp hoarding explained</td>\n",
              "      <td>Neutral</td>\n",
              "      <td>3</td>\n",
              "    </tr>\n",
              "    <tr>\n",
              "      <th>17635</th>\n",
              "      <td>too accurate &lt;number&gt;</td>\n",
              "      <td>Neutral</td>\n",
              "      <td>3</td>\n",
              "    </tr>\n",
              "    <tr>\n",
              "      <th>17937</th>\n",
              "      <td>current situation &lt;url&gt;</td>\n",
              "      <td>Neutral</td>\n",
              "      <td>3</td>\n",
              "    </tr>\n",
              "    <tr>\n",
              "      <th>18977</th>\n",
              "      <td>survival strategy</td>\n",
              "      <td>Neutral</td>\n",
              "      <td>2</td>\n",
              "    </tr>\n",
              "    <tr>\n",
              "      <th>19325</th>\n",
              "      <td>coronavirus is here</td>\n",
              "      <td>Neutral</td>\n",
              "      <td>3</td>\n",
              "    </tr>\n",
              "    <tr>\n",
              "      <th>20467</th>\n",
              "      <td>omg y all</td>\n",
              "      <td>Neutral</td>\n",
              "      <td>3</td>\n",
              "    </tr>\n",
              "    <tr>\n",
              "      <th>21858</th>\n",
              "      <td>parcour quarantine &lt;url&gt;</td>\n",
              "      <td>Neutral</td>\n",
              "      <td>3</td>\n",
              "    </tr>\n",
              "    <tr>\n",
              "      <th>21987</th>\n",
              "      <td>the explained brilliantly</td>\n",
              "      <td>Positive</td>\n",
              "      <td>3</td>\n",
              "    </tr>\n",
              "    <tr>\n",
              "      <th>22433</th>\n",
              "      <td>man needs a</td>\n",
              "      <td>Neutral</td>\n",
              "      <td>3</td>\n",
              "    </tr>\n",
              "    <tr>\n",
              "      <th>23975</th>\n",
              "      <td>unbelievable &lt;url&gt;</td>\n",
              "      <td>Positive</td>\n",
              "      <td>2</td>\n",
              "    </tr>\n",
              "    <tr>\n",
              "      <th>25022</th>\n",
              "      <td>supermarket lines in</td>\n",
              "      <td>Neutral</td>\n",
              "      <td>3</td>\n",
              "    </tr>\n",
              "    <tr>\n",
              "      <th>26310</th>\n",
              "      <td>clears voice pennsylvania</td>\n",
              "      <td>Positive</td>\n",
              "      <td>3</td>\n",
              "    </tr>\n",
              "    <tr>\n",
              "      <th>29888</th>\n",
              "      <td>#        &lt;url&gt;</td>\n",
              "      <td>Neutral</td>\n",
              "      <td>2</td>\n",
              "    </tr>\n",
              "    <tr>\n",
              "      <th>29899</th>\n",
              "      <td>roses are red</td>\n",
              "      <td>Neutral</td>\n",
              "      <td>3</td>\n",
              "    </tr>\n",
              "    <tr>\n",
              "      <th>30133</th>\n",
              "      <td>minion world via</td>\n",
              "      <td>Neutral</td>\n",
              "      <td>3</td>\n",
              "    </tr>\n",
              "    <tr>\n",
              "      <th>32028</th>\n",
              "      <td>interesting stuff &lt;url&gt;</td>\n",
              "      <td>Positive</td>\n",
              "      <td>3</td>\n",
              "    </tr>\n",
              "    <tr>\n",
              "      <th>32448</th>\n",
              "      <td>quarantine life</td>\n",
              "      <td>Neutral</td>\n",
              "      <td>2</td>\n",
              "    </tr>\n",
              "    <tr>\n",
              "      <th>32455</th>\n",
              "      <td>! &lt;url&gt;</td>\n",
              "      <td>Neutral</td>\n",
              "      <td>2</td>\n",
              "    </tr>\n",
              "    <tr>\n",
              "      <th>33693</th>\n",
              "      <td>&lt;url&gt; heartbreaking .</td>\n",
              "      <td>Negative</td>\n",
              "      <td>3</td>\n",
              "    </tr>\n",
              "    <tr>\n",
              "      <th>34967</th>\n",
              "      <td>this is devestating</td>\n",
              "      <td>Neutral</td>\n",
              "      <td>3</td>\n",
              "    </tr>\n",
              "    <tr>\n",
              "      <th>35526</th>\n",
              "      <td>amp</td>\n",
              "      <td>Neutral</td>\n",
              "      <td>1</td>\n",
              "    </tr>\n",
              "    <tr>\n",
              "      <th>35908</th>\n",
              "      <td>&lt;url&gt; reading materials</td>\n",
              "      <td>Neutral</td>\n",
              "      <td>3</td>\n",
              "    </tr>\n",
              "    <tr>\n",
              "      <th>37996</th>\n",
              "      <td>crisis averted</td>\n",
              "      <td>Negative</td>\n",
              "      <td>2</td>\n",
              "    </tr>\n",
              "    <tr>\n",
              "      <th>39290</th>\n",
              "      <td>toilet paper</td>\n",
              "      <td>Neutral</td>\n",
              "      <td>2</td>\n",
              "    </tr>\n",
              "    <tr>\n",
              "      <th>40135</th>\n",
              "      <td>interesting aricle &lt;number&gt;</td>\n",
              "      <td>Positive</td>\n",
              "      <td>3</td>\n",
              "    </tr>\n",
              "    <tr>\n",
              "      <th>40893</th>\n",
              "      <td>together we can</td>\n",
              "      <td>Neutral</td>\n",
              "      <td>3</td>\n",
              "    </tr>\n",
              "  </tbody>\n",
              "</table>\n",
              "</div>\n",
              "      <button class=\"colab-df-convert\" onclick=\"convertToInteractive('df-04294a6e-5e09-4dfd-b0d5-98b4189cb0a9')\"\n",
              "              title=\"Convert this dataframe to an interactive table.\"\n",
              "              style=\"display:none;\">\n",
              "        \n",
              "  <svg xmlns=\"http://www.w3.org/2000/svg\" height=\"24px\"viewBox=\"0 0 24 24\"\n",
              "       width=\"24px\">\n",
              "    <path d=\"M0 0h24v24H0V0z\" fill=\"none\"/>\n",
              "    <path d=\"M18.56 5.44l.94 2.06.94-2.06 2.06-.94-2.06-.94-.94-2.06-.94 2.06-2.06.94zm-11 1L8.5 8.5l.94-2.06 2.06-.94-2.06-.94L8.5 2.5l-.94 2.06-2.06.94zm10 10l.94 2.06.94-2.06 2.06-.94-2.06-.94-.94-2.06-.94 2.06-2.06.94z\"/><path d=\"M17.41 7.96l-1.37-1.37c-.4-.4-.92-.59-1.43-.59-.52 0-1.04.2-1.43.59L10.3 9.45l-7.72 7.72c-.78.78-.78 2.05 0 2.83L4 21.41c.39.39.9.59 1.41.59.51 0 1.02-.2 1.41-.59l7.78-7.78 2.81-2.81c.8-.78.8-2.07 0-2.86zM5.41 20L4 18.59l7.72-7.72 1.47 1.35L5.41 20z\"/>\n",
              "  </svg>\n",
              "      </button>\n",
              "      \n",
              "  <style>\n",
              "    .colab-df-container {\n",
              "      display:flex;\n",
              "      flex-wrap:wrap;\n",
              "      gap: 12px;\n",
              "    }\n",
              "\n",
              "    .colab-df-convert {\n",
              "      background-color: #E8F0FE;\n",
              "      border: none;\n",
              "      border-radius: 50%;\n",
              "      cursor: pointer;\n",
              "      display: none;\n",
              "      fill: #1967D2;\n",
              "      height: 32px;\n",
              "      padding: 0 0 0 0;\n",
              "      width: 32px;\n",
              "    }\n",
              "\n",
              "    .colab-df-convert:hover {\n",
              "      background-color: #E2EBFA;\n",
              "      box-shadow: 0px 1px 2px rgba(60, 64, 67, 0.3), 0px 1px 3px 1px rgba(60, 64, 67, 0.15);\n",
              "      fill: #174EA6;\n",
              "    }\n",
              "\n",
              "    [theme=dark] .colab-df-convert {\n",
              "      background-color: #3B4455;\n",
              "      fill: #D2E3FC;\n",
              "    }\n",
              "\n",
              "    [theme=dark] .colab-df-convert:hover {\n",
              "      background-color: #434B5C;\n",
              "      box-shadow: 0px 1px 3px 1px rgba(0, 0, 0, 0.15);\n",
              "      filter: drop-shadow(0px 1px 2px rgba(0, 0, 0, 0.3));\n",
              "      fill: #FFFFFF;\n",
              "    }\n",
              "  </style>\n",
              "\n",
              "      <script>\n",
              "        const buttonEl =\n",
              "          document.querySelector('#df-04294a6e-5e09-4dfd-b0d5-98b4189cb0a9 button.colab-df-convert');\n",
              "        buttonEl.style.display =\n",
              "          google.colab.kernel.accessAllowed ? 'block' : 'none';\n",
              "\n",
              "        async function convertToInteractive(key) {\n",
              "          const element = document.querySelector('#df-04294a6e-5e09-4dfd-b0d5-98b4189cb0a9');\n",
              "          const dataTable =\n",
              "            await google.colab.kernel.invokeFunction('convertToInteractive',\n",
              "                                                     [key], {});\n",
              "          if (!dataTable) return;\n",
              "\n",
              "          const docLinkHtml = 'Like what you see? Visit the ' +\n",
              "            '<a target=\"_blank\" href=https://colab.research.google.com/notebooks/data_table.ipynb>data table notebook</a>'\n",
              "            + ' to learn more about interactive tables.';\n",
              "          element.innerHTML = '';\n",
              "          dataTable['output_type'] = 'display_data';\n",
              "          await google.colab.output.renderOutput(dataTable, element);\n",
              "          const docLink = document.createElement('div');\n",
              "          docLink.innerHTML = docLinkHtml;\n",
              "          element.appendChild(docLink);\n",
              "        }\n",
              "      </script>\n",
              "    </div>\n",
              "  </div>\n",
              "  "
            ],
            "text/plain": [
              "                                           OriginalTweet Sentiment  tweet_len\n",
              "9073                               stop fucking hoarding  Negative          3\n",
              "9163                                reality check indeed   Neutral          3\n",
              "9167                                   meanwhile at home   Neutral          3\n",
              "9776                                         be like bob  Positive          3\n",
              "12047                                     only in france   Neutral          3\n",
              "12399                                  seems about right   Neutral          3\n",
              "12716                                 stay safe everyone  Positive          3\n",
              "13843                                                ...   Neutral          2\n",
              "15124                                toilet paper anyone   Neutral          3\n",
              "15477                             supermarkets right now   Neutral          3\n",
              "15577                                       tissue issue   Neutral          2\n",
              "16872                                        cartoon for   Neutral          2\n",
              "16989                              tp hoarding explained   Neutral          3\n",
              "17635                              too accurate <number>   Neutral          3\n",
              "17937                            current situation <url>   Neutral          3\n",
              "18977                                  survival strategy   Neutral          2\n",
              "19325                                coronavirus is here   Neutral          3\n",
              "20467                                          omg y all   Neutral          3\n",
              "21858                           parcour quarantine <url>   Neutral          3\n",
              "21987                          the explained brilliantly  Positive          3\n",
              "22433                                        man needs a   Neutral          3\n",
              "23975                                 unbelievable <url>  Positive          2\n",
              "25022                               supermarket lines in   Neutral          3\n",
              "26310                          clears voice pennsylvania  Positive          3\n",
              "29888                                     #        <url>   Neutral          2\n",
              "29899                                      roses are red   Neutral          3\n",
              "30133                                   minion world via   Neutral          3\n",
              "32028                            interesting stuff <url>  Positive          3\n",
              "32448                                    quarantine life   Neutral          2\n",
              "32455                                            ! <url>   Neutral          2\n",
              "33693                              <url> heartbreaking .  Negative          3\n",
              "34967                                this is devestating   Neutral          3\n",
              "35526                                                amp   Neutral          1\n",
              "35908                            <url> reading materials   Neutral          3\n",
              "37996                                     crisis averted  Negative          2\n",
              "39290                                       toilet paper   Neutral          2\n",
              "40135                        interesting aricle <number>  Positive          3\n",
              "40893                                    together we can   Neutral          3"
            ]
          },
          "metadata": {},
          "execution_count": 22
        }
      ]
    },
    {
      "cell_type": "markdown",
      "source": [
        "There is data in the dataset from which words are separated using \"...\". We will correct them for future normalizations, but this time we will just deleting them."
      ],
      "metadata": {
        "id": "CB-aLOtuguQH"
      }
    },
    {
      "cell_type": "code",
      "source": [
        "train = train[train[\"tweet_len\"]>4]"
      ],
      "metadata": {
        "id": "pRc3QaUlgnPm"
      },
      "execution_count": 23,
      "outputs": []
    },
    {
      "cell_type": "code",
      "source": [
        "data=test[test['tweet_len']<4]\n",
        "data.head(len(data))"
      ],
      "metadata": {
        "colab": {
          "base_uri": "https://localhost:8080/",
          "height": 112
        },
        "id": "dThZnH1Jgv1G",
        "outputId": "137bd3b8-aa1f-4524-c45a-ab71f684b1ad"
      },
      "execution_count": 24,
      "outputs": [
        {
          "output_type": "execute_result",
          "data": {
            "text/html": [
              "\n",
              "  <div id=\"df-7945cf44-1bcf-4d21-9ecd-1959ee60c555\">\n",
              "    <div class=\"colab-df-container\">\n",
              "      <div>\n",
              "<style scoped>\n",
              "    .dataframe tbody tr th:only-of-type {\n",
              "        vertical-align: middle;\n",
              "    }\n",
              "\n",
              "    .dataframe tbody tr th {\n",
              "        vertical-align: top;\n",
              "    }\n",
              "\n",
              "    .dataframe thead th {\n",
              "        text-align: right;\n",
              "    }\n",
              "</style>\n",
              "<table border=\"1\" class=\"dataframe\">\n",
              "  <thead>\n",
              "    <tr style=\"text-align: right;\">\n",
              "      <th></th>\n",
              "      <th>OriginalTweet</th>\n",
              "      <th>Sentiment</th>\n",
              "      <th>tweet_len</th>\n",
              "    </tr>\n",
              "  </thead>\n",
              "  <tbody>\n",
              "    <tr>\n",
              "      <th>2208</th>\n",
              "      <td>good morning &lt;url&gt;</td>\n",
              "      <td>Positive</td>\n",
              "      <td>3</td>\n",
              "    </tr>\n",
              "    <tr>\n",
              "      <th>3368</th>\n",
              "      <td>selfish wankpuffins</td>\n",
              "      <td>Negative</td>\n",
              "      <td>2</td>\n",
              "    </tr>\n",
              "  </tbody>\n",
              "</table>\n",
              "</div>\n",
              "      <button class=\"colab-df-convert\" onclick=\"convertToInteractive('df-7945cf44-1bcf-4d21-9ecd-1959ee60c555')\"\n",
              "              title=\"Convert this dataframe to an interactive table.\"\n",
              "              style=\"display:none;\">\n",
              "        \n",
              "  <svg xmlns=\"http://www.w3.org/2000/svg\" height=\"24px\"viewBox=\"0 0 24 24\"\n",
              "       width=\"24px\">\n",
              "    <path d=\"M0 0h24v24H0V0z\" fill=\"none\"/>\n",
              "    <path d=\"M18.56 5.44l.94 2.06.94-2.06 2.06-.94-2.06-.94-.94-2.06-.94 2.06-2.06.94zm-11 1L8.5 8.5l.94-2.06 2.06-.94-2.06-.94L8.5 2.5l-.94 2.06-2.06.94zm10 10l.94 2.06.94-2.06 2.06-.94-2.06-.94-.94-2.06-.94 2.06-2.06.94z\"/><path d=\"M17.41 7.96l-1.37-1.37c-.4-.4-.92-.59-1.43-.59-.52 0-1.04.2-1.43.59L10.3 9.45l-7.72 7.72c-.78.78-.78 2.05 0 2.83L4 21.41c.39.39.9.59 1.41.59.51 0 1.02-.2 1.41-.59l7.78-7.78 2.81-2.81c.8-.78.8-2.07 0-2.86zM5.41 20L4 18.59l7.72-7.72 1.47 1.35L5.41 20z\"/>\n",
              "  </svg>\n",
              "      </button>\n",
              "      \n",
              "  <style>\n",
              "    .colab-df-container {\n",
              "      display:flex;\n",
              "      flex-wrap:wrap;\n",
              "      gap: 12px;\n",
              "    }\n",
              "\n",
              "    .colab-df-convert {\n",
              "      background-color: #E8F0FE;\n",
              "      border: none;\n",
              "      border-radius: 50%;\n",
              "      cursor: pointer;\n",
              "      display: none;\n",
              "      fill: #1967D2;\n",
              "      height: 32px;\n",
              "      padding: 0 0 0 0;\n",
              "      width: 32px;\n",
              "    }\n",
              "\n",
              "    .colab-df-convert:hover {\n",
              "      background-color: #E2EBFA;\n",
              "      box-shadow: 0px 1px 2px rgba(60, 64, 67, 0.3), 0px 1px 3px 1px rgba(60, 64, 67, 0.15);\n",
              "      fill: #174EA6;\n",
              "    }\n",
              "\n",
              "    [theme=dark] .colab-df-convert {\n",
              "      background-color: #3B4455;\n",
              "      fill: #D2E3FC;\n",
              "    }\n",
              "\n",
              "    [theme=dark] .colab-df-convert:hover {\n",
              "      background-color: #434B5C;\n",
              "      box-shadow: 0px 1px 3px 1px rgba(0, 0, 0, 0.15);\n",
              "      filter: drop-shadow(0px 1px 2px rgba(0, 0, 0, 0.3));\n",
              "      fill: #FFFFFF;\n",
              "    }\n",
              "  </style>\n",
              "\n",
              "      <script>\n",
              "        const buttonEl =\n",
              "          document.querySelector('#df-7945cf44-1bcf-4d21-9ecd-1959ee60c555 button.colab-df-convert');\n",
              "        buttonEl.style.display =\n",
              "          google.colab.kernel.accessAllowed ? 'block' : 'none';\n",
              "\n",
              "        async function convertToInteractive(key) {\n",
              "          const element = document.querySelector('#df-7945cf44-1bcf-4d21-9ecd-1959ee60c555');\n",
              "          const dataTable =\n",
              "            await google.colab.kernel.invokeFunction('convertToInteractive',\n",
              "                                                     [key], {});\n",
              "          if (!dataTable) return;\n",
              "\n",
              "          const docLinkHtml = 'Like what you see? Visit the ' +\n",
              "            '<a target=\"_blank\" href=https://colab.research.google.com/notebooks/data_table.ipynb>data table notebook</a>'\n",
              "            + ' to learn more about interactive tables.';\n",
              "          element.innerHTML = '';\n",
              "          dataTable['output_type'] = 'display_data';\n",
              "          await google.colab.output.renderOutput(dataTable, element);\n",
              "          const docLink = document.createElement('div');\n",
              "          docLink.innerHTML = docLinkHtml;\n",
              "          element.appendChild(docLink);\n",
              "        }\n",
              "      </script>\n",
              "    </div>\n",
              "  </div>\n",
              "  "
            ],
            "text/plain": [
              "            OriginalTweet Sentiment  tweet_len\n",
              "2208   good morning <url>  Positive          3\n",
              "3368  selfish wankpuffins  Negative          2"
            ]
          },
          "metadata": {},
          "execution_count": 24
        }
      ]
    },
    {
      "cell_type": "code",
      "source": [
        "test = test[test[\"tweet_len\"]>4]"
      ],
      "metadata": {
        "id": "BwhxqxsrgxPO"
      },
      "execution_count": 25,
      "outputs": []
    },
    {
      "cell_type": "code",
      "source": [
        "train.info()"
      ],
      "metadata": {
        "colab": {
          "base_uri": "https://localhost:8080/"
        },
        "id": "hx8IHXZ4gzwX",
        "outputId": "c883d8ab-ca6d-4936-da19-e58b0e93c7ac"
      },
      "execution_count": 26,
      "outputs": [
        {
          "output_type": "stream",
          "name": "stdout",
          "text": [
            "<class 'pandas.core.frame.DataFrame'>\n",
            "Int64Index: 41078 entries, 0 to 41156\n",
            "Data columns (total 3 columns):\n",
            " #   Column         Non-Null Count  Dtype \n",
            "---  ------         --------------  ----- \n",
            " 0   OriginalTweet  41078 non-null  object\n",
            " 1   Sentiment      41078 non-null  object\n",
            " 2   tweet_len      41078 non-null  int64 \n",
            "dtypes: int64(1), object(2)\n",
            "memory usage: 1.3+ MB\n"
          ]
        }
      ]
    },
    {
      "cell_type": "markdown",
      "source": [
        "#BERT"
      ],
      "metadata": {
        "id": "kS01DLY4g2W_"
      }
    },
    {
      "cell_type": "markdown",
      "source": [
        "##Adding Required Libraries"
      ],
      "metadata": {
        "id": "7uKU9GUIg3s-"
      }
    },
    {
      "cell_type": "code",
      "source": [
        "!pip install transformers"
      ],
      "metadata": {
        "colab": {
          "base_uri": "https://localhost:8080/"
        },
        "id": "Cn92YVSQg062",
        "outputId": "53c69cf6-c490-42e5-df49-0b1a9722d545"
      },
      "execution_count": 27,
      "outputs": [
        {
          "output_type": "stream",
          "name": "stdout",
          "text": [
            "Collecting transformers\n",
            "  Downloading transformers-4.15.0-py3-none-any.whl (3.4 MB)\n",
            "\u001b[K     |████████████████████████████████| 3.4 MB 4.2 MB/s \n",
            "\u001b[?25hRequirement already satisfied: importlib-metadata in /usr/local/lib/python3.7/dist-packages (from transformers) (4.8.2)\n",
            "Collecting sacremoses\n",
            "  Downloading sacremoses-0.0.46-py3-none-any.whl (895 kB)\n",
            "\u001b[K     |████████████████████████████████| 895 kB 50.9 MB/s \n",
            "\u001b[?25hRequirement already satisfied: requests in /usr/local/lib/python3.7/dist-packages (from transformers) (2.23.0)\n",
            "Collecting huggingface-hub<1.0,>=0.1.0\n",
            "  Downloading huggingface_hub-0.2.1-py3-none-any.whl (61 kB)\n",
            "\u001b[K     |████████████████████████████████| 61 kB 585 kB/s \n",
            "\u001b[?25hCollecting pyyaml>=5.1\n",
            "  Downloading PyYAML-6.0-cp37-cp37m-manylinux_2_5_x86_64.manylinux1_x86_64.manylinux_2_12_x86_64.manylinux2010_x86_64.whl (596 kB)\n",
            "\u001b[K     |████████████████████████████████| 596 kB 39.7 MB/s \n",
            "\u001b[?25hRequirement already satisfied: numpy>=1.17 in /usr/local/lib/python3.7/dist-packages (from transformers) (1.19.5)\n",
            "Requirement already satisfied: tqdm>=4.27 in /usr/local/lib/python3.7/dist-packages (from transformers) (4.62.3)\n",
            "Collecting tokenizers<0.11,>=0.10.1\n",
            "  Downloading tokenizers-0.10.3-cp37-cp37m-manylinux_2_5_x86_64.manylinux1_x86_64.manylinux_2_12_x86_64.manylinux2010_x86_64.whl (3.3 MB)\n",
            "\u001b[K     |████████████████████████████████| 3.3 MB 36.7 MB/s \n",
            "\u001b[?25hRequirement already satisfied: regex!=2019.12.17 in /usr/local/lib/python3.7/dist-packages (from transformers) (2019.12.20)\n",
            "Requirement already satisfied: filelock in /usr/local/lib/python3.7/dist-packages (from transformers) (3.4.0)\n",
            "Requirement already satisfied: packaging>=20.0 in /usr/local/lib/python3.7/dist-packages (from transformers) (21.3)\n",
            "Requirement already satisfied: typing-extensions>=3.7.4.3 in /usr/local/lib/python3.7/dist-packages (from huggingface-hub<1.0,>=0.1.0->transformers) (3.10.0.2)\n",
            "Requirement already satisfied: pyparsing!=3.0.5,>=2.0.2 in /usr/local/lib/python3.7/dist-packages (from packaging>=20.0->transformers) (3.0.6)\n",
            "Requirement already satisfied: zipp>=0.5 in /usr/local/lib/python3.7/dist-packages (from importlib-metadata->transformers) (3.6.0)\n",
            "Requirement already satisfied: certifi>=2017.4.17 in /usr/local/lib/python3.7/dist-packages (from requests->transformers) (2021.10.8)\n",
            "Requirement already satisfied: urllib3!=1.25.0,!=1.25.1,<1.26,>=1.21.1 in /usr/local/lib/python3.7/dist-packages (from requests->transformers) (1.24.3)\n",
            "Requirement already satisfied: chardet<4,>=3.0.2 in /usr/local/lib/python3.7/dist-packages (from requests->transformers) (3.0.4)\n",
            "Requirement already satisfied: idna<3,>=2.5 in /usr/local/lib/python3.7/dist-packages (from requests->transformers) (2.10)\n",
            "Requirement already satisfied: click in /usr/local/lib/python3.7/dist-packages (from sacremoses->transformers) (7.1.2)\n",
            "Requirement already satisfied: six in /usr/local/lib/python3.7/dist-packages (from sacremoses->transformers) (1.15.0)\n",
            "Requirement already satisfied: joblib in /usr/local/lib/python3.7/dist-packages (from sacremoses->transformers) (1.1.0)\n",
            "Installing collected packages: pyyaml, tokenizers, sacremoses, huggingface-hub, transformers\n",
            "  Attempting uninstall: pyyaml\n",
            "    Found existing installation: PyYAML 3.13\n",
            "    Uninstalling PyYAML-3.13:\n",
            "      Successfully uninstalled PyYAML-3.13\n",
            "Successfully installed huggingface-hub-0.2.1 pyyaml-6.0 sacremoses-0.0.46 tokenizers-0.10.3 transformers-4.15.0\n"
          ]
        }
      ]
    },
    {
      "cell_type": "code",
      "source": [
        "from transformers import BertTokenizerFast\n",
        "from transformers import TFBertModel\n",
        "from transformers import RobertaTokenizerFast\n",
        "from transformers import TFRobertaModel\n",
        "\n",
        "from sklearn.model_selection import train_test_split\n",
        "from sklearn import preprocessing\n",
        "from imblearn.over_sampling import RandomOverSampler\n",
        "from tensorflow.keras.utils import to_categorical\n",
        "\n",
        "import tensorflow as tf\n",
        "from tensorflow import keras\n",
        "\n",
        "import numpy as np\n",
        "\n",
        "import re,string"
      ],
      "metadata": {
        "id": "iKzHFcAEg7jG"
      },
      "execution_count": 28,
      "outputs": []
    },
    {
      "cell_type": "code",
      "source": [
        "tokenizer = BertTokenizerFast.from_pretrained('bert-base-uncased')"
      ],
      "metadata": {
        "colab": {
          "base_uri": "https://localhost:8080/",
          "height": 145,
          "referenced_widgets": [
            "ad61dafadb5a4ed1ad1659dc8ef8e9b7",
            "d0e0e955dd78423b8066a7448bf29f15",
            "695ac38c5ee74211bd84ee12ad623dba",
            "bb43154025fb4d8fa7fe2792a3629d6b",
            "2a078385c35847f6881fedbf963ef671",
            "6ff5394b48a2429684dd0b32313ebe99",
            "85cd2a05011b4cda87c2e2865bb4c20d",
            "1668d5caf8964d8cbe60819ac75fab53",
            "e1cf009d3a0544eba67293e4c63a9113",
            "cf3ceeb6c43647cd83f6a7c182b03533",
            "4d267223162248afa632a0e53ae773b5",
            "c73ad07519494c9dbbba75df45929b36",
            "5d85b6f7ed2647fa8130c5ef87227835",
            "e0191a3be4e645b5819808874a956602",
            "d530f640c28747e1940916a0ccda9a74",
            "157be932477a4ff38fb67d2e303d885f",
            "6cb1eef3d1b0477dae10e502d7cc7857",
            "935190234617453fb7e40dd8d14615e7",
            "004e53dd2a364b668b81bc564ab63f30",
            "c2903895dff5401e93b520149cee7056",
            "b2e367a0b6664f139a97de1a899db331",
            "7c54da186c17472fbcca2586b3a4b1d5",
            "0dbce93f5bf7480cb193cf7bcecadda4",
            "14c96c1a9f614e578cb0fc36ea191da2",
            "b48167687ac6497a9463432ea9ad5090",
            "c5cf38df78b94abc8803135681d07e51",
            "8e57cac1b8264501af519bc69b1932f6",
            "f4373e65be4b4316b3a06f6ac2aecafa",
            "4d0b06e7d4d146e5b88a33f9a0d35591",
            "6a82bcbd82874fbe8a49f92c08818496",
            "dc1568d7af7242f288b74112a2d46442",
            "1932ae0bb984438eb68ee8dac7772f75",
            "ebe6be878a5e4668a07eca05a5017b87",
            "242295f886cd46838d52d058b90eab36",
            "617f5455be354929a48692a009f36208",
            "63873908d9cf4f0690f6cac4b078c233",
            "b72688b1b0404c4bbaf7eb1c69e7e553",
            "f0464d04c07140e5b22a8c8e107b09a6",
            "f5abdc2b48b545fe99f5b0da85810620",
            "048c414482044701ae075cb09d98cdf4",
            "eaf0e0e30883420fa3b1fb473e09f870",
            "76c8eea07ca34bc1bb30962cd542173d",
            "5787e549aaf54fe5b50d5a69c2a28a13",
            "e39713687ad340e7aa498fb81daec9a6"
          ]
        },
        "id": "IC690z0pg93O",
        "outputId": "03b6992a-b995-4677-8fe2-2122ec65371d"
      },
      "execution_count": 29,
      "outputs": [
        {
          "output_type": "display_data",
          "data": {
            "application/vnd.jupyter.widget-view+json": {
              "model_id": "ad61dafadb5a4ed1ad1659dc8ef8e9b7",
              "version_minor": 0,
              "version_major": 2
            },
            "text/plain": [
              "Downloading:   0%|          | 0.00/226k [00:00<?, ?B/s]"
            ]
          },
          "metadata": {}
        },
        {
          "output_type": "display_data",
          "data": {
            "application/vnd.jupyter.widget-view+json": {
              "model_id": "c73ad07519494c9dbbba75df45929b36",
              "version_minor": 0,
              "version_major": 2
            },
            "text/plain": [
              "Downloading:   0%|          | 0.00/455k [00:00<?, ?B/s]"
            ]
          },
          "metadata": {}
        },
        {
          "output_type": "display_data",
          "data": {
            "application/vnd.jupyter.widget-view+json": {
              "model_id": "0dbce93f5bf7480cb193cf7bcecadda4",
              "version_minor": 0,
              "version_major": 2
            },
            "text/plain": [
              "Downloading:   0%|          | 0.00/28.0 [00:00<?, ?B/s]"
            ]
          },
          "metadata": {}
        },
        {
          "output_type": "display_data",
          "data": {
            "application/vnd.jupyter.widget-view+json": {
              "model_id": "242295f886cd46838d52d058b90eab36",
              "version_minor": 0,
              "version_major": 2
            },
            "text/plain": [
              "Downloading:   0%|          | 0.00/570 [00:00<?, ?B/s]"
            ]
          },
          "metadata": {}
        }
      ]
    },
    {
      "cell_type": "code",
      "source": [
        "train_token_lens = []\n",
        "total = 0\n",
        "for i,tweet in enumerate(train[\"OriginalTweet\"].values):\n",
        "    tokens = tokenizer.encode(tweet, max_length=512, truncation=True)\n",
        "    train_token_lens.append(len(tokens))\n",
        "    if len(tokens)>250:\n",
        "        print(f\"INDEX: {i}, TOKEN: {len(tokens)}, TEXT:\\n{tweet}\")\n",
        "        total += 1\n",
        "print(\"Total of tweets: \",total)\n",
        "print(\"Max Token Lenght:\",np.max(train_token_lens))"
      ],
      "metadata": {
        "colab": {
          "base_uri": "https://localhost:8080/"
        },
        "id": "c-7zbNX8g_kG",
        "outputId": "2536bc3f-7a5f-4edd-dbde-6cbe7accc2cb"
      },
      "execution_count": 30,
      "outputs": [
        {
          "output_type": "stream",
          "name": "stdout",
          "text": [
            "INDEX: 22, TOKEN: 297, TEXT:\n",
            "we have <allcaps> amazing cheap deals </allcaps> ! <allcaps> for the </allcaps> <hashtag> covid 2019 </hashtag> going on to help you ? ? ? <hashtag> trials </hashtag> <hashtag> monthly </hashtag> <hashtag> yearly </hashtag> and resonable <hashtag> prices </hashtag> / <hashtag> subscriptions </hashtag> just <allcaps> dm us </allcaps> ! <hashtag> best iptv </hashtag> <hashtag> iptv </hashtag> <hashtag> service </hashtag> <hashtag> iptv </hashtag> <hashtag> iptv deals </hashtag> <hashtag> cheap </hashtag> <hashtag> ip tv </hashtag> <hashtag> football </hashtag> <hashtag> hd </hashtag> <hashtag> movies </hashtag> <hashtag> adult </hashtag> <hashtag> cinema </hashtag> <hashtag> hot movies </hashtag> <hashtag> iptv new </hashtag> <hashtag> iptv2020 </hashtag> <hashtag> adult </hashtag>\n",
            "INDEX: 23, TOKEN: 288, TEXT:\n",
            "we have <allcaps> amazing cheap deals </allcaps> ! <allcaps> for the </allcaps> <hashtag> covid 2019 </hashtag> going on to help you ? ? ? <hashtag> trials </hashtag> <hashtag> monthly </hashtag> <hashtag> yearly </hashtag> and resonable <hashtag> prices </hashtag> / <hashtag> subscriptions </hashtag> just <allcaps> dm us </allcaps> ! <hashtag> best iptv </hashtag> <hashtag> iptv </hashtag> <hashtag> service </hashtag> <hashtag> iptv </hashtag> <hashtag> iptv deals </hashtag> <hashtag> cheap </hashtag> <hashtag> ip tv </hashtag> <hashtag> football </hashtag> <hashtag> hd </hashtag> <hashtag> movies </hashtag> <hashtag> adult </hashtag> <hashtag> cinema </hashtag> <hashtag> hot movies </hashtag> <hashtag> ip tv </hashtag> iptvlinks <hashtag> 18 movies </hashtag>\n",
            "INDEX: 1534, TOKEN: 308, TEXT:\n",
            "<hashtag> please </hashtag> be <hashtag> aware </hashtag> , <hashtag> help </hashtag> the <hashtag> people </hashtag> , don  t <hashtag> run </hashtag> if <hashtag> affected </hashtag> , be <hashtag> clean </hashtag> , <hashtag> avoid </hashtag> going <hashtag> out </hashtag> , <hashtag> make </hashtag> <hashtag> distance </hashtag> , <hashtag> sell </hashtag> <hashtag> sanitiser s </hashtag> & <hashtag> masks </hashtag> at <hashtag> reasonable </hashtag> <hashtag> prices </hashtag> , <hashtag> eat </hashtag> <hashtag> hygienic </hashtag> <hashtag> food </hashtag> , be <hashtag> healthy </hashtag> & <hashtag> immune </hashtag> , be <hashtag> good </hashtag> <hashtag> covid19 </hashtag> <hashtag> coronavirus </hashtag> <hashtag> covid 2019 </hashtag> <hashtag> coronavirus outbreak </hashtag> <hashtag> dbz diary </hashtag>\n",
            "INDEX: 2607, TOKEN: 256, TEXT:\n",
            "<hashtag> panic buying </hashtag> around the world everyone has his priorities <hashtag> panic shopping </hashtag> <hashtag> supermarket </hashtag> <hashtag> carrefour </hashtag> <hashtag> wallmart </hashtag> <hashtag> co op </hashtag> <hashtag> toilet paper </hashtag> <hashtag> no toilet paper </hashtag> <hashtag> medicine </hashtag> <hashtag> pasta </hashtag> <hashtag> guns </hashtag> <hashtag> gun shop </hashtag> <hashtag> usa </hashtag> <hashtag> france </hashtag> <hashtag> uk </hashtag> <hashtag> italy </hashtag> <hashtag> coronavirus </hashtag> <hashtag> coronavirus italy </hashtag> <hashtag> covid 19 </hashtag> <hashtag> quarantine life </hashtag> <hashtag> quarante na </hashtag> <hashtag> italy lockdown </hashtag> <url>\n",
            "INDEX: 2898, TOKEN: 301, TEXT:\n",
            "<allcaps> index hits </allcaps> <number> <allcaps> years low within </allcaps> <number> <allcaps> sessions </allcaps> , <allcaps> next target </allcaps> <number> <allcaps> for </allcaps> <hashtag> sensex </hashtag> <allcaps> and </allcaps> <number> <allcaps> for </allcaps> <hashtag> nifty50 </hashtag> <allcaps> at the end of this week </allcaps> , <allcaps> unless there </allcaps> ' ll no <allcaps> correction in dollar rate or </allcaps> <hashtag> crude oil </hashtag> <allcaps> prices </allcaps> . <allcaps> india is at the </allcaps> 2 nd <allcaps> stage of </allcaps> <hashtag> coronavirus </hashtag> . <allcaps> next </allcaps> <number> <allcaps> weeks are vry crucial for </allcaps> <hashtag> share market </hashtag> <hashtag> public </hashtag> <url>\n",
            "INDEX: 6067, TOKEN: 283, TEXT:\n",
            "<hashtag> good morning </hashtag> <hashtag> breaking </hashtag> <hashtag> news </hashtag> not abt <hashtag> coronavirus </hashtag> so just arrived listing today <hashtag> 1 4 k </hashtag> <hashtag> gold </hashtag> <hashtag> sterling silver </hashtag> <hashtag> jewelry </hashtag> <number> <hashtag> women </hashtag> <hashtag> men </hashtag> ? <hashtag> jade </hashtag> <hashtag> dragon </hashtag> <hashtag> cz </hashtag> <hashtag> pendants </hashtag> # <hashtag> blue </hashtag> <hashtag> lapis </hashtag> <hashtag> hoops </hashtag> <hashtag> morganite </hashtag> <hashtag> earrings </hashtag> chains <hashtag> necklaces </hashtag> <hashtag> rings </hashtag> preowned deep <hashtag> sale </hashtag> <hashtag> prices </hashtag> at <hashtag> bling sch lingers </hashtag> . com <url>\n",
            "INDEX: 7572, TOKEN: 298, TEXT:\n",
            "cleaning tips from a germaphobe <url> <hashtag> clean </hashtag> <hashtag> cleaning </hashtag> <hashtag> read </hashtag> <hashtag> tips </hashtag> <hashtag> germs </hashtag> <hashtag> germaphobe </hashtag> <hashtag> coronavirus </hashtag> <hashtag> i ll </hashtag> <hashtag> illness </hashtag> <hashtag> sick </hashtag> <hashtag> sickness </hashtag> <hashtag> health </hashtag> <hashtag> healthy </hashtag> <hashtag> grocery </hashtag> <hashtag> store </hashtag> <hashtag> food </hashtag> <hashtag> sanitize </hashtag> <hashtag> clean </hashtag> <hashtag> travel </hashtag> <hashtag> antibacterial </hashtag> <hashtag> news </hashtag> <hashtag> media </hashtag> <hashtag> fear </hashtag> <hashtag> covid 19 </hashtag> <hashtag> help </hashtag> <hashtag> helping </hashtag> <hashtag> advice </hashtag>\n",
            "INDEX: 7617, TOKEN: 261, TEXT:\n",
            "get <hashtag> ready </hashtag> for the <hashtag> brand new </hashtag> <hashtag> saturday </hashtag> <hashtag> activity </hashtag> for <hashtag> men </hashtag> now that <hashtag> football </hashtag> and <hashtag> sport </hashtag> is <hashtag> cancelled </hashtag> . that ' s right , <hashtag> barging </hashtag> through a <hashtag> supermarket </hashtag> for <hashtag> two toilet rolls </hashtag> and <hashtag> forty </hashtag> <hashtag> tea bags </hashtag> . <hashtag> tesco </hashtag> <hashtag> asda </hashtag> <hashtag> morrisons </hashtag> <hashtag> sainburys </hashtag> <hashtag> corona virus </hashtag> <hashtag> covid 19 </hashtag> <hashtag> panic buying </hashtag> <hashtag> uk </hashtag> <hashtag> toilet roll </hashtag> <url>\n",
            "INDEX: 9074, TOKEN: 258, TEXT:\n",
            "<hashtag> saudi aramco </hashtag> is     very comfortable    with $ <number> oil <url> <hashtag> energy </hashtag> <hashtag> aramco </hashtag> <hashtag> saudi </hashtag> <hashtag> oil price </hashtag> <hashtag> crude oil </hashtag> <hashtag> politics </hashtag> <hashtag> geo politics </hashtag> <hashtag> covid 19 </hashtag> <hashtag> corona </hashtag> <hashtag> corona virus </hashtag> <hashtag> china virus </hashtag> <hashtag> health </hashtag> <hashtag> oil </hashtag> <hashtag> gas </hashtag> <hashtag> oil and gas </hashtag> <hashtag> subsea </hashtag> <hashtag> commodities </hashtag> <hashtag> economics </hashtag> <hashtag> markets </hashtag> <hashtag> trading </hashtag> <hashtag> a lxc ltd </hashtag> <url>\n",
            "INDEX: 10259, TOKEN: 261, TEXT:\n",
            "stock up on chicken soup ! <allcaps> kozak </allcaps> ukrainian bakery ? <hashtag> stay positive </hashtag> <hashtag> coronavirus </hashtag> <hashtag> east van </hashtag> <hashtag> food </hashtag> <hashtag> foodies </hashtag> <hashtag> foodie </hashtag> <hashtag> food blog </hashtag> <hashtag> vancouver </hashtag> <hashtag> vancouver bc </hashtag> <hashtag> yvr eats </hashtag> <hashtag> yvr </hashtag> <hashtag> vancity </hashtag> <hashtag> yvr foodies </hashtag> <hashtag> vancouver food </hashtag> <hashtag> vancouver foodie </hashtag> <hashtag> vancouver foodies </hashtag> <hashtag> burnaby </hashtag> <hashtag> new west </hashtag> <hashtag> surrey bc </hashtag> <hashtag> richmond bc </hashtag> <hashtag> canucks </hashtag> <url>\n",
            "INDEX: 12771, TOKEN: 262, TEXT:\n",
            "<hashtag> confinement diary </hashtag> day <number> - groceries ? ? / faire les courses ? ? . . . <hashtag> mask </hashtag> <hashtag> gloves </hashtag> <hashtag> contamination </hashtag> <hashtag> contagion </hashtag> <hashtag> coronavirus </hashtag> <hashtag> covid 19 </hashtag> <hashtag> confinement </hashtag> <hashtag> confinementg </hashtag>  n  ral <hashtag> isolation </hashtag> <hashtag> quarantine life </hashtag> <hashtag> quarantine </hashtag> <hashtag> comic book </hashtag> <hashtag> sketch </hashtag> <hashtag> doodle </hashtag> <hashtag> ink </hashtag> <hashtag> art </hashtag> <hashtag> artist </hashtag> <hashtag> diary </hashtag> <hashtag> toilet paper </hashtag> <hashtag> virus </hashtag> <hashtag> plague </hashtag> <url>\n",
            "INDEX: 13075, TOKEN: 266, TEXT:\n",
            "where ' s the toilet paper ? ? . . . taker plays mind games aj . . . ( link in <allcaps> bio </allcaps> ! ) <hashtag> wwe </hashtag> <hashtag> wwe universe </hashtag> <hashtag> wwe community </hashtag> <hashtag> wwe elite squad </hashtag> <hashtag> wwe mattel </hashtag> <hashtag> wwe figures </hashtag> <hashtag> action figures </hashtag> <hashtag> action </hashtag> <hashtag> wrestling </hashtag> <hashtag> toilet </hashtag> <hashtag> toilet paper </hashtag> <hashtag> paper </hashtag> <hashtag> coronavirus </hashtag> <hashtag> co vid </hashtag> <hashtag> corona </hashtag> <hashtag> virus </hashtag> <hashtag> mind games </hashtag> <hashtag> mind </hashtag> <hashtag> games </hashtag> <hashtag> fun </hashtag> <hashtag> funny </hashtag> <url>\n",
            "INDEX: 13269, TOKEN: 283, TEXT:\n",
            "<hashtag> ghettoheatmovement </hashtag> : <hashtag> worldwide </hashtag> , y ' <allcaps> all alright out there </allcaps> ? <allcaps> the </allcaps> <hashtag> hickson </hashtag> <allcaps> is indoors takin </allcaps> ' <allcaps> care of </allcaps> <hashtag> mamaghettoheat </hashtag> <allcaps> behind the scenes </allcaps> , <allcaps> durin </allcaps> ' <allcaps> this </allcaps> <hashtag> coronavirus </hashtag> <allcaps> outbreak </allcaps> . . . <allcaps> supermarket shoppin </allcaps> ' <allcaps> daily </allcaps> : <allcaps> feelin </allcaps> ' <allcaps> like </allcaps> <hashtag> thehungergames </hashtag> <allcaps> out here </allcaps> . . . . <allcaps> bought </allcaps> <number> bottles <url>\n",
            "INDEX: 13345, TOKEN: 286, TEXT:\n",
            "we have <allcaps> amazing cheap deals </allcaps> ! <allcaps> for the </allcaps> <hashtag> covid 2019 </hashtag> going on to help you ? ? ? <hashtag> trials </hashtag> <hashtag> monthly </hashtag> <hashtag> yearly </hashtag> and resonable <hashtag> prices </hashtag> / <hashtag> subscriptions </hashtag> just <allcaps> dm us </allcaps> ! <hashtag> best iptv </hashtag> <hashtag> iptv </hashtag> <hashtag> service </hashtag> <hashtag> iptv </hashtag> <hashtag> iptv deals </hashtag> <hashtag> cheap </hashtag> <hashtag> ip tv </hashtag> <hashtag> football </hashtag> <hashtag> hd </hashtag> <hashtag> movies </hashtag> <hashtag> adult </hashtag> <hashtag> cinema </hashtag> <hashtag> hot movies </hashtag> <hashtag> cheap </hashtag> <allcaps> instant setup </allcaps> !\n",
            "INDEX: 13401, TOKEN: 258, TEXT:\n",
            "<allcaps> wtf </allcaps> happened to <allcaps> this </allcaps> ? ? ! !         > <hashtag> corona crisisuk </hashtag> <hashtag> covid </hashtag> ? <number> <hashtag> covid 19 </hashtag> <hashtag> coronavirus pandemic </hashtag> <hashtag> corona crisis </hashtag> <hashtag> coronavirus </hashtag> <hashtag> corona </hashtag> <hashtag> corona virus updates </hashtag> <hashtag> coronavirus outbreak </hashtag> <hashtag> panic buying </hashtag> <hashtag> u klockdown </hashtag> <hashtag> lockdown </hashtag> <hashtag> london </hashtag> <hashtag> breaking news </hashtag> <hashtag> memes </hashtag> <hashtag> panic buying </hashtag> <hashtag> toilet paper </hashtag> <hashtag> nhs </hashtag> <hashtag> toilet paper crisis </hashtag> <url>\n",
            "INDEX: 13403, TOKEN: 252, TEXT:\n",
            "eastenders is only on <allcaps> two days </allcaps> a <allcaps> week </allcaps> ? ? ? ! ! ! - > <hashtag> corona crisisuk </hashtag> <hashtag> covid </hashtag> ? <number> <hashtag> covid 19 </hashtag> <hashtag> coronavirus pandemic </hashtag> <hashtag> corona crisis </hashtag> <hashtag> coronavirus </hashtag> <hashtag> corona </hashtag> <hashtag> corona virus updates </hashtag> <hashtag> coronavirus outbreak </hashtag> <hashtag> panic buying </hashtag> <hashtag> u klockdown </hashtag> <hashtag> lockdown </hashtag> <hashtag> london </hashtag> <hashtag> breaking news </hashtag> <hashtag> memes </hashtag> <hashtag> panic buying </hashtag> <hashtag> toilet paper </hashtag> <hashtag> nhs </hashtag> <url>\n",
            "INDEX: 16287, TOKEN: 275, TEXT:\n",
            "<hashtag> i hate the internet </hashtag> <hashtag> who did this </hashtag> most <hashtag> expensive </hashtag> <hashtag> dress </hashtag> right now <hashtag> pt cares </hashtag> <hashtag> vlogger </hashtag> <hashtag> vlog </hashtag> <hashtag> blogger </hashtag> <hashtag> blog </hashtag> <hashtag> humor </hashtag> <hashtag> funny </hashtag> <hashtag> lol </hashtag> <hashtag> lmao </hashtag> <hashtag> lmbo </hashtag> <hashtag> ihti </hashtag> <hashtag> current events </hashtag> <hashtag> coronavirus </hashtag> <hashtag> wuhan </hashtag> <hashtag> wuhan china </hashtag> <hashtag> wuhan coronavirus </hashtag> <hashtag> wuhan corona </hashtag> <hashtag> protection </hashtag> <hashtag> mask </hashtag> <hashtag> toilet paper </hashtag> <url>\n",
            "INDEX: 16575, TOKEN: 288, TEXT:\n",
            "supply and demand ! ? ? ? - <hashtag> coronavirus </hashtag> <hashtag> covid 19 </hashtag> <hashtag> hoarder </hashtag> <hashtag> hoarders </hashtag> <hashtag> grateful </hashtag> <hashtag> be kind </hashtag> <hashtag> serve </hashtag> <hashtag> love </hashtag> <hashtag> give </hashtag> <hashtag> protect </hashtag> <hashtag> do unto others </hashtag> <hashtag> prep </hashtag> <hashtag> prep life </hashtag> <hashtag> elder </hashtag> <hashtag> elder care </hashtag> <hashtag> toilet paper </hashtag> <hashtag> seniors </hashtag> <hashtag> baby boomers </hashtag> <hashtag> real estate </hashtag> <hashtag> real estate agent </hashtag> <hashtag> realtors </hashtag> <hashtag> realtor </hashtag> <hashtag> meme </hashtag> <hashtag> coronavirus meme </hashtag> <hashtag> diamonds </hashtag> <url>\n",
            "INDEX: 16576, TOKEN: 298, TEXT:\n",
            "who remembers places ? ? ? - <hashtag> coronavirus </hashtag> <hashtag> covid 19 </hashtag> <hashtag> hoarder </hashtag> <hashtag> hoarders </hashtag> <hashtag> grateful </hashtag> <hashtag> be kind </hashtag> <hashtag> serve </hashtag> <hashtag> love </hashtag> <hashtag> give </hashtag> <hashtag> protect </hashtag> <hashtag> do unto others </hashtag> <hashtag> prep </hashtag> <hashtag> prep life </hashtag> <hashtag> elder </hashtag> <hashtag> elder care </hashtag> <hashtag> toilet paper </hashtag> <hashtag> costco </hashtag> <hashtag> walmart </hashtag> <hashtag> tik tok </hashtag> <hashtag> seniors </hashtag> <hashtag> baby boomers </hashtag> <hashtag> real estate </hashtag> <hashtag> real estate agent </hashtag> <hashtag> realtors </hashtag> <hashtag> realtor </hashtag> <hashtag> give </hashtag> <url>\n",
            "INDEX: 17706, TOKEN: 258, TEXT:\n",
            "yoda fights r2 to get <allcaps> toilet paper </allcaps> ! funny edit / dub <url> < - - - <allcaps> click here </allcaps> <hashtag> coronavirus </hashtag> <hashtag> toilet paper </hashtag> <hashtag> yoda </hashtag> <hashtag> r 2 d 2 </hashtag> <hashtag> brawl </hashtag> <hashtag> fight </hashtag> <hashtag> toilet paper wars </hashtag> <hashtag> toilet paper panic </hashtag> <hashtag> toilet paper apocalypse </hashtag> <hashtag> funny </hashtag> <hashtag> star wars </hashtag> <hashtag> covididiots </hashtag> <hashtag> covidiots </hashtag> <hashtag> corona </hashtag> <hashtag> covid </hashtag> ? <number> <hashtag> lol </hashtag> <hashtag> haha </hashtag> <hashtag> stock </hashtag> <url>\n",
            "INDEX: 17816, TOKEN: 258, TEXT:\n",
            "  contemplating the value of buttpaper  , <number> . . . <hashtag> jmf studios </hashtag> <hashtag> toilet paper </hashtag> <hashtag> tp </hashtag> <hashtag> covid 19 </hashtag> <hashtag> covid19 </hashtag> <hashtag> corona </hashtag> <hashtag> coronavirus </hashtag> <hashtag> quarantine </hashtag> <hashtag> social distancing </hashtag> <hashtag> toilet paper crisis </hashtag> <hashtag> crisis </hashtag> <hashtag> cdc </hashtag> <hashtag> pandemic </hashtag> <hashtag> isolation </hashtag> <hashtag> cottonelle </hashtag> <hashtag> virus </hashtag> <hashtag> coronavirus pandemic </hashtag> <hashtag> quarantined </hashtag> <hashtag> art is life </hashtag> <hashtag> artist </hashtag> <hashtag> art </hashtag> <url>\n",
            "INDEX: 17859, TOKEN: 251, TEXT:\n",
            "what ' s your frugal hack ? help each other . put it in the comments . <hashtag> frugal </hashtag> <hashtag> qu aren t ine </hashtag> <hashtag> covid19 </hashtag> <hashtag> coronavirus </hashtag> <hashtag> corona </hashtag> <hashtag> ghetto </hashtag> <hashtag> toilet paper </hashtag> <hashtag> tp </hashtag> <hashtag> teepee </hashtag> <hashtag> hoity toity </hashtag> <hashtag> packet </hashtag> <hashtag> water </hashtag> <hashtag> boo jee </hashtag> <hashtag> boojie </hashtag> <hashtag> hoity </hashtag> <hashtag> toity </hashtag> <hashtag> social </hashtag> <hashtag> social distancing </hashtag> <hashtag> haircut </hashtag> <hashtag> clippers </hashtag> <url>\n",
            "INDEX: 18141, TOKEN: 328, TEXT:\n",
            "this true doe ? <hashtag> spongebob </hashtag> <hashtag> spongebob memes </hashtag> <hashtag> coronavirus </hashtag> <hashtag> corona memes </hashtag> <hashtag> toilet paper </hashtag> <hashtag> spongebob meme </hashtag> <hashtag> meme </hashtag> <hashtag> memes </hashtag> <hashtag> funny </hashtag> <hashtag> dank memes </hashtag> <hashtag> memes daily </hashtag> <hashtag> funny memes </hashtag> <hashtag> lol </hashtag> <hashtag> dank </hashtag> <hashtag> humor </hashtag> <hashtag> follow </hashtag> <hashtag> like </hashtag> <hashtag> dank meme </hashtag> <hashtag> lmao </hashtag> <hashtag> love </hashtag> <hashtag> ol </hashtag> <hashtag> edgy memes </hashtag> <hashtag> daily memes </hashtag> <hashtag> comedy </hashtag> <hashtag> instagram </hashtag> <hashtag> fun </hashtag> <hashtag> offensive memes </hashtag> <hashtag> funny </hashtag> <url>\n",
            "INDEX: 18292, TOKEN: 275, TEXT:\n",
            "<allcaps> covid </allcaps> - <number> coronavirus impacts maryland <user> <hashtag> covid 19 </hashtag> <hashtag> co vid </hashtag> <hashtag> cov </hashtag> ? d19 <hashtag> corona </hashtag> <hashtag> coronavirus </hashtag> <hashtag> virus </hashtag> <hashtag> flu </hashtag> <hashtag> pandemic </hashtag> <hashtag> chinese virus 2020 </hashtag> <hashtag> phillips vision </hashtag> <hashtag> youtube </hashtag> <hashtag> cdc </hashtag> <hashtag> walmart </hashtag> <hashtag> dollar tree </hashtag> <hashtag> disinfectant </hashtag> <hashtag> toilet paper </hashtag> <hashtag> shortage </hashtag> <hashtag> empty </hashtag> <hashtag> shut down </hashtag> <hashtag> news </hashtag> <hashtag> caring </hashtag> <hashtag> be safe </hashtag> <user> <url>\n",
            "INDEX: 18563, TOKEN: 259, TEXT:\n",
            "<allcaps> stock up </allcaps> <hashtag> parents </hashtag> <hashtag> stock up </hashtag> on <hashtag> education </hashtag> <hashtag> books </hashtag> amid <hashtag> coronavirus </hashtag> <hashtag> school closures </hashtag> - <hashtag> forbes </hashtag> <url> via <user> <hashtag> pre k </hashtag> <hashtag> homeschool </hashtag> <hashtag> wellness </hashtag> <hashtag> monday motivation </hashtag> <hashtag> health </hashtag> <hashtag> monday morning </hashtag> <hashtag> kids </hashtag> <hashtag> school </hashtag> <hashtag> ed </hashtag> <hashtag> home bound </hashtag> # <hashtag> nj </hashtag> <hashtag> free resources </hashtag> <hashtag> monday thoughts </hashtag> <hashtag> uk </hashtag> <hashtag> china </hashtag>\n",
            "INDEX: 19065, TOKEN: 311, TEXT:\n",
            ". . . toiletpaper edition . . . ? : : : : : : : : <hashtag> ride </hashtag> <hashtag> drive </hashtag> <hashtag> on the road </hashtag> <hashtag> street </hashtag> <hashtag> shot </hashtag> <hashtag> road </hashtag> <hashtag> toilet paper </hashtag> <hashtag> lines </hashtag> <hashtag> travel </hashtag> <hashtag> racing </hashtag> <hashtag> travel </hashtag> <hashtag> photography </hashtag> <hashtag> life </hashtag> <hashtag> weather </hashtag> <hashtag> wonderful day </hashtag> <hashtag> day </hashtag> <hashtag> long </hashtag> <hashtag> way </hashtag> <hashtag> interesting </hashtag> <hashtag> cool </hashtag> <hashtag> coronavirus </hashtag> <hashtag> colours </hashtag> <hashtag> camera </hashtag> <hashtag> sharp </hashtag> <hashtag> corona </hashtag> <hashtag> sky </hashtag> <hashtag> nature </hashtag> <hashtag> re tee t </hashtag> <url>\n",
            "INDEX: 19603, TOKEN: 271, TEXT:\n",
            "<allcaps> james gould show </allcaps> live today video : <hashtag> coronavirus </hashtag> <hashtag> corona crisis </hashtag> <hashtag> corona </hashtag> <hashtag> virus </hashtag> <hashtag> pandemic </hashtag> <hashtag> panic shopping </hashtag> <hashtag> music </hashtag> <hashtag> rock </hashtag> <hashtag> toilet paper </hashtag> <hashtag> london </hashtag> <hashtag> virus corona </hashtag> <hashtag> life </hashtag> <hashtag> video </hashtag> <hashtag> movie </hashtag> <hashtag> streaming </hashtag> <hashtag> entertainment </hashtag> <hashtag> performance </hashtag> <hashtag> cool </hashtag> <hashtag> sun </hashtag> <hashtag> smile </hashtag> <hashtag> happiness </hashtag> <hashtag> fun </hashtag> <hashtag> news </hashtag> <hashtag> awesome </hashtag> <url>\n",
            "INDEX: 19802, TOKEN: 286, TEXT:\n",
            "hoverboard fun <hashtag> points </hashtag> <hashtag> fortnite </hashtag> <hashtag> cool </hashtag> <hashtag> stunts </hashtag> <hashtag> back to the future </hashtag> <hashtag> marty mc fly </hashtag> <hashtag> hoverboards </hashtag> <hashtag> coronavirus </hashtag> <hashtag> home </hashtag> <hashtag> toilet paper </hashtag> <hashtag> browns </hashtag> <hashtag> cleveland </hashtag> <hashtag> art </hashtag> <hashtag> poetry </hashtag> <hashtag> love </hashtag> <hashtag> flips </hashtag> <hashtag> fuel </hashtag> <hashtag> ramen </hashtag> <hashtag> doom eternal </hashtag> <hashtag> animal crossing </hashtag> <hashtag> zelda </hashtag> <hashtag> pfoa </hashtag> <hashtag> bored </hashtag> <hashtag> mmm </hashtag> <hashtag> disinfect </hashtag> <url> via <user>\n",
            "INDEX: 19803, TOKEN: 280, TEXT:\n",
            "fun riding <number> wheeler , shield bash <hashtag> cod </hashtag> <hashtag> call of duty </hashtag> <hashtag> practice </hashtag> <hashtag> atv </hashtag> <hashtag> rtv </hashtag> <hashtag> recreation </hashtag> <hashtag> fun </hashtag> <hashtag> bored </hashtag> <hashtag> to do </hashtag> <hashtag> coronavirus </hashtag> <hashtag> quarantine </hashtag> <hashtag> isolation </hashtag> <hashtag> toilet paper </hashtag> <hashtag> lockdown </hashtag> <hashtag> art </hashtag> <hashtag> milk </hashtag> <hashtag> water </hashtag> <hashtag> clouds </hashtag> <hashtag> weather </hashtag> <hashtag> cleveland </hashtag> <hashtag> ohio </hashtag> <hashtag> browns </hashtag> <hashtag> nfl </hashtag> <hashtag> superbowl </hashtag> <hashtag> poetry </hashtag> <url> via <user>\n",
            "INDEX: 19804, TOKEN: 260, TEXT:\n",
            "amazing teamwork final kill for victory <hashtag> shield </hashtag> <hashtag> cod </hashtag> <hashtag> modern warfare </hashtag> <hashtag> teamwork </hashtag> <hashtag> coronavirus </hashtag> <hashtag> sandwich </hashtag> <hashtag> toilet paper </hashtag> <hashtag> go browns </hashtag> <hashtag> playoffs </hashtag> <hashtag> nfl </hashtag> <hashtag> cdc </hashtag> <hashtag> publix </hashtag> <hashtag> whole foods </hashtag> <hashtag> ramen noodles </hashtag> <hashtag> law </hashtag> <hashtag> lockdown </hashtag> <hashtag> quarantine </hashtag> <hashtag> beauty </hashtag> <hashtag> peace </hashtag> <hashtag> tag </hashtag> <hashtag> home </hashtag> <hashtag> art </hashtag> <hashtag> poetry </hashtag> <url> via <user>\n",
            "INDEX: 19805, TOKEN: 267, TEXT:\n",
            "running in place , working out <hashtag> 2 k20 </hashtag> <hashtag> park </hashtag> <hashtag> workouts </hashtag> <hashtag> cardio </hashtag> <hashtag> babydoll </hashtag> <hashtag> basketball </hashtag> <hashtag> court </hashtag> <hashtag> bored </hashtag> <hashtag> coronavirus </hashtag> <hashtag> toilet paper </hashtag> <hashtag> running </hashtag> <hashtag> lockdown </hashtag> <hashtag> home </hashtag> <hashtag> governor </hashtag> <hashtag> browns </hashtag> <hashtag> nfl </hashtag> <hashtag> nba </hashtag> <hashtag> cleveland </hashtag> <hashtag> art </hashtag> <hashtag> poetry </hashtag> <hashtag> peaceful </hashtag> <hashtag> beauty </hashtag> <hashtag> meditation </hashtag> <hashtag> ventilator </hashtag> <url> via <user>\n",
            "INDEX: 19807, TOKEN: 268, TEXT:\n",
            "behind the back to the sniper <hashtag> cod </hashtag> <hashtag> knife </hashtag> <hashtag> behind the back </hashtag> <hashtag> call of duty </hashtag> <hashtag> toilet paper </hashtag> <hashtag> roof </hashtag> <hashtag> sniping </hashtag> <hashtag> lying down </hashtag> <hashtag> sneak </hashtag> <hashtag> poetry </hashtag> <hashtag> art </hashtag> <hashtag> backside </hashtag> <hashtag> glory kills </hashtag> <hashtag> doom </hashtag> <hashtag> browns </hashtag> <hashtag> nfl </hashtag> <hashtag> cleveland </hashtag> <hashtag> ohio </hashtag> <hashtag> peaceful </hashtag> <hashtag> bored </hashtag> <hashtag> recreation </hashtag> <hashtag> to do </hashtag> <hashtag> elroy </hashtag> <hashtag> coronavirus </hashtag> <url> via <user>\n",
            "INDEX: 19808, TOKEN: 259, TEXT:\n",
            "smooth transitions , air to ground <hashtag> the crew 2 </hashtag> <hashtag> ubisoft </hashtag> <hashtag> boats </hashtag> <hashtag> planes </hashtag> <hashtag> cars </hashtag> <hashtag> beauty </hashtag> <hashtag> peace </hashtag> <hashtag> art </hashtag> <hashtag> poetry </hashtag> <hashtag> music </hashtag> <hashtag> coronavirus </hashtag> <hashtag> quarantine </hashtag> <hashtag> stay home </hashtag> <hashtag> bored </hashtag> <hashtag> fun </hashtag> <hashtag> fishing </hashtag> <hashtag> bassmasters </hashtag> <hashtag> walking dead </hashtag> <hashtag> to do </hashtag> <hashtag> toilet paper </hashtag> <hashtag> browns </hashtag> <hashtag> clippers </hashtag> <hashtag> recreation </hashtag> <url> via <user>\n",
            "INDEX: 19809, TOKEN: 262, TEXT:\n",
            "swooped in , special delivery <hashtag> rpg </hashtag> <hashtag> fortnite </hashtag> <hashtag> fun </hashtag> <hashtag> gunfights </hashtag> <hashtag> coronavirus </hashtag> <hashtag> quarantine </hashtag> <hashtag> bored </hashtag> <hashtag> relaxation </hashtag> <hashtag> airlines </hashtag> <hashtag> battle </hashtag> <hashtag> animal crossing </hashtag> <hashtag> doom eternal </hashtag> <hashtag> toilet paper </hashtag> <hashtag> dow jones </hashtag> <hashtag> stock </hashtag> <hashtag> art </hashtag> <hashtag> cdc </hashtag> <hashtag> poetry </hashtag> <hashtag> sanitize </hashtag> <hashtag> nfl </hashtag> <hashtag> nba </hashtag> <hashtag> ramen noodles </hashtag> <hashtag> maruchan </hashtag> <url> via <user>\n",
            "INDEX: 20114, TOKEN: 264, TEXT:\n",
            "  <allcaps> coming soon </allcaps> !    <allcaps> release date </allcaps> <date>  <hashtag> pre order </hashtag> ! <hashtag> coronavirus lockdown </hashtag> <hashtag> covididiots </hashtag> <hashtag> covid 19 </hashtag> <hashtag> coronavirus </hashtag> <hashtag> amazon </hashtag> <hashtag> poetry </hashtag> <hashtag> poems </hashtag> <hashtag> verses </hashtag> <hashtag> humour </hashtag> <hashtag> funny </hashtag> <hashtag> virus </hashtag> <hashtag> toilet paper </hashtag> <hashtag> coming soon </hashtag> <hashtag> collaboration </hashtag> <hashtag> book lovers </hashtag> <hashtag> book club </hashtag> <hashtag> kindle </hashtag> <hashtag> kindle unlimited </hashtag> <hashtag> paperback </hashtag> <hashtag> ebook </hashtag> <url>\n",
            "INDEX: 22449, TOKEN: 350, TEXT:\n",
            "<allcaps> stay at home for </allcaps> <number> <allcaps> days </allcaps> . <hashtag> coronavirus </hashtag> <hashtag> corona </hashtag> <hashtag> health </hashtag> <hashtag> india </hashtag> <hashtag> support </hashtag> <hashtag> fight </hashtag> <hashtag> fight together </hashtag> <hashtag> china </hashtag> <hashtag> together </hashtag> <hashtag> news </hashtag> <hashtag> flue </hashtag> <hashtag> avoid </hashtag> <hashtag> clean </hashtag> <hashtag> safe </hashtag> <hashtag> virus </hashtag> <hashtag> today </hashtag> <hashtag> plaquenil </hashtag> <hashtag> covid 19 </hashtag> <hashtag> top </hashtag> <hashtag> digital </hashtag> <hashtag> marketing </hashtag> <hashtag> help </hashtag> <hashtag> need </hashtag> <hashtag> stay safe </hashtag> <hashtag> stop </hashtag> <hashtag> hand wash </hashtag> <hashtag> mask </hashtag> <hashtag> sanitizer </hashtag> <hashtag> death </hashtag> <hashtag> nd gs </hashtag> <url>\n",
            "INDEX: 22582, TOKEN: 257, TEXT:\n",
            "world  s largest <hashtag> banks </hashtag> losing <hashtag> stock </hashtag> <hashtag> value </hashtag> d . . . - <hashtag> bank of america </hashtag> <hashtag> bnp paribas </hashtag> <hashtag> ccb </hashtag> <hashtag> china </hashtag> <hashtag> coronavirus </hashtag> <hashtag> covid 19 </hashtag> <hashtag> crisis </hashtag> <hashtag> deutsche bank </hashtag> <hashtag> epidemic </hashtag> <hashtag> europe </hashtag> <hashtag> federal reserve </hashtag> <hashtag> finance </hashtag> <hashtag> financial institutions </hashtag> <hashtag> hsbc </hashtag> <hashtag> icbc </hashtag> <hashtag> interest rates </hashtag> <hashtag> jp morgan </hashtag> <hashtag> price </hashtag> <hashtag> prices </hashtag> - <url> <url>\n",
            "INDEX: 23224, TOKEN: 251, TEXT:\n",
            "how to use hand sanitizer . motion graphics . . <hashtag> corona </hashtag> <hashtag> stay home </hashtag> <hashtag> stay safe </hashtag> <hashtag> india fights corona </hashtag> <hashtag> covid19 </hashtag> <hashtag> wuhan virus </hashtag> <hashtag> coronavirus </hashtag> <hashtag> medical </hashtag> <hashtag> coronavirus india </hashtag> <hashtag> 21 day lockdown </hashtag> <hashtag> hand </hashtag> <hashtag> virus </hashtag> <hashtag> motion graphics </hashtag> <hashtag> sanitizer </hashtag> <hashtag> after effects </hashtag> <hashtag> animation </hashtag> <hashtag> digital art </hashtag> <hashtag> visual effects </hashtag> <hashtag> indian </hashtag> <hashtag> vfx </hashtag> <hashtag> 2 d </hashtag> <url>\n",
            "INDEX: 23910, TOKEN: 252, TEXT:\n",
            "lowest prices ? ! ! ! <hashtag> quat chic am </hashtag> <hashtag> social distancing </hashtag> <hashtag> coronavirus </hashtag> <hashtag> corona crisis </hashtag> <hashtag> pandemic </hashtag> <hashtag> trudeau </hashtag> <hashtag> covid 19 </hashtag> <hashtag> yvr </hashtag> <hashtag> vancouver </hashtag> <hashtag> vancouver bc </hashtag> <hashtag> toronto </hashtag> <hashtag> ontario </hashtag> <hashtag> cdn poli </hashtag> <hashtag> bc poli </hashtag> <hashtag> van poli </hashtag> <hashtag> burnaby </hashtag> <hashtag> new west </hashtag> <hashtag> surrey bc </hashtag> <hashtag> bc gov </hashtag> <hashtag> to poli </hashtag> <hashtag> van re </hashtag> <url>\n",
            "INDEX: 27833, TOKEN: 271, TEXT:\n",
            "news <hashtag> banana republic </hashtag> of <hashtag> trump istan </hashtag> <allcaps> babble </allcaps> <hashtag> shut down </hashtag> <hashtag> gulf of mexico </hashtag> prod = end <hashtag> oil price war </hashtag> <allcaps> poll </allcaps> <number> % <hashtag> data science </hashtag> donnie <allcaps> babble </allcaps> or will ? [ ] orangehair <allcaps> blab </allcaps> [ ] <allcaps> hoax </allcaps> ~ <hashtag> coronavirus </hashtag> [ ] manipulate <hashtag> stock markets </hashtag> ~ <hashtag> elon musk </hashtag> <hashtag> great game </hashtag> + + <hashtag> oil price </hashtag> <hashtag> recession </hashtag> <hashtag> loot </hashtag> <hashtag> oot t </hashtag> <hashtag> saudi </hashtag> <hashtag> russia </hashtag>\n",
            "INDEX: 27834, TOKEN: 312, TEXT:\n",
            "<allcaps> cocaine </allcaps> <hashtag> kudlow </hashtag> <allcaps> snort </allcaps> + says <hashtag> trump istan </hashtag> <allcaps> not </allcaps> dictate <hashtag> oil </hashtag> prices <allcaps> lol </allcaps> <hashtag> oil prices </hashtag> rally = <allcaps> bye </allcaps> <hashtag> great game </hashtag> + + <hashtag> oil price war </hashtag> <hashtag> saudi </hashtag> <hashtag> russia </hashtag> <hashtag> loot </hashtag> <hashtag> oot t </hashtag> <hashtag> alice in wonderland </hashtag> <hashtag> banana republic </hashtag> <hashtag> cheap </hashtag> <hashtag> oil </hashtag> <hashtag> india </hashtag> <hashtag> escape </hashtag> <hashtag> economic slowdown </hashtag> <hashtag> suckers </hashtag> <hashtag> saved </hashtag> <hashtag> hedge funds </hashtag> <hashtag> mutual funds </hashtag> <hashtag> coronavirus </hashtag>\n",
            "INDEX: 29354, TOKEN: 258, TEXT:\n",
            "rest , it ' s going to be okay ! <hashtag> stay at home </hashtag> <hashtag> stay safe </hashtag> #         <hashtag> inspiration </hashtag> <hashtag> mah f works </hashtag> <hashtag> creative </hashtag> <hashtag> agency </hashtag> <hashtag> red </hashtag> <hashtag> peach </hashtag> <hashtag> toilet paper </hashtag> <hashtag> toilet paper crisis </hashtag> <hashtag> panic buying </hashtag> <hashtag> insta art </hashtag> <hashtag> cartoon </hashtag> <hashtag> covid 19 </hashtag> <hashtag> cov </hashtag>  d19 <hashtag> coronavirus </hashtag> <hashtag> illustration </hashtag> <hashtag> virus </hashtag> <hashtag> creativity </hashtag> <hashtag> rest </hashtag> <hashtag> stop hoarding </hashtag> <hashtag> digital art </hashtag> <url>\n",
            "INDEX: 29694, TOKEN: 279, TEXT:\n",
            "this quarantine ain  t it chief ? ? <hashtag> bowl </hashtag> <hashtag> bowling </hashtag> <hashtag> dv 8 </hashtag> <hashtag> outcast </hashtag> <hashtag> quarantine diaries </hashtag> <hashtag> quarantine life </hashtag> <hashtag> coronavirus </hashtag> <hashtag> covid 19 </hashtag> <hashtag> virus </hashtag> <hashtag> outside </hashtag> <hashtag> toilet paper </hashtag> <hashtag> tik tok </hashtag> <hashtag> bored </hashtag> <hashtag> bored at home </hashtag> <hashtag> gaming </hashtag> <hashtag> gamer </hashtag> <hashtag> pba </hashtag> <hashtag> pb at our </hashtag> <hashtag> pro </hashtag> <hashtag> missed </hashtag> <hashtag> messenger </hashtag> <hashtag> 24 hours </hashtag> <hashtag> 2 weeks </hashtag> <hashtag> wow </hashtag> <url>\n",
            "INDEX: 34238, TOKEN: 262, TEXT:\n",
            "<hashtag> ghettoheatmovement </hashtag> : <allcaps> rockin </allcaps> ' <allcaps> back </allcaps> & <allcaps> forth in my chair </allcaps> , <allcaps> wearin </allcaps> ' <allcaps> my hoody </allcaps> , <allcaps> wrapped in my blanket </allcaps> , <allcaps> feelin </allcaps> ' <allcaps> exhausted </allcaps> , <allcaps> thinkin </allcaps> ' ' <allcaps> bout standin </allcaps> ' <allcaps> in line at the supermarket </allcaps> , <allcaps> actin </allcaps> ' <allcaps> like im cool wit </allcaps> ' <hashtag> socialdistancing </hashtag> <allcaps> there </allcaps> . . . . <allcaps> why i have to wait so long before </allcaps> e <url>\n",
            "INDEX: 34768, TOKEN: 280, TEXT:\n",
            "<hashtag> corona virus </hashtag> <hashtag> kits </hashtag> ! ! ! <hashtag> masks </hashtag> ( <number> ply ) , <hashtag> hand sanitizer </hashtag> ( <number> %) <hashtag> latex gloves </hashtag> , <hashtag> coveralls </hashtag> , <hashtag> disinfectant wipes </hashtag> . order now ! ! ! ( <hashtag> families </hashtag> <hashtag> corporations </hashtag> <hashtag> entrepreneurs </hashtag> <hashtag> hypebeast </hashtag> <hashtag> ap </hashtag> <hashtag> abc news </hashtag> <hashtag> cnn </hashtag> <hashtag> cdc </hashtag> <hashtag> new york </hashtag> <hashtag> atlanta </hashtag> <hashtag> st louis </hashtag> <hashtag> denver </hashtag> <hashtag> mtv </hashtag> <hashtag> mayors </hashtag> <hashtag> tmz </hashtag> ) visit : <url> <url>\n",
            "INDEX: 34814, TOKEN: 261, TEXT:\n",
            "cartoons made my day <number> more on <url> <hashtag> cartoon </hashtag> <hashtag> fun </hashtag> <hashtag> comic </hashtag> <hashtag> pandemic </hashtag> <hashtag> pic of the day </hashtag> <hashtag> smile </hashtag> <hashtag> corona </hashtag> <hashtag> covid19 </hashtag> <hashtag> coronavirus </hashtag> <hashtag> lockdown </hashtag> <hashtag> stupid </hashtag> <hashtag> quarantine </hashtag> <hashtag> virus </hashtag> <hashtag> happy </hashtag> <hashtag> stay home </hashtag> <hashtag> health </hashtag> <hashtag> bathroom </hashtag> <hashtag> toilet paper </hashtag> <hashtag> shut down </hashtag> <hashtag> stay at home </hashtag> <hashtag> stay the fuck home </hashtag> <hashtag> flatten the curve </hashtag> <url>\n",
            "INDEX: 35143, TOKEN: 252, TEXT:\n",
            "this is <hashtag> hand sanitizers </hashtag> ? logo design . if you like it and get one for you ? contact me : <url> <hashtag> logo </hashtag> <hashtag> alcohol </hashtag> <hashtag> antibacterial </hashtag> <hashtag> coronavirus </hashtag> <hashtag> covid 2019 </hashtag> <hashtag> cream </hashtag> <hashtag> hand </hashtag> <hashtag> sanitizer </hashtag> <hashtag> bernie </hashtag> <hashtag> health </hashtag> <hashtag> leaf </hashtag> <hashtag> liquid </hashtag> <hashtag> medical </hashtag> <hashtag> n cov </hashtag> <hashtag> plus </hashtag> <hashtag> protection </hashtag> <hashtag> safe </hashtag> <hashtag> soap </hashtag> <hashtag> toilet </hashtag> <hashtag> wash </hashtag> <url>\n",
            "INDEX: 35315, TOKEN: 319, TEXT:\n",
            "safest job in america is <hashtag> uninsured </hashtag> <hashtag> super market </hashtag> <hashtag> grocery store </hashtag> \" bagger . \" are they healthy ? how do <allcaps> you </allcaps> know . <hashtag> msnbc </hashtag> <hashtag> fox news </hashtag> <hashtag> nytimes </hashtag> <hashtag> cnn </hashtag> <hashtag> wsj </hashtag> <hashtag> cnbc </hashtag> <hashtag> politico </hashtag> <hashtag> huffpost </hashtag> <hashtag> drudge </hashtag> <hashtag> bbc </hashtag> <hashtag> gop </hashtag> <hashtag> npr </hashtag> <hashtag> daily kos </hashtag> <hashtag> the hill </hashtag> <hashtag> wapo </hashtag> <hashtag> nbc </hashtag> <hashtag> cbs </hashtag> <hashtag> ap </hashtag> <hashtag> slate </hashtag> <hashtag> aarp </hashtag> <hashtag> fed </hashtag> <hashtag> covid 19 </hashtag> <user> <hashtag> nyc </hashtag>\n",
            "INDEX: 38267, TOKEN: 296, TEXT:\n",
            "closer look at <hashtag> consumer </hashtag> <hashtag> stockpiling </hashtag> in <hashtag> coronavirus </hashtag> crisis <url> <user> <hashtag> corp gov </hashtag> <hashtag> ceo </hashtag> <hashtag> cfo </hashtag> <hashtag> cmo </hashtag> <hashtag> esg </hashtag> <hashtag> grc </hashtag> <hashtag> founder </hashtag> <hashtag> entrepreneur </hashtag> <hashtag> board </hashtag> <hashtag> boardof directors </hashtag> <hashtag> directorship </hashtag> <hashtag> governance </hashtag> <hashtag> vc </hashtag> <hashtag> cvc </hashtag> <hashtag> pe </hashtag> <hashtag> startup </hashtag> <hashtag> smb </hashtag> <hashtag> marketing </hashtag> <hashtag> ux </hashtag> <hashtag> cx </hashtag> <hashtag> mrx </hashtag> <hashtag> shopping </hashtag> <hashtag> covid 19 </hashtag> <url>\n",
            "INDEX: 40253, TOKEN: 265, TEXT:\n",
            "grap some for your family and keep in safe , <hashtag> hand sanitizer </hashtag> <hashtag> natural </hashtag> <hashtag> bath and body works </hashtag> <hashtag> sanitizer </hashtag> <hashtag> coronavirus </hashtag> <hashtag> hand gel </hashtag> <hashtag> tasneem naturel </hashtag> <hashtag> bbw </hashtag> <hashtag> cf bath </hashtag> <hashtag> bugs away </hashtag> <hashtag> kleen zy </hashtag> <hashtag> bac out </hashtag> <hashtag> calm bath </hashtag> <hashtag> antibacterial </hashtag> <hashtag> skin care </hashtag> <hashtag> essential oils </hashtag> <hashtag> ibu meng and ung </hashtag> <hashtag> non toxic </hashtag> <hashtag> sleep time </hashtag> <hashtag> calm time </hashtag> <hashtag> corona v </hashtag> <url>\n",
            "INDEX: 40477, TOKEN: 269, TEXT:\n",
            "it is a great week again <hashtag> monday motivation </hashtag> <hashtag> superstore </hashtag> <hashtag> co vid </hashtag> <hashtag> co vid </hashtag> - <number> <hashtag> covid 19 </hashtag> <hashtag> coronavirus </hashtag> <hashtag> stay at home </hashtag> <hashtag> lockdown </hashtag> <hashtag> nigeria </hashtag> <hashtag> lagos </hashtag> <hashtag> naija </hashtag> <hashtag> abuja </hashtag> <hashtag> oniru </hashtag> <hashtag> victoria island </hashtag> <hashtag> ajah </hashtag> <hashtag> lekki </hashtag> <hashtag> car dealers </hashtag> <hashtag> supermarket </hashtag> <hashtag> shopping </hashtag> <hashtag> online shopping </hashtag> <hashtag> shoppers </hashtag> <hashtag> groceries </hashtag> <hashtag> stores </hashtag> <url>\n",
            "Total of tweets:  51\n",
            "Max Token Lenght: 350\n"
          ]
        }
      ]
    },
    {
      "cell_type": "markdown",
      "source": [
        "Max Lenght Tweet:\n",
        "\n",
        "< allcaps> stay at home for < /allcaps> < number> < allcaps> days < /allcaps> . < hashtag> coronavirus < /hashtag> < hashtag> corona < /hashtag> < hashtag> health < /hashtag> < hashtag> india < /hashtag> < hashtag> support < /hashtag> < hashtag> fight < /hashtag> < hashtag> fight together < /hashtag> < hashtag> china < /hashtag> < hashtag> together < /hashtag> < hashtag> news < /hashtag> < hashtag> flue < /hashtag> < hashtag> avoid < /hashtag> < hashtag> clean < /hashtag> < hashtag> safe < /hashtag> < hashtag> virus < /hashtag> < hashtag> today < /hashtag> < hashtag> plaquenil < /hashtag> < hashtag> covid 19 < /hashtag> < hashtag> top < /hashtag> < hashtag> digital < /hashtag> < hashtag> marketing < /hashtag> < hashtag> help < /hashtag> < hashtag> need < /hashtag> < hashtag> stay safe < /hashtag> < hashtag> stop < /hashtag> < hashtag> hand wash < /hashtag> < hashtag> mask < /hashtag> < hashtag> sanitizer < /hashtag> < hashtag> death < /hashtag> < hashtag> nd gs < /hashtag> < url>"
      ],
      "metadata": {
        "id": "RthqLbJCh4X-"
      }
    },
    {
      "cell_type": "code",
      "source": [
        "train[\"Token_lens\"] = train_token_lens"
      ],
      "metadata": {
        "id": "t7F89LzLhBTO"
      },
      "execution_count": 31,
      "outputs": []
    },
    {
      "cell_type": "code",
      "source": [
        "train = train[train[\"Token_lens\"]<250]"
      ],
      "metadata": {
        "id": "WBpM_fXIi1dG"
      },
      "execution_count": 32,
      "outputs": []
    },
    {
      "cell_type": "code",
      "source": [
        "train.info()"
      ],
      "metadata": {
        "colab": {
          "base_uri": "https://localhost:8080/"
        },
        "id": "jmoUrXWxi9cO",
        "outputId": "cf656762-c585-4d25-d6da-718df8947422"
      },
      "execution_count": 33,
      "outputs": [
        {
          "output_type": "stream",
          "name": "stdout",
          "text": [
            "<class 'pandas.core.frame.DataFrame'>\n",
            "Int64Index: 41026 entries, 0 to 41156\n",
            "Data columns (total 4 columns):\n",
            " #   Column         Non-Null Count  Dtype \n",
            "---  ------         --------------  ----- \n",
            " 0   OriginalTweet  41026 non-null  object\n",
            " 1   Sentiment      41026 non-null  object\n",
            " 2   tweet_len      41026 non-null  int64 \n",
            " 3   Token_lens     41026 non-null  int64 \n",
            "dtypes: int64(2), object(2)\n",
            "memory usage: 1.6+ MB\n"
          ]
        }
      ]
    },
    {
      "cell_type": "code",
      "source": [
        "test_token_lens = []\n",
        "total = 0\n",
        "for i,tweet in enumerate(test[\"OriginalTweet\"].values):\n",
        "    tokens = tokenizer.encode(tweet, max_length=512, truncation=True)\n",
        "    test_token_lens.append(len(tokens))\n",
        "    if len(tokens)>250:\n",
        "        print(f\"INDEX: {i}, TOKEN: {len(tokens)}, TEXT: {tweet}\")\n",
        "        total += 1\n",
        "print(\"Total of tweets: \",total)"
      ],
      "metadata": {
        "colab": {
          "base_uri": "https://localhost:8080/"
        },
        "id": "hpR5ho21i_aP",
        "outputId": "59be8e55-0fbd-44e6-f797-799d2f4df8b9"
      },
      "execution_count": 34,
      "outputs": [
        {
          "output_type": "stream",
          "name": "stdout",
          "text": [
            "Total of tweets:  0\n"
          ]
        }
      ]
    },
    {
      "cell_type": "code",
      "source": [
        "test[\"Token_lens\"] = test_token_lens"
      ],
      "metadata": {
        "id": "hfL79MmmjB-v"
      },
      "execution_count": 35,
      "outputs": []
    },
    {
      "cell_type": "code",
      "source": [
        "test = test[test[\"Token_lens\"]<250]"
      ],
      "metadata": {
        "id": "51FXUObzjE4n"
      },
      "execution_count": 36,
      "outputs": []
    },
    {
      "cell_type": "code",
      "source": [
        "train = train.sort_values(by = \"Token_lens\",ascending=False)\n",
        "train.head(20)"
      ],
      "metadata": {
        "colab": {
          "base_uri": "https://localhost:8080/",
          "height": 720
        },
        "id": "QDfl-pcXjHLu",
        "outputId": "b36d85d0-d83a-4a33-8a1c-097e9bf0aab1"
      },
      "execution_count": 37,
      "outputs": [
        {
          "output_type": "execute_result",
          "data": {
            "text/html": [
              "\n",
              "  <div id=\"df-9613ac08-0aed-4616-b3e2-f3041049970e\">\n",
              "    <div class=\"colab-df-container\">\n",
              "      <div>\n",
              "<style scoped>\n",
              "    .dataframe tbody tr th:only-of-type {\n",
              "        vertical-align: middle;\n",
              "    }\n",
              "\n",
              "    .dataframe tbody tr th {\n",
              "        vertical-align: top;\n",
              "    }\n",
              "\n",
              "    .dataframe thead th {\n",
              "        text-align: right;\n",
              "    }\n",
              "</style>\n",
              "<table border=\"1\" class=\"dataframe\">\n",
              "  <thead>\n",
              "    <tr style=\"text-align: right;\">\n",
              "      <th></th>\n",
              "      <th>OriginalTweet</th>\n",
              "      <th>Sentiment</th>\n",
              "      <th>tweet_len</th>\n",
              "      <th>Token_lens</th>\n",
              "    </tr>\n",
              "  </thead>\n",
              "  <tbody>\n",
              "    <tr>\n",
              "      <th>18411</th>\n",
              "      <td>the various levels of filth &lt;url&gt; &lt;hashtag&gt; co...</td>\n",
              "      <td>Neutral</td>\n",
              "      <td>80</td>\n",
              "      <td>249</td>\n",
              "    </tr>\n",
              "    <tr>\n",
              "      <th>10205</th>\n",
              "      <td>&lt;number&gt; more cases of mres have just arrived ...</td>\n",
              "      <td>Positive</td>\n",
              "      <td>88</td>\n",
              "      <td>249</td>\n",
              "    </tr>\n",
              "    <tr>\n",
              "      <th>18413</th>\n",
              "      <td>not living above your means &lt;url&gt; &lt;hashtag&gt; co...</td>\n",
              "      <td>Neutral</td>\n",
              "      <td>79</td>\n",
              "      <td>247</td>\n",
              "    </tr>\n",
              "    <tr>\n",
              "      <th>24783</th>\n",
              "      <td>&lt;hashtag&gt; covid &lt;/hashtag&gt; ? &lt;number&gt; protecti...</td>\n",
              "      <td>Neutral</td>\n",
              "      <td>83</td>\n",
              "      <td>246</td>\n",
              "    </tr>\n",
              "    <tr>\n",
              "      <th>11466</th>\n",
              "      <td>many common &lt;hashtag&gt; household &lt;/hashtag&gt; &lt;ha...</td>\n",
              "      <td>Neutral</td>\n",
              "      <td>81</td>\n",
              "      <td>246</td>\n",
              "    </tr>\n",
              "    <tr>\n",
              "      <th>35092</th>\n",
              "      <td>our little plague doctor friend has arrived to...</td>\n",
              "      <td>Positive</td>\n",
              "      <td>83</td>\n",
              "      <td>245</td>\n",
              "    </tr>\n",
              "    <tr>\n",
              "      <th>4045</th>\n",
              "      <td>today at the grocery store . yep , this really...</td>\n",
              "      <td>Positive</td>\n",
              "      <td>87</td>\n",
              "      <td>245</td>\n",
              "    </tr>\n",
              "    <tr>\n",
              "      <th>34867</th>\n",
              "      <td>when you are out of toilet paper and need to b...</td>\n",
              "      <td>Positive</td>\n",
              "      <td>92</td>\n",
              "      <td>244</td>\n",
              "    </tr>\n",
              "    <tr>\n",
              "      <th>23461</th>\n",
              "      <td>&lt;user&gt; ji &lt;allcaps&gt; gods &lt;/allcaps&gt; + &lt;allcaps...</td>\n",
              "      <td>Negative</td>\n",
              "      <td>76</td>\n",
              "      <td>244</td>\n",
              "    </tr>\n",
              "    <tr>\n",
              "      <th>24398</th>\n",
              "      <td>? new podcast ! \" businesses answering the &lt;al...</td>\n",
              "      <td>Positive</td>\n",
              "      <td>80</td>\n",
              "      <td>244</td>\n",
              "    </tr>\n",
              "    <tr>\n",
              "      <th>32929</th>\n",
              "      <td>&lt;allcaps&gt; social distancing &lt;/allcaps&gt; ? ? red...</td>\n",
              "      <td>Positive</td>\n",
              "      <td>83</td>\n",
              "      <td>244</td>\n",
              "    </tr>\n",
              "    <tr>\n",
              "      <th>5511</th>\n",
              "      <td>panic buying causes headaches for new zealand ...</td>\n",
              "      <td>Negative</td>\n",
              "      <td>88</td>\n",
              "      <td>243</td>\n",
              "    </tr>\n",
              "    <tr>\n",
              "      <th>9017</th>\n",
              "      <td>&lt;allcaps&gt; covid &lt;/allcaps&gt; - &lt;number&gt; : tracki...</td>\n",
              "      <td>Neutral</td>\n",
              "      <td>79</td>\n",
              "      <td>242</td>\n",
              "    </tr>\n",
              "    <tr>\n",
              "      <th>32921</th>\n",
              "      <td>market update : traders   buck the t . . . - &lt;...</td>\n",
              "      <td>Neutral</td>\n",
              "      <td>84</td>\n",
              "      <td>242</td>\n",
              "    </tr>\n",
              "    <tr>\n",
              "      <th>31289</th>\n",
              "      <td>still not the easiest to find tp &lt;hashtag&gt; ste...</td>\n",
              "      <td>Negative</td>\n",
              "      <td>85</td>\n",
              "      <td>241</td>\n",
              "    </tr>\n",
              "    <tr>\n",
              "      <th>28978</th>\n",
              "      <td>&lt;allcaps&gt; pm of india mr &lt;/allcaps&gt; . &lt;allcaps...</td>\n",
              "      <td>Negative</td>\n",
              "      <td>82</td>\n",
              "      <td>240</td>\n",
              "    </tr>\n",
              "    <tr>\n",
              "      <th>30286</th>\n",
              "      <td>when disneyland &lt;allcaps&gt; reopens &lt;/allcaps&gt; i...</td>\n",
              "      <td>Positive</td>\n",
              "      <td>87</td>\n",
              "      <td>240</td>\n",
              "    </tr>\n",
              "    <tr>\n",
              "      <th>37670</th>\n",
              "      <td>&lt;allcaps&gt; reduce your risk of covid &lt;/allcaps&gt;...</td>\n",
              "      <td>Negative</td>\n",
              "      <td>85</td>\n",
              "      <td>240</td>\n",
              "    </tr>\n",
              "    <tr>\n",
              "      <th>5323</th>\n",
              "      <td>&lt;number&gt; . 0 1 7   / kwh &lt;hashtag&gt; wind &lt;/hash...</td>\n",
              "      <td>Positive</td>\n",
              "      <td>90</td>\n",
              "      <td>240</td>\n",
              "    </tr>\n",
              "    <tr>\n",
              "      <th>16133</th>\n",
              "      <td>going to become a road warrior with these gas ...</td>\n",
              "      <td>Neutral</td>\n",
              "      <td>80</td>\n",
              "      <td>240</td>\n",
              "    </tr>\n",
              "  </tbody>\n",
              "</table>\n",
              "</div>\n",
              "      <button class=\"colab-df-convert\" onclick=\"convertToInteractive('df-9613ac08-0aed-4616-b3e2-f3041049970e')\"\n",
              "              title=\"Convert this dataframe to an interactive table.\"\n",
              "              style=\"display:none;\">\n",
              "        \n",
              "  <svg xmlns=\"http://www.w3.org/2000/svg\" height=\"24px\"viewBox=\"0 0 24 24\"\n",
              "       width=\"24px\">\n",
              "    <path d=\"M0 0h24v24H0V0z\" fill=\"none\"/>\n",
              "    <path d=\"M18.56 5.44l.94 2.06.94-2.06 2.06-.94-2.06-.94-.94-2.06-.94 2.06-2.06.94zm-11 1L8.5 8.5l.94-2.06 2.06-.94-2.06-.94L8.5 2.5l-.94 2.06-2.06.94zm10 10l.94 2.06.94-2.06 2.06-.94-2.06-.94-.94-2.06-.94 2.06-2.06.94z\"/><path d=\"M17.41 7.96l-1.37-1.37c-.4-.4-.92-.59-1.43-.59-.52 0-1.04.2-1.43.59L10.3 9.45l-7.72 7.72c-.78.78-.78 2.05 0 2.83L4 21.41c.39.39.9.59 1.41.59.51 0 1.02-.2 1.41-.59l7.78-7.78 2.81-2.81c.8-.78.8-2.07 0-2.86zM5.41 20L4 18.59l7.72-7.72 1.47 1.35L5.41 20z\"/>\n",
              "  </svg>\n",
              "      </button>\n",
              "      \n",
              "  <style>\n",
              "    .colab-df-container {\n",
              "      display:flex;\n",
              "      flex-wrap:wrap;\n",
              "      gap: 12px;\n",
              "    }\n",
              "\n",
              "    .colab-df-convert {\n",
              "      background-color: #E8F0FE;\n",
              "      border: none;\n",
              "      border-radius: 50%;\n",
              "      cursor: pointer;\n",
              "      display: none;\n",
              "      fill: #1967D2;\n",
              "      height: 32px;\n",
              "      padding: 0 0 0 0;\n",
              "      width: 32px;\n",
              "    }\n",
              "\n",
              "    .colab-df-convert:hover {\n",
              "      background-color: #E2EBFA;\n",
              "      box-shadow: 0px 1px 2px rgba(60, 64, 67, 0.3), 0px 1px 3px 1px rgba(60, 64, 67, 0.15);\n",
              "      fill: #174EA6;\n",
              "    }\n",
              "\n",
              "    [theme=dark] .colab-df-convert {\n",
              "      background-color: #3B4455;\n",
              "      fill: #D2E3FC;\n",
              "    }\n",
              "\n",
              "    [theme=dark] .colab-df-convert:hover {\n",
              "      background-color: #434B5C;\n",
              "      box-shadow: 0px 1px 3px 1px rgba(0, 0, 0, 0.15);\n",
              "      filter: drop-shadow(0px 1px 2px rgba(0, 0, 0, 0.3));\n",
              "      fill: #FFFFFF;\n",
              "    }\n",
              "  </style>\n",
              "\n",
              "      <script>\n",
              "        const buttonEl =\n",
              "          document.querySelector('#df-9613ac08-0aed-4616-b3e2-f3041049970e button.colab-df-convert');\n",
              "        buttonEl.style.display =\n",
              "          google.colab.kernel.accessAllowed ? 'block' : 'none';\n",
              "\n",
              "        async function convertToInteractive(key) {\n",
              "          const element = document.querySelector('#df-9613ac08-0aed-4616-b3e2-f3041049970e');\n",
              "          const dataTable =\n",
              "            await google.colab.kernel.invokeFunction('convertToInteractive',\n",
              "                                                     [key], {});\n",
              "          if (!dataTable) return;\n",
              "\n",
              "          const docLinkHtml = 'Like what you see? Visit the ' +\n",
              "            '<a target=\"_blank\" href=https://colab.research.google.com/notebooks/data_table.ipynb>data table notebook</a>'\n",
              "            + ' to learn more about interactive tables.';\n",
              "          element.innerHTML = '';\n",
              "          dataTable['output_type'] = 'display_data';\n",
              "          await google.colab.output.renderOutput(dataTable, element);\n",
              "          const docLink = document.createElement('div');\n",
              "          docLink.innerHTML = docLinkHtml;\n",
              "          element.appendChild(docLink);\n",
              "        }\n",
              "      </script>\n",
              "    </div>\n",
              "  </div>\n",
              "  "
            ],
            "text/plain": [
              "                                           OriginalTweet  ... Token_lens\n",
              "18411  the various levels of filth <url> <hashtag> co...  ...        249\n",
              "10205  <number> more cases of mres have just arrived ...  ...        249\n",
              "18413  not living above your means <url> <hashtag> co...  ...        247\n",
              "24783  <hashtag> covid </hashtag> ? <number> protecti...  ...        246\n",
              "11466  many common <hashtag> household </hashtag> <ha...  ...        246\n",
              "35092  our little plague doctor friend has arrived to...  ...        245\n",
              "4045   today at the grocery store . yep , this really...  ...        245\n",
              "34867  when you are out of toilet paper and need to b...  ...        244\n",
              "23461  <user> ji <allcaps> gods </allcaps> + <allcaps...  ...        244\n",
              "24398  ? new podcast ! \" businesses answering the <al...  ...        244\n",
              "32929  <allcaps> social distancing </allcaps> ? ? red...  ...        244\n",
              "5511   panic buying causes headaches for new zealand ...  ...        243\n",
              "9017   <allcaps> covid </allcaps> - <number> : tracki...  ...        242\n",
              "32921  market update : traders   buck the t . . . - <...  ...        242\n",
              "31289  still not the easiest to find tp <hashtag> ste...  ...        241\n",
              "28978  <allcaps> pm of india mr </allcaps> . <allcaps...  ...        240\n",
              "30286  when disneyland <allcaps> reopens </allcaps> i...  ...        240\n",
              "37670  <allcaps> reduce your risk of covid </allcaps>...  ...        240\n",
              "5323   <number> . 0 1 7   / kwh <hashtag> wind </hash...  ...        240\n",
              "16133  going to become a road warrior with these gas ...  ...        240\n",
              "\n",
              "[20 rows x 4 columns]"
            ]
          },
          "metadata": {},
          "execution_count": 37
        }
      ]
    },
    {
      "cell_type": "code",
      "source": [
        "train = train.sample(frac=1).reset_index(drop=True)"
      ],
      "metadata": {
        "id": "GIY6auKpjI2e"
      },
      "execution_count": 38,
      "outputs": []
    },
    {
      "cell_type": "code",
      "source": [
        "test = test.sort_values(by = \"Token_lens\",ascending=False)\n",
        "test.head(20)"
      ],
      "metadata": {
        "colab": {
          "base_uri": "https://localhost:8080/",
          "height": 676
        },
        "id": "XhYxDjfsjbOP",
        "outputId": "52460b29-2cd1-4296-e431-a4f64e7fb474"
      },
      "execution_count": 39,
      "outputs": [
        {
          "output_type": "execute_result",
          "data": {
            "text/html": [
              "\n",
              "  <div id=\"df-c2383933-294d-4472-94e2-9f355b052dfe\">\n",
              "    <div class=\"colab-df-container\">\n",
              "      <div>\n",
              "<style scoped>\n",
              "    .dataframe tbody tr th:only-of-type {\n",
              "        vertical-align: middle;\n",
              "    }\n",
              "\n",
              "    .dataframe tbody tr th {\n",
              "        vertical-align: top;\n",
              "    }\n",
              "\n",
              "    .dataframe thead th {\n",
              "        text-align: right;\n",
              "    }\n",
              "</style>\n",
              "<table border=\"1\" class=\"dataframe\">\n",
              "  <thead>\n",
              "    <tr style=\"text-align: right;\">\n",
              "      <th></th>\n",
              "      <th>OriginalTweet</th>\n",
              "      <th>Sentiment</th>\n",
              "      <th>tweet_len</th>\n",
              "      <th>Token_lens</th>\n",
              "    </tr>\n",
              "  </thead>\n",
              "  <tbody>\n",
              "    <tr>\n",
              "      <th>2885</th>\n",
              "      <td>&lt;hashtag&gt; covid &lt;/hashtag&gt; ? &lt;number&gt; ? face m...</td>\n",
              "      <td>Neutral</td>\n",
              "      <td>85</td>\n",
              "      <td>242</td>\n",
              "    </tr>\n",
              "    <tr>\n",
              "      <th>1421</th>\n",
              "      <td>&lt;allcaps&gt; this &lt;/allcaps&gt; &lt;hashtag&gt; coronoviru...</td>\n",
              "      <td>Negative</td>\n",
              "      <td>91</td>\n",
              "      <td>232</td>\n",
              "    </tr>\n",
              "    <tr>\n",
              "      <th>1460</th>\n",
              "      <td>&lt;hashtag&gt; covid 19 &lt;/hashtag&gt; &lt;number&gt; protect...</td>\n",
              "      <td>Neutral</td>\n",
              "      <td>82</td>\n",
              "      <td>228</td>\n",
              "    </tr>\n",
              "    <tr>\n",
              "      <th>709</th>\n",
              "      <td>&lt;allcaps&gt; nyc &lt;/allcaps&gt; water . &lt;allcaps&gt; is ...</td>\n",
              "      <td>Negative</td>\n",
              "      <td>93</td>\n",
              "      <td>226</td>\n",
              "    </tr>\n",
              "    <tr>\n",
              "      <th>1384</th>\n",
              "      <td>&lt;hashtag&gt; covid 19 &lt;/hashtag&gt; protection face ...</td>\n",
              "      <td>Neutral</td>\n",
              "      <td>81</td>\n",
              "      <td>225</td>\n",
              "    </tr>\n",
              "    <tr>\n",
              "      <th>3738</th>\n",
              "      <td>&lt;number&gt; weeks &lt;hashtag&gt; lockdown &lt;/hashtag&gt; !...</td>\n",
              "      <td>Neutral</td>\n",
              "      <td>75</td>\n",
              "      <td>207</td>\n",
              "    </tr>\n",
              "    <tr>\n",
              "      <th>706</th>\n",
              "      <td>this panel by sid teles perfectly embodies the...</td>\n",
              "      <td>Positive</td>\n",
              "      <td>69</td>\n",
              "      <td>205</td>\n",
              "    </tr>\n",
              "    <tr>\n",
              "      <th>1015</th>\n",
              "      <td>&lt;user&gt; &lt;user&gt; this = as bad for the ? as the p...</td>\n",
              "      <td>Negative</td>\n",
              "      <td>84</td>\n",
              "      <td>202</td>\n",
              "    </tr>\n",
              "    <tr>\n",
              "      <th>2466</th>\n",
              "      <td>&lt;hashtag&gt; ohio coronavirus &lt;/hashtag&gt; &lt;hashtag...</td>\n",
              "      <td>Neutral</td>\n",
              "      <td>71</td>\n",
              "      <td>201</td>\n",
              "    </tr>\n",
              "    <tr>\n",
              "      <th>2995</th>\n",
              "      <td>. &lt;user&gt; says it is out of &lt;hashtag&gt; stock &lt;/h...</td>\n",
              "      <td>Negative</td>\n",
              "      <td>70</td>\n",
              "      <td>201</td>\n",
              "    </tr>\n",
              "    <tr>\n",
              "      <th>2975</th>\n",
              "      <td>&lt;hashtag&gt; covid &lt;/hashtag&gt; ? &lt;number&gt; &lt;hashtag...</td>\n",
              "      <td>Neutral</td>\n",
              "      <td>74</td>\n",
              "      <td>199</td>\n",
              "    </tr>\n",
              "    <tr>\n",
              "      <th>2499</th>\n",
              "      <td>just did not make &lt;allcaps&gt; any &lt;/allcaps&gt; sen...</td>\n",
              "      <td>Negative</td>\n",
              "      <td>71</td>\n",
              "      <td>198</td>\n",
              "    </tr>\n",
              "    <tr>\n",
              "      <th>2572</th>\n",
              "      <td>stores selling out due to &lt;hashtag&gt; panic buyi...</td>\n",
              "      <td>Positive</td>\n",
              "      <td>73</td>\n",
              "      <td>196</td>\n",
              "    </tr>\n",
              "    <tr>\n",
              "      <th>1295</th>\n",
              "      <td>here a good and must buy deal for you . get &lt;a...</td>\n",
              "      <td>Positive</td>\n",
              "      <td>75</td>\n",
              "      <td>193</td>\n",
              "    </tr>\n",
              "    <tr>\n",
              "      <th>225</th>\n",
              "      <td>so we  re &lt;hashtag&gt; washing hands &lt;/hashtag&gt; m...</td>\n",
              "      <td>Positive</td>\n",
              "      <td>77</td>\n",
              "      <td>193</td>\n",
              "    </tr>\n",
              "    <tr>\n",
              "      <th>1485</th>\n",
              "      <td>&lt;allcaps&gt; dtf &lt;/allcaps&gt; - don  t touch face &lt;...</td>\n",
              "      <td>Negative</td>\n",
              "      <td>82</td>\n",
              "      <td>192</td>\n",
              "    </tr>\n",
              "    <tr>\n",
              "      <th>1459</th>\n",
              "      <td>face masks on stock online in europe regular p...</td>\n",
              "      <td>Positive</td>\n",
              "      <td>74</td>\n",
              "      <td>190</td>\n",
              "    </tr>\n",
              "    <tr>\n",
              "      <th>192</th>\n",
              "      <td>&lt;allcaps&gt; coronavirus effect on bond prices &lt;/...</td>\n",
              "      <td>Positive</td>\n",
              "      <td>71</td>\n",
              "      <td>189</td>\n",
              "    </tr>\n",
              "    <tr>\n",
              "      <th>2570</th>\n",
              "      <td>stores selling out due to &lt;hashtag&gt; panic buyi...</td>\n",
              "      <td>Positive</td>\n",
              "      <td>72</td>\n",
              "      <td>188</td>\n",
              "    </tr>\n",
              "    <tr>\n",
              "      <th>2956</th>\n",
              "      <td>long line outside a supermarket in &lt;hashtag&gt; i...</td>\n",
              "      <td>Neutral</td>\n",
              "      <td>64</td>\n",
              "      <td>185</td>\n",
              "    </tr>\n",
              "  </tbody>\n",
              "</table>\n",
              "</div>\n",
              "      <button class=\"colab-df-convert\" onclick=\"convertToInteractive('df-c2383933-294d-4472-94e2-9f355b052dfe')\"\n",
              "              title=\"Convert this dataframe to an interactive table.\"\n",
              "              style=\"display:none;\">\n",
              "        \n",
              "  <svg xmlns=\"http://www.w3.org/2000/svg\" height=\"24px\"viewBox=\"0 0 24 24\"\n",
              "       width=\"24px\">\n",
              "    <path d=\"M0 0h24v24H0V0z\" fill=\"none\"/>\n",
              "    <path d=\"M18.56 5.44l.94 2.06.94-2.06 2.06-.94-2.06-.94-.94-2.06-.94 2.06-2.06.94zm-11 1L8.5 8.5l.94-2.06 2.06-.94-2.06-.94L8.5 2.5l-.94 2.06-2.06.94zm10 10l.94 2.06.94-2.06 2.06-.94-2.06-.94-.94-2.06-.94 2.06-2.06.94z\"/><path d=\"M17.41 7.96l-1.37-1.37c-.4-.4-.92-.59-1.43-.59-.52 0-1.04.2-1.43.59L10.3 9.45l-7.72 7.72c-.78.78-.78 2.05 0 2.83L4 21.41c.39.39.9.59 1.41.59.51 0 1.02-.2 1.41-.59l7.78-7.78 2.81-2.81c.8-.78.8-2.07 0-2.86zM5.41 20L4 18.59l7.72-7.72 1.47 1.35L5.41 20z\"/>\n",
              "  </svg>\n",
              "      </button>\n",
              "      \n",
              "  <style>\n",
              "    .colab-df-container {\n",
              "      display:flex;\n",
              "      flex-wrap:wrap;\n",
              "      gap: 12px;\n",
              "    }\n",
              "\n",
              "    .colab-df-convert {\n",
              "      background-color: #E8F0FE;\n",
              "      border: none;\n",
              "      border-radius: 50%;\n",
              "      cursor: pointer;\n",
              "      display: none;\n",
              "      fill: #1967D2;\n",
              "      height: 32px;\n",
              "      padding: 0 0 0 0;\n",
              "      width: 32px;\n",
              "    }\n",
              "\n",
              "    .colab-df-convert:hover {\n",
              "      background-color: #E2EBFA;\n",
              "      box-shadow: 0px 1px 2px rgba(60, 64, 67, 0.3), 0px 1px 3px 1px rgba(60, 64, 67, 0.15);\n",
              "      fill: #174EA6;\n",
              "    }\n",
              "\n",
              "    [theme=dark] .colab-df-convert {\n",
              "      background-color: #3B4455;\n",
              "      fill: #D2E3FC;\n",
              "    }\n",
              "\n",
              "    [theme=dark] .colab-df-convert:hover {\n",
              "      background-color: #434B5C;\n",
              "      box-shadow: 0px 1px 3px 1px rgba(0, 0, 0, 0.15);\n",
              "      filter: drop-shadow(0px 1px 2px rgba(0, 0, 0, 0.3));\n",
              "      fill: #FFFFFF;\n",
              "    }\n",
              "  </style>\n",
              "\n",
              "      <script>\n",
              "        const buttonEl =\n",
              "          document.querySelector('#df-c2383933-294d-4472-94e2-9f355b052dfe button.colab-df-convert');\n",
              "        buttonEl.style.display =\n",
              "          google.colab.kernel.accessAllowed ? 'block' : 'none';\n",
              "\n",
              "        async function convertToInteractive(key) {\n",
              "          const element = document.querySelector('#df-c2383933-294d-4472-94e2-9f355b052dfe');\n",
              "          const dataTable =\n",
              "            await google.colab.kernel.invokeFunction('convertToInteractive',\n",
              "                                                     [key], {});\n",
              "          if (!dataTable) return;\n",
              "\n",
              "          const docLinkHtml = 'Like what you see? Visit the ' +\n",
              "            '<a target=\"_blank\" href=https://colab.research.google.com/notebooks/data_table.ipynb>data table notebook</a>'\n",
              "            + ' to learn more about interactive tables.';\n",
              "          element.innerHTML = '';\n",
              "          dataTable['output_type'] = 'display_data';\n",
              "          await google.colab.output.renderOutput(dataTable, element);\n",
              "          const docLink = document.createElement('div');\n",
              "          docLink.innerHTML = docLinkHtml;\n",
              "          element.appendChild(docLink);\n",
              "        }\n",
              "      </script>\n",
              "    </div>\n",
              "  </div>\n",
              "  "
            ],
            "text/plain": [
              "                                          OriginalTweet  ... Token_lens\n",
              "2885  <hashtag> covid </hashtag> ? <number> ? face m...  ...        242\n",
              "1421  <allcaps> this </allcaps> <hashtag> coronoviru...  ...        232\n",
              "1460  <hashtag> covid 19 </hashtag> <number> protect...  ...        228\n",
              "709   <allcaps> nyc </allcaps> water . <allcaps> is ...  ...        226\n",
              "1384  <hashtag> covid 19 </hashtag> protection face ...  ...        225\n",
              "3738  <number> weeks <hashtag> lockdown </hashtag> !...  ...        207\n",
              "706   this panel by sid teles perfectly embodies the...  ...        205\n",
              "1015  <user> <user> this = as bad for the ? as the p...  ...        202\n",
              "2466  <hashtag> ohio coronavirus </hashtag> <hashtag...  ...        201\n",
              "2995  . <user> says it is out of <hashtag> stock </h...  ...        201\n",
              "2975  <hashtag> covid </hashtag> ? <number> <hashtag...  ...        199\n",
              "2499  just did not make <allcaps> any </allcaps> sen...  ...        198\n",
              "2572  stores selling out due to <hashtag> panic buyi...  ...        196\n",
              "1295  here a good and must buy deal for you . get <a...  ...        193\n",
              "225   so we  re <hashtag> washing hands </hashtag> m...  ...        193\n",
              "1485  <allcaps> dtf </allcaps> - don  t touch face <...  ...        192\n",
              "1459  face masks on stock online in europe regular p...  ...        190\n",
              "192   <allcaps> coronavirus effect on bond prices </...  ...        189\n",
              "2570  stores selling out due to <hashtag> panic buyi...  ...        188\n",
              "2956  long line outside a supermarket in <hashtag> i...  ...        185\n",
              "\n",
              "[20 rows x 4 columns]"
            ]
          },
          "metadata": {},
          "execution_count": 39
        }
      ]
    },
    {
      "cell_type": "code",
      "source": [
        "test = test.sample(frac=1).reset_index(drop=True)"
      ],
      "metadata": {
        "id": "jXT6_myqjdsv"
      },
      "execution_count": 40,
      "outputs": []
    },
    {
      "cell_type": "markdown",
      "source": [
        "##Train - Validation - Test split"
      ],
      "metadata": {
        "id": "63NgstHMjjj5"
      }
    },
    {
      "cell_type": "code",
      "source": [
        "X = train['OriginalTweet'].values\n",
        "y = train['Sentiment'].values"
      ],
      "metadata": {
        "id": "g5ePpRbiji8X"
      },
      "execution_count": 41,
      "outputs": []
    },
    {
      "cell_type": "code",
      "source": [
        "seed = 42"
      ],
      "metadata": {
        "id": "kIrfnj9zjhu_"
      },
      "execution_count": 42,
      "outputs": []
    },
    {
      "cell_type": "code",
      "source": [
        "X_train, X_valid, y_train, y_valid = train_test_split(X, y, test_size=0.1, stratify=y, random_state=seed)"
      ],
      "metadata": {
        "id": "jVvah2IfjpE3"
      },
      "execution_count": 43,
      "outputs": []
    },
    {
      "cell_type": "code",
      "source": [
        "X_test = test['OriginalTweet'].values\n",
        "y_test = test['Sentiment'].values"
      ],
      "metadata": {
        "id": "XaE8_l-rjqT3"
      },
      "execution_count": 44,
      "outputs": []
    },
    {
      "cell_type": "markdown",
      "source": [
        "##Label encoding"
      ],
      "metadata": {
        "id": "y7aueo4ujs-X"
      }
    },
    {
      "cell_type": "code",
      "source": [
        "def label_encoding(data):\n",
        "  label = preprocessing.LabelEncoder()\n",
        "  y = label.fit_transform(data)\n",
        "  y = to_categorical(y)\n",
        "  return y"
      ],
      "metadata": {
        "id": "sDn_cWaijrsP"
      },
      "execution_count": 45,
      "outputs": []
    },
    {
      "cell_type": "code",
      "source": [
        "y_valid = label_encoding(y_valid)\n",
        "y_test = label_encoding(y_test)\n",
        "y_train = label_encoding(y_train)"
      ],
      "metadata": {
        "id": "rF6EwmE2jxQX"
      },
      "execution_count": 46,
      "outputs": []
    },
    {
      "cell_type": "markdown",
      "source": [
        "##Sentiment Analysis"
      ],
      "metadata": {
        "id": "vrcPMMYojzsH"
      }
    },
    {
      "cell_type": "code",
      "source": [
        "MAX_LEN=256"
      ],
      "metadata": {
        "id": "TzWKATLmjyeP"
      },
      "execution_count": 47,
      "outputs": []
    },
    {
      "cell_type": "code",
      "source": [
        "def tokenize(data,max_len=MAX_LEN) :\n",
        "    input_ids = []\n",
        "    attention_masks = []\n",
        "    for i in range(len(data)):\n",
        "        encoded = tokenizer.encode_plus(\n",
        "            data[i],\n",
        "            add_special_tokens=True,\n",
        "            max_length=MAX_LEN,\n",
        "            padding='max_length',\n",
        "            return_attention_mask=True\n",
        "        )\n",
        "        input_ids.append(encoded['input_ids'])\n",
        "        attention_masks.append(encoded['attention_mask'])\n",
        "    return np.array(input_ids),np.array(attention_masks)"
      ],
      "metadata": {
        "id": "3u0JIBK2j22n"
      },
      "execution_count": 48,
      "outputs": []
    },
    {
      "cell_type": "code",
      "source": [
        "train_input_ids, train_attention_masks = tokenize(X_train, MAX_LEN)\n",
        "val_input_ids, val_attention_masks = tokenize(X_valid, MAX_LEN)\n",
        "test_input_ids, test_attention_masks = tokenize(X_test, MAX_LEN)"
      ],
      "metadata": {
        "id": "G01OcFl_j5W2"
      },
      "execution_count": 49,
      "outputs": []
    },
    {
      "cell_type": "markdown",
      "source": [
        "##Modeling"
      ],
      "metadata": {
        "id": "R8gXTuNdj8Oo"
      }
    },
    {
      "cell_type": "code",
      "source": [
        "bert_model = TFBertModel.from_pretrained('bert-base-uncased')"
      ],
      "metadata": {
        "colab": {
          "base_uri": "https://localhost:8080/",
          "height": 160,
          "referenced_widgets": [
            "4a9b4c7d3e454ff0bab2159790248764",
            "e7440d8636654bca9db43e4048c72de8",
            "01880d45de0a4df1a79efaf812db8355",
            "cc76bd0e773b4b4e9ffb222e65bfc54e",
            "e345f72ecfde4af9992259d1f5a84c35",
            "2c40b5446a7d4c73865c87df6c6ebb2e",
            "57f71c10cc4140ed9a05e673e2add9c9",
            "315cf3e6be7b42c8b9bef47ec059d2d4",
            "6173b3f2c0cc40c39272d4c09672b7d1",
            "f91b26d6f58248f0a5eb084d13fd4f4d",
            "d4da96d31a634260ad99d5c69b27c1f6"
          ]
        },
        "id": "7ZNH5A99j6wf",
        "outputId": "c0cc6c49-5d08-4e7f-afba-ef28447301b0"
      },
      "execution_count": 50,
      "outputs": [
        {
          "output_type": "display_data",
          "data": {
            "application/vnd.jupyter.widget-view+json": {
              "model_id": "4a9b4c7d3e454ff0bab2159790248764",
              "version_minor": 0,
              "version_major": 2
            },
            "text/plain": [
              "Downloading:   0%|          | 0.00/511M [00:00<?, ?B/s]"
            ]
          },
          "metadata": {}
        },
        {
          "output_type": "stream",
          "name": "stderr",
          "text": [
            "Some layers from the model checkpoint at bert-base-uncased were not used when initializing TFBertModel: ['nsp___cls', 'mlm___cls']\n",
            "- This IS expected if you are initializing TFBertModel from the checkpoint of a model trained on another task or with another architecture (e.g. initializing a BertForSequenceClassification model from a BertForPreTraining model).\n",
            "- This IS NOT expected if you are initializing TFBertModel from the checkpoint of a model that you expect to be exactly identical (initializing a BertForSequenceClassification model from a BertForSequenceClassification model).\n",
            "All the layers of TFBertModel were initialized from the model checkpoint at bert-base-uncased.\n",
            "If your task is similar to the task the model of the checkpoint was trained on, you can already use TFBertModel for predictions without further training.\n"
          ]
        }
      ]
    },
    {
      "cell_type": "code",
      "source": [
        "def create_model(bert_model, max_len=MAX_LEN):\n",
        "    \n",
        "    ##params###\n",
        "    opt = tf.keras.optimizers.Adam(learning_rate=1e-5, decay=1e-7)\n",
        "    loss = tf.keras.losses.CategoricalCrossentropy()\n",
        "    accuracy = tf.keras.metrics.CategoricalAccuracy()\n",
        "\n",
        "\n",
        "    input_ids = tf.keras.Input(shape=(max_len,),dtype='int32')\n",
        "    \n",
        "    attention_masks = tf.keras.Input(shape=(max_len,),dtype='int32')\n",
        "    \n",
        "    embeddings = bert_model([input_ids,attention_masks])[1]\n",
        "    \n",
        "    output = tf.keras.layers.Dense(3, activation=\"softmax\")(embeddings)\n",
        "    \n",
        "    model = tf.keras.models.Model(inputs = [input_ids,attention_masks], outputs = output)\n",
        "    \n",
        "    model.compile(opt, loss=loss, metrics=accuracy)\n",
        "    \n",
        "    \n",
        "    return model"
      ],
      "metadata": {
        "id": "QnezNJsxkASv"
      },
      "execution_count": 51,
      "outputs": []
    },
    {
      "cell_type": "code",
      "source": [
        "model = create_model(bert_model, MAX_LEN)\n",
        "model.summary()"
      ],
      "metadata": {
        "colab": {
          "base_uri": "https://localhost:8080/"
        },
        "id": "xC_KGdNWkCKm",
        "outputId": "f1b1b9a3-812d-4fb7-e18d-3f0d85d23452"
      },
      "execution_count": 52,
      "outputs": [
        {
          "output_type": "stream",
          "name": "stdout",
          "text": [
            "Model: \"model\"\n",
            "__________________________________________________________________________________________________\n",
            " Layer (type)                   Output Shape         Param #     Connected to                     \n",
            "==================================================================================================\n",
            " input_1 (InputLayer)           [(None, 256)]        0           []                               \n",
            "                                                                                                  \n",
            " input_2 (InputLayer)           [(None, 256)]        0           []                               \n",
            "                                                                                                  \n",
            " tf_bert_model (TFBertModel)    TFBaseModelOutputWi  109482240   ['input_1[0][0]',                \n",
            "                                thPoolingAndCrossAt               'input_2[0][0]']                \n",
            "                                tentions(last_hidde                                               \n",
            "                                n_state=(None, 256,                                               \n",
            "                                 768),                                                            \n",
            "                                 pooler_output=(Non                                               \n",
            "                                e, 768),                                                          \n",
            "                                 past_key_values=No                                               \n",
            "                                ne, hidden_states=N                                               \n",
            "                                one, attentions=Non                                               \n",
            "                                e, cross_attentions                                               \n",
            "                                =None)                                                            \n",
            "                                                                                                  \n",
            " dense (Dense)                  (None, 3)            2307        ['tf_bert_model[0][1]']          \n",
            "                                                                                                  \n",
            "==================================================================================================\n",
            "Total params: 109,484,547\n",
            "Trainable params: 109,484,547\n",
            "Non-trainable params: 0\n",
            "__________________________________________________________________________________________________\n"
          ]
        }
      ]
    },
    {
      "cell_type": "code",
      "source": [
        "history_bert = model.fit([train_input_ids,train_attention_masks], y_train, validation_data=([val_input_ids,val_attention_masks], y_valid), epochs=4, batch_size=16)"
      ],
      "metadata": {
        "colab": {
          "base_uri": "https://localhost:8080/",
          "height": 190
        },
        "id": "U6WD4ewskDm3",
        "outputId": "09ab9b17-c09a-46b3-8d46-59eef52c2c05"
      },
      "execution_count": 1,
      "outputs": [
        {
          "output_type": "error",
          "ename": "NameError",
          "evalue": "ignored",
          "traceback": [
            "\u001b[0;31m---------------------------------------------------------------------------\u001b[0m",
            "\u001b[0;31mNameError\u001b[0m                                 Traceback (most recent call last)",
            "\u001b[0;32m<ipython-input-1-5d3fd1ce2a31>\u001b[0m in \u001b[0;36m<module>\u001b[0;34m()\u001b[0m\n\u001b[0;32m----> 1\u001b[0;31m \u001b[0mhistory_bert\u001b[0m \u001b[0;34m=\u001b[0m \u001b[0mmodel\u001b[0m\u001b[0;34m.\u001b[0m\u001b[0mfit\u001b[0m\u001b[0;34m(\u001b[0m\u001b[0;34m[\u001b[0m\u001b[0mtrain_input_ids\u001b[0m\u001b[0;34m,\u001b[0m\u001b[0mtrain_attention_masks\u001b[0m\u001b[0;34m]\u001b[0m\u001b[0;34m,\u001b[0m \u001b[0my_train\u001b[0m\u001b[0;34m,\u001b[0m \u001b[0mvalidation_data\u001b[0m\u001b[0;34m=\u001b[0m\u001b[0;34m(\u001b[0m\u001b[0;34m[\u001b[0m\u001b[0mval_input_ids\u001b[0m\u001b[0;34m,\u001b[0m\u001b[0mval_attention_masks\u001b[0m\u001b[0;34m]\u001b[0m\u001b[0;34m,\u001b[0m \u001b[0my_valid\u001b[0m\u001b[0;34m)\u001b[0m\u001b[0;34m,\u001b[0m \u001b[0mepochs\u001b[0m\u001b[0;34m=\u001b[0m\u001b[0;36m4\u001b[0m\u001b[0;34m,\u001b[0m \u001b[0mbatch_size\u001b[0m\u001b[0;34m=\u001b[0m\u001b[0;36m16\u001b[0m\u001b[0;34m)\u001b[0m\u001b[0;34m\u001b[0m\u001b[0;34m\u001b[0m\u001b[0m\n\u001b[0m",
            "\u001b[0;31mNameError\u001b[0m: name 'model' is not defined"
          ]
        }
      ]
    },
    {
      "cell_type": "markdown",
      "source": [
        "#BERT Result"
      ],
      "metadata": {
        "id": "UwhaKZmPkMHp"
      }
    },
    {
      "cell_type": "code",
      "source": [
        "result_bert = model.predict([test_input_ids,test_attention_masks])"
      ],
      "metadata": {
        "id": "Hlpa2ncIkJ-X"
      },
      "execution_count": null,
      "outputs": []
    },
    {
      "cell_type": "code",
      "source": [
        "y_pred_bert =  np.zeros_like(result_bert)\n",
        "y_pred_bert[np.arange(len(y_pred_bert)), result_bert.argmax(1)] = 1"
      ],
      "metadata": {
        "id": "SxgAN6iYkQ1W"
      },
      "execution_count": null,
      "outputs": []
    },
    {
      "cell_type": "code",
      "source": [
        "def conf_matrix(y, y_pred, title):\n",
        "    fig, ax =plt.subplots(figsize=(5,5))\n",
        "    labels=['Negative', 'Neutral', 'Positive']\n",
        "    ax=sns.heatmap(confusion_matrix(y, y_pred), annot=True, cmap=\"Blues\", fmt='g', cbar=False, annot_kws={\"size\":25})\n",
        "    plt.title(title, fontsize=20)\n",
        "    ax.xaxis.set_ticklabels(labels, fontsize=17) \n",
        "    ax.yaxis.set_ticklabels(labels, fontsize=17)\n",
        "    ax.set_ylabel('Test', fontsize=20)\n",
        "    ax.set_xlabel('Predicted', fontsize=20)\n",
        "    plt.show()"
      ],
      "metadata": {
        "id": "y-5lPhYVkSD4"
      },
      "execution_count": null,
      "outputs": []
    },
    {
      "cell_type": "code",
      "source": [
        "from sklearn.metrics import accuracy_score, f1_score\n",
        "from sklearn.metrics import classification_report, confusion_matrix"
      ],
      "metadata": {
        "id": "1c05gi_7kTLP"
      },
      "execution_count": null,
      "outputs": []
    },
    {
      "cell_type": "code",
      "source": [
        "conf_matrix(y_test.argmax(1), y_pred_bert.argmax(1),'BERT Sentiment Analysis\\nConfusion Matrix')"
      ],
      "metadata": {
        "id": "LXdK2b8ukU3W"
      },
      "execution_count": null,
      "outputs": []
    }
  ]
}